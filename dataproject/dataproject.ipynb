{
 "cells": [
  {
   "cell_type": "code",
   "execution_count": 4,
   "metadata": {},
   "outputs": [],
   "source": [
    "import pandas as pd\n",
    "import numpy as np\n",
    "import matplotlib.pyplot as plt"
   ]
  },
  {
   "cell_type": "code",
   "execution_count": 5,
   "metadata": {},
   "outputs": [
    {
     "ename": "FileNotFoundError",
     "evalue": "[Errno 2] No such file or directory: 'C:/Users/kaspe/.vscode/projects-2024-rune-co/projects-2024-rune-co/dataproject/DataProject_raw.xlsx'",
     "output_type": "error",
     "traceback": [
      "\u001b[1;31m---------------------------------------------------------------------------\u001b[0m",
      "\u001b[1;31mFileNotFoundError\u001b[0m                         Traceback (most recent call last)",
      "Cell \u001b[1;32mIn[5], line 4\u001b[0m\n\u001b[0;32m      1\u001b[0m \u001b[38;5;66;03m#Download dataset DataProject_raw.xlsx and save where you like, then input path below \u001b[39;00m\n\u001b[0;32m      2\u001b[0m \u001b[38;5;66;03m#(remember to replace '\\' with '\\\\' or '/' in the path):\u001b[39;00m\n\u001b[1;32m----> 4\u001b[0m dfxG \u001b[38;5;241m=\u001b[39m pd\u001b[38;5;241m.\u001b[39mread_excel(\u001b[38;5;124m'\u001b[39m\u001b[38;5;124mC:/Users/kaspe/.vscode/projects-2024-rune-co/projects-2024-rune-co/dataproject/DataProject_raw.xlsx\u001b[39m\u001b[38;5;124m'\u001b[39m, sheet_name\u001b[38;5;241m=\u001b[39m\u001b[38;5;124m'\u001b[39m\u001b[38;5;124mxG\u001b[39m\u001b[38;5;124m'\u001b[39m)\n\u001b[0;32m      6\u001b[0m dfShots \u001b[38;5;241m=\u001b[39m pd\u001b[38;5;241m.\u001b[39mread_excel(\u001b[38;5;124m'\u001b[39m\u001b[38;5;124mC:/Users/kaspe/.vscode/projects-2024-rune-co/projects-2024-rune-co/dataproject/DataProject_raw.xlsx\u001b[39m\u001b[38;5;124m'\u001b[39m, sheet_name\u001b[38;5;241m=\u001b[39m\u001b[38;5;124m'\u001b[39m\u001b[38;5;124mShots\u001b[39m\u001b[38;5;124m'\u001b[39m)\n\u001b[0;32m      8\u001b[0m df \u001b[38;5;241m=\u001b[39m pd\u001b[38;5;241m.\u001b[39mmerge(dfxG, dfShots, on\u001b[38;5;241m=\u001b[39m[\u001b[38;5;124m'\u001b[39m\u001b[38;5;124mHome\u001b[39m\u001b[38;5;124m'\u001b[39m, \u001b[38;5;124m'\u001b[39m\u001b[38;5;124mAway\u001b[39m\u001b[38;5;124m'\u001b[39m])\n",
      "File \u001b[1;32mc:\\Users\\jakob\\anaconda3\\Lib\\site-packages\\pandas\\io\\excel\\_base.py:478\u001b[0m, in \u001b[0;36mread_excel\u001b[1;34m(io, sheet_name, header, names, index_col, usecols, dtype, engine, converters, true_values, false_values, skiprows, nrows, na_values, keep_default_na, na_filter, verbose, parse_dates, date_parser, date_format, thousands, decimal, comment, skipfooter, storage_options, dtype_backend)\u001b[0m\n\u001b[0;32m    476\u001b[0m \u001b[38;5;28;01mif\u001b[39;00m \u001b[38;5;129;01mnot\u001b[39;00m \u001b[38;5;28misinstance\u001b[39m(io, ExcelFile):\n\u001b[0;32m    477\u001b[0m     should_close \u001b[38;5;241m=\u001b[39m \u001b[38;5;28;01mTrue\u001b[39;00m\n\u001b[1;32m--> 478\u001b[0m     io \u001b[38;5;241m=\u001b[39m ExcelFile(io, storage_options\u001b[38;5;241m=\u001b[39mstorage_options, engine\u001b[38;5;241m=\u001b[39mengine)\n\u001b[0;32m    479\u001b[0m \u001b[38;5;28;01melif\u001b[39;00m engine \u001b[38;5;129;01mand\u001b[39;00m engine \u001b[38;5;241m!=\u001b[39m io\u001b[38;5;241m.\u001b[39mengine:\n\u001b[0;32m    480\u001b[0m     \u001b[38;5;28;01mraise\u001b[39;00m \u001b[38;5;167;01mValueError\u001b[39;00m(\n\u001b[0;32m    481\u001b[0m         \u001b[38;5;124m\"\u001b[39m\u001b[38;5;124mEngine should not be specified when passing \u001b[39m\u001b[38;5;124m\"\u001b[39m\n\u001b[0;32m    482\u001b[0m         \u001b[38;5;124m\"\u001b[39m\u001b[38;5;124man ExcelFile - ExcelFile already has the engine set\u001b[39m\u001b[38;5;124m\"\u001b[39m\n\u001b[0;32m    483\u001b[0m     )\n",
      "File \u001b[1;32mc:\\Users\\jakob\\anaconda3\\Lib\\site-packages\\pandas\\io\\excel\\_base.py:1496\u001b[0m, in \u001b[0;36mExcelFile.__init__\u001b[1;34m(self, path_or_buffer, engine, storage_options)\u001b[0m\n\u001b[0;32m   1494\u001b[0m     ext \u001b[38;5;241m=\u001b[39m \u001b[38;5;124m\"\u001b[39m\u001b[38;5;124mxls\u001b[39m\u001b[38;5;124m\"\u001b[39m\n\u001b[0;32m   1495\u001b[0m \u001b[38;5;28;01melse\u001b[39;00m:\n\u001b[1;32m-> 1496\u001b[0m     ext \u001b[38;5;241m=\u001b[39m inspect_excel_format(\n\u001b[0;32m   1497\u001b[0m         content_or_path\u001b[38;5;241m=\u001b[39mpath_or_buffer, storage_options\u001b[38;5;241m=\u001b[39mstorage_options\n\u001b[0;32m   1498\u001b[0m     )\n\u001b[0;32m   1499\u001b[0m     \u001b[38;5;28;01mif\u001b[39;00m ext \u001b[38;5;129;01mis\u001b[39;00m \u001b[38;5;28;01mNone\u001b[39;00m:\n\u001b[0;32m   1500\u001b[0m         \u001b[38;5;28;01mraise\u001b[39;00m \u001b[38;5;167;01mValueError\u001b[39;00m(\n\u001b[0;32m   1501\u001b[0m             \u001b[38;5;124m\"\u001b[39m\u001b[38;5;124mExcel file format cannot be determined, you must specify \u001b[39m\u001b[38;5;124m\"\u001b[39m\n\u001b[0;32m   1502\u001b[0m             \u001b[38;5;124m\"\u001b[39m\u001b[38;5;124man engine manually.\u001b[39m\u001b[38;5;124m\"\u001b[39m\n\u001b[0;32m   1503\u001b[0m         )\n",
      "File \u001b[1;32mc:\\Users\\jakob\\anaconda3\\Lib\\site-packages\\pandas\\io\\excel\\_base.py:1371\u001b[0m, in \u001b[0;36minspect_excel_format\u001b[1;34m(content_or_path, storage_options)\u001b[0m\n\u001b[0;32m   1368\u001b[0m \u001b[38;5;28;01mif\u001b[39;00m \u001b[38;5;28misinstance\u001b[39m(content_or_path, \u001b[38;5;28mbytes\u001b[39m):\n\u001b[0;32m   1369\u001b[0m     content_or_path \u001b[38;5;241m=\u001b[39m BytesIO(content_or_path)\n\u001b[1;32m-> 1371\u001b[0m \u001b[38;5;28;01mwith\u001b[39;00m get_handle(\n\u001b[0;32m   1372\u001b[0m     content_or_path, \u001b[38;5;124m\"\u001b[39m\u001b[38;5;124mrb\u001b[39m\u001b[38;5;124m\"\u001b[39m, storage_options\u001b[38;5;241m=\u001b[39mstorage_options, is_text\u001b[38;5;241m=\u001b[39m\u001b[38;5;28;01mFalse\u001b[39;00m\n\u001b[0;32m   1373\u001b[0m ) \u001b[38;5;28;01mas\u001b[39;00m handle:\n\u001b[0;32m   1374\u001b[0m     stream \u001b[38;5;241m=\u001b[39m handle\u001b[38;5;241m.\u001b[39mhandle\n\u001b[0;32m   1375\u001b[0m     stream\u001b[38;5;241m.\u001b[39mseek(\u001b[38;5;241m0\u001b[39m)\n",
      "File \u001b[1;32mc:\\Users\\jakob\\anaconda3\\Lib\\site-packages\\pandas\\io\\common.py:868\u001b[0m, in \u001b[0;36mget_handle\u001b[1;34m(path_or_buf, mode, encoding, compression, memory_map, is_text, errors, storage_options)\u001b[0m\n\u001b[0;32m    859\u001b[0m         handle \u001b[38;5;241m=\u001b[39m \u001b[38;5;28mopen\u001b[39m(\n\u001b[0;32m    860\u001b[0m             handle,\n\u001b[0;32m    861\u001b[0m             ioargs\u001b[38;5;241m.\u001b[39mmode,\n\u001b[1;32m   (...)\u001b[0m\n\u001b[0;32m    864\u001b[0m             newline\u001b[38;5;241m=\u001b[39m\u001b[38;5;124m\"\u001b[39m\u001b[38;5;124m\"\u001b[39m,\n\u001b[0;32m    865\u001b[0m         )\n\u001b[0;32m    866\u001b[0m     \u001b[38;5;28;01melse\u001b[39;00m:\n\u001b[0;32m    867\u001b[0m         \u001b[38;5;66;03m# Binary mode\u001b[39;00m\n\u001b[1;32m--> 868\u001b[0m         handle \u001b[38;5;241m=\u001b[39m \u001b[38;5;28mopen\u001b[39m(handle, ioargs\u001b[38;5;241m.\u001b[39mmode)\n\u001b[0;32m    869\u001b[0m     handles\u001b[38;5;241m.\u001b[39mappend(handle)\n\u001b[0;32m    871\u001b[0m \u001b[38;5;66;03m# Convert BytesIO or file objects passed with an encoding\u001b[39;00m\n",
      "\u001b[1;31mFileNotFoundError\u001b[0m: [Errno 2] No such file or directory: 'C:/Users/kaspe/.vscode/projects-2024-rune-co/projects-2024-rune-co/dataproject/DataProject_raw.xlsx'"
     ]
    }
   ],
   "source": [
    "#Download dataset DataProject_raw.xlsx and save where you like, then input path below \n",
    "#(remember to replace '\\' with '\\\\' or '/' in the path):\n",
    "\n",
    "dfxG = pd.read_excel('C:/Users/kaspe/.vscode/projects-2024-rune-co/projects-2024-rune-co/dataproject/DataProject_raw.xlsx', sheet_name='xG')\n",
    "\n",
    "dfShots = pd.read_excel('C:/Users/kaspe/.vscode/projects-2024-rune-co/projects-2024-rune-co/dataproject/DataProject_raw.xlsx', sheet_name='Shots')\n",
    "\n",
    "df = pd.merge(dfxG, dfShots, on=['Home', 'Away'])\n",
    "\n",
    "print(df)"
   ]
  },
  {
   "cell_type": "code",
   "execution_count": 10,
   "metadata": {},
   "outputs": [
    {
     "name": "stdout",
     "output_type": "stream",
     "text": [
      "     Wk            Home HomexG Score AwayxG             Away  HS  AS  FTHG  \\\n",
      "0     1  Crystal Palace    1.2   0–2      1          Arsenal  10  10     0   \n",
      "1     1          Fulham    1.2   2–2    1.2        Liverpool   9  11     2   \n",
      "2     1       Tottenham    1.5   4–1    0.5      Southampton  18  10     4   \n",
      "3     1   Newcastle Utd    1.7   2–0    0.3  Nott'ham Forest  23   5     2   \n",
      "4     1    Leeds United    0.8   2–1    1.3           Wolves  12  15     2   \n",
      "..   ..             ...    ...   ...    ...              ...  ..  ..   ...   \n",
      "375  38         Everton      1   1–0    0.5      Bournemouth  13   7     1   \n",
      "376  38  Leicester City    1.4   2–1    1.4         West Ham  13  16     2   \n",
      "377  38     Aston Villa    2.8   2–1    1.4         Brighton  12   8     2   \n",
      "378  38    Leeds United    1.5   1–4    2.2        Tottenham  19  11     1   \n",
      "379  38       Brentford    1.3   1–0    1.6  Manchester City  11  17     1   \n",
      "\n",
      "     FTAG HomexGShot AwayxGShot  HP  AP  \n",
      "0       2       0.12        0.1   0   3  \n",
      "1       2   0.133333   0.109091   1   1  \n",
      "2       1   0.083333       0.05   3   0  \n",
      "3       0   0.073913       0.06   3   0  \n",
      "4       1   0.066667   0.086667   3   0  \n",
      "..    ...        ...        ...  ..  ..  \n",
      "375     0   0.076923   0.071429   3   0  \n",
      "376     1   0.107692     0.0875   3   0  \n",
      "377     1   0.233333      0.175   3   0  \n",
      "378     4   0.078947        0.2   0   3  \n",
      "379     0   0.118182   0.094118   3   0  \n",
      "\n",
      "[380 rows x 14 columns]\n"
     ]
    }
   ],
   "source": [
    "df['HomexGShot'] = df['HomexG']/df['HS']\n",
    "df['AwayxGShot'] = df['AwayxG']/df['AS']\n",
    "\n",
    "df[\"HP\"] = 3*(df['FTHG']>df['FTAG']) + (df['FTHG']==df['FTAG'])\n",
    "df[\"AP\"] = 3*(df['FTAG']>df['FTHG']) + (df['FTHG']==df['FTAG'])\n",
    "\n",
    "print(df)"
   ]
  },
  {
   "cell_type": "code",
   "execution_count": 11,
   "metadata": {},
   "outputs": [
    {
     "name": "stdout",
     "output_type": "stream",
     "text": [
      "     Wk            Home HomexG Score AwayxG             Away  HS  AS  FTHG  \\\n",
      "0     1  Crystal Palace    1.2   0–2      1          Arsenal  10  10     0   \n",
      "1     1          Fulham    1.2   2–2    1.2        Liverpool   9  11     2   \n",
      "2     1       Tottenham    1.5   4–1    0.5      Southampton  18  10     4   \n",
      "3     1   Newcastle Utd    1.7   2–0    0.3  Nott'ham Forest  23   5     2   \n",
      "4     1    Leeds United    0.8   2–1    1.3           Wolves  12  15     2   \n",
      "..   ..             ...    ...   ...    ...              ...  ..  ..   ...   \n",
      "375  38         Everton      1   1–0    0.5      Bournemouth  13   7     1   \n",
      "376  38  Leicester City    1.4   2–1    1.4         West Ham  13  16     2   \n",
      "377  38     Aston Villa    2.8   2–1    1.4         Brighton  12   8     2   \n",
      "378  38    Leeds United    1.5   1–4    2.2        Tottenham  19  11     1   \n",
      "379  38       Brentford    1.3   1–0    1.6  Manchester City  11  17     1   \n",
      "\n",
      "     FTAG HomexGShot AwayxGShot  HP  AP  HomexP  AwayxP  \n",
      "0       2       0.12        0.1   0   3  1.5078  1.1877  \n",
      "1       2   0.133333   0.109091   1   1  1.3832  1.3292  \n",
      "2       1   0.083333       0.05   3   0  2.1178  0.6241  \n",
      "3       0   0.073913       0.06   3   0  2.4234  0.3684  \n",
      "4       1   0.066667   0.086667   3   0  0.9566  1.7561  \n",
      "..    ...        ...        ...  ..  ..     ...     ...  \n",
      "375     0   0.076923   0.071429   3   0  1.7772  0.8736  \n",
      "376     1   0.107692     0.0875   3   0  1.3611  1.3764  \n",
      "377     1   0.233333      0.175   3   0  2.2452  0.5838  \n",
      "378     4   0.078947        0.2   0   3  0.9155  1.8764  \n",
      "379     0   0.118182   0.094118   3   0  1.1560  1.5859  \n",
      "\n",
      "[380 rows x 16 columns]\n"
     ]
    }
   ],
   "source": [
    "#This will take 2-3 minutes to run. You can set n lower if you're impatient.\n",
    "\n",
    "n = 10000\n",
    "np.random.seed(1909)\n",
    "\n",
    "for index, row in df.iterrows():\n",
    "    HomeShots = []\n",
    "    for j in range(row['HS']):\n",
    "        HomeShots.append(row[\"HomexGShot\"])\n",
    "    \n",
    "    AwayShots = []\n",
    "    for j in range(row['AS']):\n",
    "        AwayShots.append(row[\"AwayxGShot\"])\n",
    "\n",
    "    team1wins = 0\n",
    "    draws = 0\n",
    "    team2wins = 0\n",
    "\n",
    "    for b in range(n):\n",
    "        team1goals = 0\n",
    "        team2goals = 0\n",
    "        for j in range(len(HomeShots)):\n",
    "            x = np.random.random()\n",
    "            if x < HomeShots[j]:\n",
    "                team1goals += 1\n",
    "        for k in range(len(AwayShots)):\n",
    "            y = np.random.random()\n",
    "            if y < AwayShots[k]:\n",
    "                team2goals += 1\n",
    "        if team1goals > team2goals:\n",
    "            team1wins += 1\n",
    "        elif team1goals < team2goals:\n",
    "            team2wins += 1\n",
    "        else:\n",
    "            draws += 1\n",
    "\n",
    "    team1points = team1wins *3 + draws\n",
    "    team2points = team2wins *3 + draws\n",
    "    \n",
    "    df.loc[index,\"HomexP\"] = team1points/n\n",
    "    df.loc[index,\"AwayxP\"] = team2points/n\n",
    "\n",
    "print(df)"
   ]
  },
  {
   "cell_type": "code",
   "execution_count": 12,
   "metadata": {},
   "outputs": [
    {
     "name": "stdout",
     "output_type": "stream",
     "text": [
      "               Team  Exp. Points  Points  Actual pos.  Difference\n",
      "1   Manchester City         80.6      89            1        -8.4\n",
      "2           Arsenal         70.6      84            2       -13.4\n",
      "3     Newcastle Utd         70.0      71            4        -1.0\n",
      "4          Brighton         66.8      62            6         4.8\n",
      "5         Liverpool         65.5      67            5        -1.5\n",
      "6    Manchester Utd         63.0      75            3       -12.0\n",
      "7         Tottenham         58.2      60            8        -1.8\n",
      "8         Brentford         57.3      59            9        -1.7\n",
      "9       Aston Villa         54.2      61            7        -6.8\n",
      "10          Chelsea         52.1      44           12         8.1\n",
      "11         West Ham         51.9      40           14        11.9\n",
      "12   Crystal Palace         45.8      45           11         0.8\n",
      "13   Leicester City         44.3      34           18        10.3\n",
      "14     Leeds United         42.7      31           19        11.7\n",
      "15           Fulham         42.6      52           10        -9.4\n",
      "16          Everton         40.1      36           17         4.1\n",
      "17      Southampton         38.0      25           20        13.0\n",
      "18  Nott'ham Forest         37.8      38           16        -0.2\n",
      "19           Wolves         37.6      41           13        -3.4\n",
      "20      Bournemouth         35.7      39           15        -3.3\n"
     ]
    }
   ],
   "source": [
    "homesum_df = df.groupby('Home').agg({'HomexP':\"sum\",\"HP\":\"sum\"}).reset_index() \n",
    "awaysum_df = df.groupby(\"Away\").agg({'AwayxP':\"sum\",\"AP\":\"sum\"}).reset_index()\n",
    "\n",
    "sums_df = pd.merge(homesum_df, awaysum_df, left_on='Home', right_on='Away')\n",
    "sums_df[\"Exp. Points\"] = sums_df[\"HomexP\"] + sums_df[\"AwayxP\"]\n",
    "sums_df[\"Points\"] = sums_df[\"HP\"] + sums_df[\"AP\"]\n",
    "\n",
    "\n",
    "sums_df = sums_df.rename(columns={\"Home\": \"Team\"}).drop(columns=[\"Away\",\"HomexP\",\"AwayxP\",\"HP\",\"AP\"]).sort_values(by=\"Exp. Points\",ascending=False)\n",
    "sums_df[\"Actual pos.\"] = sums_df[\"Points\"].rank(ascending=False).astype(int)\n",
    "sums_df[\"Difference\"] = sums_df[\"Exp. Points\"] - sums_df[\"Points\"]\n",
    "sums_df['Exp. Points'] = sums_df['Exp. Points'].round(1)\n",
    "sums_df['Difference'] = sums_df['Difference'].round(1)\n",
    "\n",
    "sums_df = sums_df.reset_index(drop=True)\n",
    "sums_df.index += 1\n",
    "print(sums_df)"
   ]
  },
  {
   "cell_type": "code",
   "execution_count": 2,
   "metadata": {},
   "outputs": [
    {
     "ename": "NameError",
     "evalue": "name 'sums_df' is not defined",
     "output_type": "error",
     "traceback": [
      "\u001b[1;31m---------------------------------------------------------------------------\u001b[0m",
      "\u001b[1;31mNameError\u001b[0m                                 Traceback (most recent call last)",
      "Cell \u001b[1;32mIn[2], line 6\u001b[0m\n\u001b[0;32m      4\u001b[0m fig, ax \u001b[38;5;241m=\u001b[39m plt\u001b[38;5;241m.\u001b[39msubplots()\n\u001b[0;32m      5\u001b[0m \u001b[38;5;66;03m# Creating indices for each group of bars\u001b[39;00m\n\u001b[1;32m----> 6\u001b[0m indices \u001b[38;5;241m=\u001b[39m \u001b[38;5;28mrange\u001b[39m(\u001b[38;5;28mlen\u001b[39m(sums_df[\u001b[38;5;124m'\u001b[39m\u001b[38;5;124mTeam\u001b[39m\u001b[38;5;124m'\u001b[39m]))\n\u001b[0;32m      8\u001b[0m \u001b[38;5;66;03m# Bar width\u001b[39;00m\n\u001b[0;32m      9\u001b[0m width \u001b[38;5;241m=\u001b[39m \u001b[38;5;241m0.3\u001b[39m\n",
      "\u001b[1;31mNameError\u001b[0m: name 'sums_df' is not defined"
     ]
    },
    {
     "data": {
      "image/png": "[encoded data removed]",
      "text/plain": [
       "<Figure size 640x480 with 1 Axes>"
      ]
     },
     "metadata": {},
     "output_type": "display_data"
    }
   ],
   "source": [
    "# Plotting\n",
    "fig, ax = plt.subplots()\n",
    "# Creating indices for each group of bars\n",
    "indices = range(len(sums_df['Team']))\n",
    "\n",
    "# Bar width\n",
    "width = 0.3\n",
    "\n",
    "# Plotting both actual and predicted points\n",
    "actual_bars = ax.bar(indices, df['Points'], width, label='Actual Points')\n",
    "predicted_bars = ax.bar([p + width for p in indices], df['Exp. Points'], width, label='Predicted Points')\n",
    "\n",
    "# Adding labels, title, and legend\n",
    "ax.set_xlabel('Team')\n",
    "ax.set_ylabel('Points')\n",
    "ax.set_title('Comparison of Actual and Predicted Points by Club')\n",
    "ax.set_xticks([p + width / 2 for p in indices])\n",
    "ax.set_xticklabels(df['Team'])\n",
    "ax.legend()\n",
    "\n",
    "# Show the plot\n",
    "plt.show()\n"
   ]
  }
 ],
 "metadata": {
  "kernelspec": {
   "display_name": "base",
   "language": "python",
   "name": "python3"
  },
  "language_info": {
   "codemirror_mode": {
    "name": "ipython",
    "version": 3
   },
   "file_extension": ".py",
   "mimetype": "text/x-python",
   "name": "python",
   "nbconvert_exporter": "python",
   "pygments_lexer": "ipython3",
   "version": "3.11.5"
  }
 },
 "nbformat": 4,
 "nbformat_minor": 2
}
