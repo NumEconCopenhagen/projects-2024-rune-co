{
 "cells": [
  {
   "cell_type": "code",
   "execution_count": 8,
   "metadata": {},
   "outputs": [],
   "source": [
    "import pandas as pd\n",
    "import numpy as np"
   ]
  },
  {
   "cell_type": "code",
   "execution_count": 9,
   "metadata": {},
   "outputs": [
    {
     "name": "stdout",
     "output_type": "stream",
     "text": [
      "     Wk            Home HomexG Score AwayxG             Away  HS  AS  FTHG  \\\n",
      "0     1  Crystal Palace    1.2   0–2      1          Arsenal  10  10     0   \n",
      "1     1          Fulham    1.2   2–2    1.2        Liverpool   9  11     2   \n",
      "2     1       Tottenham    1.5   4–1    0.5      Southampton  18  10     4   \n",
      "3     1   Newcastle Utd    1.7   2–0    0.3  Nott'ham Forest  23   5     2   \n",
      "4     1    Leeds United    0.8   2–1    1.3           Wolves  12  15     2   \n",
      "..   ..             ...    ...   ...    ...              ...  ..  ..   ...   \n",
      "375  38         Everton      1   1–0    0.5      Bournemouth  13   7     1   \n",
      "376  38  Leicester City    1.4   2–1    1.4         West Ham  13  16     2   \n",
      "377  38     Aston Villa    2.8   2–1    1.4         Brighton  12   8     2   \n",
      "378  38    Leeds United    1.5   1–4    2.2        Tottenham  19  11     1   \n",
      "379  38       Brentford    1.3   1–0    1.6  Manchester City  11  17     1   \n",
      "\n",
      "     FTAG  \n",
      "0       2  \n",
      "1       2  \n",
      "2       1  \n",
      "3       0  \n",
      "4       1  \n",
      "..    ...  \n",
      "375     0  \n",
      "376     1  \n",
      "377     1  \n",
      "378     4  \n",
      "379     0  \n",
      "\n",
      "[380 rows x 10 columns]\n"
     ]
    }
   ],
   "source": [
    "#Download dataset DataProject_raw.xlsx and save where you like, then input path below \n",
    "#(remember to replace '\\' with '\\\\' or '/' in the path):\n",
    "\n",
    "dfxG = pd.read_excel('C:/Users/kaspe/.vscode/projects-2024-rune-co/projects-2024-rune-co/dataproject/DataProject_raw.xlsx', sheet_name='xG')\n",
    "\n",
    "dfShots = pd.read_excel('C:/Users/kaspe/.vscode/projects-2024-rune-co/projects-2024-rune-co/dataproject/DataProject_raw.xlsx', sheet_name='Shots')\n",
    "\n",
    "df = pd.merge(dfxG, dfShots, on=['Home', 'Away'])\n",
    "\n",
    "print(df)"
   ]
  },
  {
   "cell_type": "code",
   "execution_count": 10,
   "metadata": {},
   "outputs": [
    {
     "name": "stdout",
     "output_type": "stream",
     "text": [
      "     Wk            Home HomexG Score AwayxG             Away  HS  AS  FTHG  \\\n",
      "0     1  Crystal Palace    1.2   0–2      1          Arsenal  10  10     0   \n",
      "1     1          Fulham    1.2   2–2    1.2        Liverpool   9  11     2   \n",
      "2     1       Tottenham    1.5   4–1    0.5      Southampton  18  10     4   \n",
      "3     1   Newcastle Utd    1.7   2–0    0.3  Nott'ham Forest  23   5     2   \n",
      "4     1    Leeds United    0.8   2–1    1.3           Wolves  12  15     2   \n",
      "..   ..             ...    ...   ...    ...              ...  ..  ..   ...   \n",
      "375  38         Everton      1   1–0    0.5      Bournemouth  13   7     1   \n",
      "376  38  Leicester City    1.4   2–1    1.4         West Ham  13  16     2   \n",
      "377  38     Aston Villa    2.8   2–1    1.4         Brighton  12   8     2   \n",
      "378  38    Leeds United    1.5   1–4    2.2        Tottenham  19  11     1   \n",
      "379  38       Brentford    1.3   1–0    1.6  Manchester City  11  17     1   \n",
      "\n",
      "     FTAG HomexGShot AwayxGShot  HP  AP  \n",
      "0       2       0.12        0.1   0   3  \n",
      "1       2   0.133333   0.109091   1   1  \n",
      "2       1   0.083333       0.05   3   0  \n",
      "3       0   0.073913       0.06   3   0  \n",
      "4       1   0.066667   0.086667   3   0  \n",
      "..    ...        ...        ...  ..  ..  \n",
      "375     0   0.076923   0.071429   3   0  \n",
      "376     1   0.107692     0.0875   3   0  \n",
      "377     1   0.233333      0.175   3   0  \n",
      "378     4   0.078947        0.2   0   3  \n",
      "379     0   0.118182   0.094118   3   0  \n",
      "\n",
      "[380 rows x 14 columns]\n"
     ]
    }
   ],
   "source": [
    "df['HomexGShot'] = df['HomexG']/df['HS']\n",
    "df['AwayxGShot'] = df['AwayxG']/df['AS']\n",
    "\n",
    "df[\"HP\"] = 3*(df['FTHG']>df['FTAG']) + (df['FTHG']==df['FTAG'])\n",
    "df[\"AP\"] = 3*(df['FTAG']>df['FTHG']) + (df['FTHG']==df['FTAG'])\n",
    "\n",
    "print(df)"
   ]
  },
  {
   "cell_type": "code",
   "execution_count": 11,
   "metadata": {},
   "outputs": [
    {
     "name": "stdout",
     "output_type": "stream",
     "text": [
      "     Wk            Home HomexG Score AwayxG             Away  HS  AS  FTHG  \\\n",
      "0     1  Crystal Palace    1.2   0–2      1          Arsenal  10  10     0   \n",
      "1     1          Fulham    1.2   2–2    1.2        Liverpool   9  11     2   \n",
      "2     1       Tottenham    1.5   4–1    0.5      Southampton  18  10     4   \n",
      "3     1   Newcastle Utd    1.7   2–0    0.3  Nott'ham Forest  23   5     2   \n",
      "4     1    Leeds United    0.8   2–1    1.3           Wolves  12  15     2   \n",
      "..   ..             ...    ...   ...    ...              ...  ..  ..   ...   \n",
      "375  38         Everton      1   1–0    0.5      Bournemouth  13   7     1   \n",
      "376  38  Leicester City    1.4   2–1    1.4         West Ham  13  16     2   \n",
      "377  38     Aston Villa    2.8   2–1    1.4         Brighton  12   8     2   \n",
      "378  38    Leeds United    1.5   1–4    2.2        Tottenham  19  11     1   \n",
      "379  38       Brentford    1.3   1–0    1.6  Manchester City  11  17     1   \n",
      "\n",
      "     FTAG HomexGShot AwayxGShot  HP  AP  HomexP  AwayxP  \n",
      "0       2       0.12        0.1   0   3  1.5078  1.1877  \n",
      "1       2   0.133333   0.109091   1   1  1.3832  1.3292  \n",
      "2       1   0.083333       0.05   3   0  2.1178  0.6241  \n",
      "3       0   0.073913       0.06   3   0  2.4234  0.3684  \n",
      "4       1   0.066667   0.086667   3   0  0.9566  1.7561  \n",
      "..    ...        ...        ...  ..  ..     ...     ...  \n",
      "375     0   0.076923   0.071429   3   0  1.7772  0.8736  \n",
      "376     1   0.107692     0.0875   3   0  1.3611  1.3764  \n",
      "377     1   0.233333      0.175   3   0  2.2452  0.5838  \n",
      "378     4   0.078947        0.2   0   3  0.9155  1.8764  \n",
      "379     0   0.118182   0.094118   3   0  1.1560  1.5859  \n",
      "\n",
      "[380 rows x 16 columns]\n"
     ]
    }
   ],
   "source": [
    "#This will take 2-3 minutes to run. You can set n lower if you're impatient.\n",
    "\n",
    "n = 10000\n",
    "np.random.seed(1909)\n",
    "\n",
    "for index, row in df.iterrows():\n",
    "    HomeShots = []\n",
    "    for j in range(row['HS']):\n",
    "        HomeShots.append(row[\"HomexGShot\"])\n",
    "    \n",
    "    AwayShots = []\n",
    "    for j in range(row['AS']):\n",
    "        AwayShots.append(row[\"AwayxGShot\"])\n",
    "\n",
    "    team1wins = 0\n",
    "    draws = 0\n",
    "    team2wins = 0\n",
    "\n",
    "    for b in range(n):\n",
    "        team1goals = 0\n",
    "        team2goals = 0\n",
    "        for j in range(len(HomeShots)):\n",
    "            x = np.random.random()\n",
    "            if x < HomeShots[j]:\n",
    "                team1goals += 1\n",
    "        for k in range(len(AwayShots)):\n",
    "            y = np.random.random()\n",
    "            if y < AwayShots[k]:\n",
    "                team2goals += 1\n",
    "        if team1goals > team2goals:\n",
    "            team1wins += 1\n",
    "        elif team1goals < team2goals:\n",
    "            team2wins += 1\n",
    "        else:\n",
    "            draws += 1\n",
    "\n",
    "    team1points = team1wins *3 + draws\n",
    "    team2points = team2wins *3 + draws\n",
    "    \n",
    "    df.loc[index,\"HomexP\"] = team1points/n\n",
    "    df.loc[index,\"AwayxP\"] = team2points/n\n",
    "\n",
    "print(df)"
   ]
  },
  {
   "cell_type": "code",
   "execution_count": 12,
   "metadata": {},
   "outputs": [
    {
     "name": "stdout",
     "output_type": "stream",
     "text": [
      "               Team  Exp. Points  Points  Actual pos.  Difference\n",
      "1   Manchester City         80.6      89            1        -8.4\n",
      "2           Arsenal         70.6      84            2       -13.4\n",
      "3     Newcastle Utd         70.0      71            4        -1.0\n",
      "4          Brighton         66.8      62            6         4.8\n",
      "5         Liverpool         65.5      67            5        -1.5\n",
      "6    Manchester Utd         63.0      75            3       -12.0\n",
      "7         Tottenham         58.2      60            8        -1.8\n",
      "8         Brentford         57.3      59            9        -1.7\n",
      "9       Aston Villa         54.2      61            7        -6.8\n",
      "10          Chelsea         52.1      44           12         8.1\n",
      "11         West Ham         51.9      40           14        11.9\n",
      "12   Crystal Palace         45.8      45           11         0.8\n",
      "13   Leicester City         44.3      34           18        10.3\n",
      "14     Leeds United         42.7      31           19        11.7\n",
      "15           Fulham         42.6      52           10        -9.4\n",
      "16          Everton         40.1      36           17         4.1\n",
      "17      Southampton         38.0      25           20        13.0\n",
      "18  Nott'ham Forest         37.8      38           16        -0.2\n",
      "19           Wolves         37.6      41           13        -3.4\n",
      "20      Bournemouth         35.7      39           15        -3.3\n"
     ]
    }
   ],
   "source": [
    "homesum_df = df.groupby('Home').agg({'HomexP':'sum','HP':'sum','HGD':'sum','FTHG':'sum'}).reset_index() \n",
    "awaysum_df = df.groupby('Away').agg({'AwayxP':'sum','AP':'sum','AGD':'sum','FTAG':'sum'}).reset_index()\n",
    "\n",
    "sums_df = pd.merge(homesum_df, awaysum_df, left_on='Home', right_on='Away')\n",
    "sums_df['Exp. Points'] = sums_df['HomexP'] + sums_df['AwayxP']\n",
    "sums_df['Points'] = sums_df['HP'] + sums_df['AP']\n",
    "sums_df['Goal Diff.'] = sums_df['HGD'] + sums_df['AGD']\n",
    "sums_df['Goals'] = sums_df['FTHG'] + sums_df['FTAG']\n",
    "\n",
    "sums_df_sorted = sums_df.sort_values(by=['Points', 'Goal Diff.', 'Goals'], ascending=[False, False, False])\n",
    "sums_df_sorted['Actual pos.'] = sums_df.reset_index().index + 1\n",
    "sums_df['Actual pos.'] = sums_df_sorted['Actual pos.']\n",
    "sums_df['Difference'] = sums_df['Exp. Points'] - sums_df['Points']\n",
    "sums_df['Exp. Points'] = sums_df['Exp. Points'].round(1)\n",
    "sums_df['Difference'] = sums_df['Difference'].round(1)\n",
    "sums_df = sums_df.rename(columns={'Home': 'Team'}).drop(columns=['Away','HomexP','AwayxP','FTHG','FTAG','HP','AP','HGD','AGD','Goals','Goal Diff.']).sort_values(by='Exp. Points',ascending=False)\n",
    "\n",
    "\n",
    "sums_df = sums_df.reset_index(drop=True)\n",
    "sums_df.index += 1\n",
    "print(sums_df)"
   ]
  }
 ],
 "metadata": {
  "kernelspec": {
   "display_name": "base",
   "language": "python",
   "name": "python3"
  },
  "language_info": {
   "codemirror_mode": {
    "name": "ipython",
    "version": 3
   },
   "file_extension": ".py",
   "mimetype": "text/x-python",
   "name": "python",
   "nbconvert_exporter": "python",
   "pygments_lexer": "ipython3",
   "version": "3.11.7"
  }
 },
 "nbformat": 4,
 "nbformat_minor": 2
}
