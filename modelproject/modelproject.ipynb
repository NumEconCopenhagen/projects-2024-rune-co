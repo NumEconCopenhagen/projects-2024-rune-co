{
 "cells": [
  {
   "cell_type": "markdown",
   "metadata": {},
   "source": [
    "# YOUR PROJECT TITLE"
   ]
  },
  {
   "attachments": {},
   "cell_type": "markdown",
   "metadata": {},
   "source": [
    "> **Note the following:** \n",
    "> 1. This is *not* meant to be an example of an actual **model analysis project**, just an example of how to structure such a project.\n",
    "> 1. Remember the general advice on structuring and commenting your code\n",
    "> 1. The `modelproject.py` file includes a function which could be used multiple times in this notebook."
   ]
  },
  {
   "cell_type": "markdown",
   "metadata": {},
   "source": [
    "Imports and set magics:"
   ]
  },
  {
   "cell_type": "code",
   "execution_count": 2,
   "metadata": {},
   "outputs": [],
   "source": [
    "import numpy as np\n",
    "from scipy import optimize\n",
    "from scipy.optimize import minimize, minimize_scalar\n",
    "import sympy as sm\n",
    "\n",
    "# autoreload modules when code is run\n",
    "%load_ext autoreload\n",
    "%autoreload 2\n",
    "\n",
    "# local modules\n",
    "from modelproject import *"
   ]
  },
  {
   "cell_type": "markdown",
   "metadata": {},
   "source": [
    "## Robinson Crusoe Economy Model\n",
    "\n",
    "We consider a simplified economy consisting of only one inhabitant, Robinson Crusoe, living in a world where only two goods exist: $x_1$ and $x_2$.\n",
    "\n",
    "#### Utility Function\n",
    "\n",
    "Robinson derives utility from these goods through the following Cobb-Douglas utility function:\n",
    "\n",
    "$$\n",
    "U(x_1, x_2) = x_1^\\alpha x_2^{1-\\alpha}\n",
    "$$\n",
    "\n",
    "where $0 < \\alpha < 1$. This parameter, $\\alpha$, represents Robinson's relative preference for $x_1$ over $x_2$, highlighting the substitutability and relative importance of each good in satisfying his utility.\n",
    "\n",
    "#### Production Function\n",
    "\n",
    "Robinson can produce $x_2$ by converting $x_1$ through a production process described by:\n",
    "\n",
    "$$\n",
    "f(z) = z^\\beta\n",
    "$$\n",
    "\n",
    "where $z$ represents the quantity of $x_1$ allocated to the production of $x_2$, and $0 < \\beta < 1$ indicates diminishing returns to scale in the production of $x_2$. This production function encapsulates the physical transformation of $x_1$ into $x_2$ with efficiency determined by $\\beta$.\n",
    "\n",
    "### Model Solution\n",
    "\n",
    "To solve this model, we aim to find an optimal allocation of goods $(x_1, x_2)$ such that no other feasible allocation yields higher utility for Robinson. The constraints of the model are defined by Robinson’s total endowments and his production capabilities, which can be expressed as:\n",
    "\n",
    "$$\n",
    "x_1 = e_1 - z\n",
    "$$\n",
    "\n",
    "$$\n",
    "x_2 = e_2 + f(z)\n",
    "$$\n",
    "\n",
    "Here, \\(e_1\\) and \\(e_2\\) are Robinson's initial endowments of goods \\(x_1\\) and \\(x_2\\) respectively. The goal is to determine the value of \\(z\\) that maximizes Robinson's utility given his initial endowments and the production technology available to him, hence solving the following maximization problem:\n",
    "\n",
    "$$\n",
    "\\max_{x_1,x_2}{u(x_1,x_2)} \\space \\space u.c. \\space \\space x_1 = e_1 - z, \\space \\space x_2 = e_2 + f(z)\n",
    "$$\n",
    "\n",
    "As preferences are assumed to be convex and production is concave, the problem can be solved by\n",
    "\n",
    "$$\n",
    "MRS = TRS\n",
    "$$\n",
    "\n",
    "For $0<\\beta<1$, there is no algebraic solution for this problem, hence we proceed to a numerical approach in the following\n"
   ]
  },
  {
   "cell_type": "markdown",
   "metadata": {},
   "source": [
    "## Numerical solution"
   ]
  },
  {
   "cell_type": "markdown",
   "metadata": {},
   "source": [
    "We start out by solving the simple model generating random endowments, preference and production efficiency."
   ]
  },
  {
   "cell_type": "code",
   "execution_count": 71,
   "metadata": {},
   "outputs": [
    {
     "name": "stdout",
     "output_type": "stream",
     "text": [
      "Robinson Crusoe: Optimal x1: 0.54, Optimal x2: 0.69, Optimal u: 0.60 \n"
     ]
    }
   ],
   "source": [
    "# Set seed\n",
    "np.random.seed(0)\n",
    "\n",
    "# Generating parameters\n",
    "alpha = np.random.random()\n",
    "beta = np.random.random()\n",
    "e1 = np.random.random()\n",
    "e2 = np.random.random()\n",
    "\n",
    "# Utility function\n",
    "def u(x1, x2, alpha):\n",
    "    return x1**alpha * x2**(1-alpha)\n",
    "\n",
    "# Production function\n",
    "def f(z, beta):\n",
    "    return z**beta\n",
    "\n",
    "# Function to minimize (-utility)\n",
    "def objective_no_trade(x1, alpha, beta, e1, e2):\n",
    "    z = e1 - x1\n",
    "    x2 = e2 + f(z, beta)\n",
    "    return -u(x1, x2, alpha)\n",
    "\n",
    "# x1 must be between 0 and e1\n",
    "bounds = (0, e1)\n",
    "\n",
    "# Perform the minimization\n",
    "result = minimize_scalar(objective_no_trade, bounds=bounds, method='bounded', args=(alpha, beta, e1, e2))\n",
    "\n",
    "# Maximizing values\n",
    "x1_max = result.x\n",
    "z_max = e1 - x1_max\n",
    "x2_max = e2 + f(z_max, beta)\n",
    "u_max = u(x1_max, x2_max, alpha)\n",
    "\n",
    "print(f\"Robinson Crusoe: Optimal x1: {x1_max:.2f}, Optimal x2: {x2_max:.2f}, Optimal u: {u_max:.2f} \")"
   ]
  },
  {
   "cell_type": "markdown",
   "metadata": {},
   "source": [
    "Next we proceed by adding more people to the economy. We assume that all inhabitants have similar utility and production functions, but their preference, efficiency and endowments vary. Hence, we generate a random $\\alpha$, $\\beta$, $e_1$ and $e_2$ for each inhabitant."
   ]
  },
  {
   "cell_type": "code",
   "execution_count": null,
   "metadata": {},
   "outputs": [],
   "source": [
    "# Number of people\n",
    "N = 10\n",
    "\n",
    "# Set seed\n",
    "np.random.seed(0)\n",
    "\n",
    "# Parameters\n",
    "alphas = np.random.random()\n",
    "betas = np.random.random()\n",
    "e1 = np.random.random() * 10\n",
    "e2 = np.random.random() * 10"
   ]
  },
  {
   "cell_type": "markdown",
   "metadata": {},
   "source": [
    "We start out by deriving each habitant's initial utility based on endowments"
   ]
  },
  {
   "cell_type": "code",
   "execution_count": null,
   "metadata": {},
   "outputs": [],
   "source": []
  },
  {
   "cell_type": "markdown",
   "metadata": {},
   "source": [
    "Next, we allow people in the economy to trade. We find Wallrasian equilibrium and derive each habitant's utility."
   ]
  },
  {
   "cell_type": "code",
   "execution_count": null,
   "metadata": {},
   "outputs": [],
   "source": []
  },
  {
   "cell_type": "markdown",
   "metadata": {},
   "source": [
    "Next, we allow disallow people to trade, but instead allow them to produce."
   ]
  },
  {
   "cell_type": "code",
   "execution_count": null,
   "metadata": {},
   "outputs": [],
   "source": []
  },
  {
   "cell_type": "markdown",
   "metadata": {},
   "source": [
    "Finally, we also allow for people to produce and derive habitant's utility in Wallrasian equilibrium"
   ]
  },
  {
   "cell_type": "code",
   "execution_count": null,
   "metadata": {},
   "outputs": [],
   "source": []
  },
  {
   "cell_type": "markdown",
   "metadata": {},
   "source": [
    "# Conclusion"
   ]
  },
  {
   "cell_type": "markdown",
   "metadata": {},
   "source": [
    "In conclusion, we find that both allowing for trade and production seperately allows for pareto improvements due to an expansion of each inhabitant's consumption possibility frontier. Same conlcusions hold when allowing for trade in the economy, where only habitants "
   ]
  }
 ],
 "metadata": {
  "kernelspec": {
   "display_name": "base",
   "language": "python",
   "name": "python3"
  },
  "language_info": {
   "codemirror_mode": {
    "name": "ipython",
    "version": 3
   },
   "file_extension": ".py",
   "mimetype": "text/x-python",
   "name": "python",
   "nbconvert_exporter": "python",
   "pygments_lexer": "ipython3",
   "version": "3.11.5"
  },
  "toc-autonumbering": true,
  "vscode": {
   "interpreter": {
    "hash": "47ef90cdf3004d3f859f1fb202523c65c07ba7c22eefd261b181f4744e2d0403"
   }
  }
 },
 "nbformat": 4,
 "nbformat_minor": 4
}
