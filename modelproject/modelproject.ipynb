{
 "cells": [
  {
   "cell_type": "markdown",
   "metadata": {},
   "source": [
    "# YOUR PROJECT TITLE"
   ]
  },
  {
   "attachments": {},
   "cell_type": "markdown",
   "metadata": {},
   "source": [
    "> **Note the following:** \n",
    "> 1. This is *not* meant to be an example of an actual **model analysis project**, just an example of how to structure such a project.\n",
    "> 1. Remember the general advice on structuring and commenting your code\n",
    "> 1. The `modelproject.py` file includes a function which could be used multiple times in this notebook."
   ]
  },
  {
   "cell_type": "markdown",
   "metadata": {},
   "source": [
    "Imports and set magics:"
   ]
  },
  {
   "cell_type": "code",
   "execution_count": 2,
   "metadata": {},
   "outputs": [],
   "source": [
    "import numpy as np\n",
    "from scipy import optimize\n",
    "from scipy.optimize import minimize, minimize_scalar\n",
    "import sympy as sm\n",
    "\n",
    "# autoreload modules when code is run\n",
    "%load_ext autoreload\n",
    "%autoreload 2\n",
    "\n",
    "# local modules\n",
    "from modelproject import *"
   ]
  },
  {
   "cell_type": "code",
   "execution_count": 38,
   "metadata": {},
   "outputs": [
    {
     "name": "stdout",
     "output_type": "stream",
     "text": [
      "<class 'numpy.ndarray'>\n"
     ]
    }
   ],
   "source": [
    "N=100\n",
    "\n",
    "np.random.seed(44444444)\n",
    "\n",
    "alpha = np.random.uniform(low=0.1,high=0.9,size=N)\n",
    "beta = np.random.uniform(low=0.1,high=0.9,size=N)\n",
    "e1 =np.random.uniform(low=0,high=1,size=N)\n",
    "e2 =np.random.uniform(low=0,high=1,size=N)"
   ]
  },
  {
   "cell_type": "code",
   "execution_count": 76,
   "metadata": {},
   "outputs": [],
   "source": [
    "def clear(alpha,beta,e1,e2,p1):\n",
    "   \n",
    "    #Maximizing income\n",
    "    s=0\n",
    "    I = []\n",
    "    s_ = []\n",
    "\n",
    "    for i in range(N):\n",
    "        bounds=[(0,e1[i])]\n",
    "        result = minimize(lambda s: -income(s,p1,e1[i],e2[i],beta[i]),s,method=\"SLSQP\", bounds=bounds)\n",
    "        I.append(-result.fun)\n",
    "        s_.append(result.x[0])\n",
    "\n",
    "    #Demand\n",
    "    x1 = []\n",
    "    x2 = []\n",
    "    for i in range(N):\n",
    "        x1.append(demand1(alpha[i],I[i],p1))\n",
    "        x2.append(demand2(alpha[i],I[i]))\n",
    "\n",
    "    #Excess demand\n",
    "    return abs(excessdemand1(e1,x1))\n",
    "    #eps2 = excessdemand2(e2,x2)"
   ]
  },
  {
   "cell_type": "code",
   "execution_count": 77,
   "metadata": {},
   "outputs": [
    {
     "name": "stdout",
     "output_type": "stream",
     "text": [
      " message: Optimization terminated successfully\n",
      " success: True\n",
      "  status: 0\n",
      "     fun: 4.164505895687398e-08\n",
      "       x: [ 1.131e+00]\n",
      "     nit: 9\n",
      "     jac: [-3.618e+01]\n",
      "    nfev: 33\n",
      "    njev: 9\n"
     ]
    }
   ],
   "source": [
    "p1=1\n",
    "result = minimize(la\n",
    "                  mbda p1: clear(alpha,beta,e1,e2,p1),p1,method=\"SLSQP\",bounds=[(0,np.inf)])\n",
    "print(result)\n",
    "\n",
    "p1_fin = result.fun"
   ]
  },
  {
   "cell_type": "code",
   "execution_count": 78,
   "metadata": {},
   "outputs": [
    {
     "name": "stdout",
     "output_type": "stream",
     "text": [
      "[0.5557989737316995, 0.8763133837162929, 0.18161868026874245, 0.2727748721844789, 0.4092360836652157, 0.6052415595288811, 0.08729739944813686, 0.2641152627681052, 0.2632092350487931, 0.8663363694790671, 0.6349410493256628, 0.5988291494985626, 0.5706489574943906, 0.770338603093861, 0.35471945069386146, 0.5999745210091427, 0.4457832607127352, 1.4662901535331423, 0.58847156969997, 0.21529738473849352, 1.1977260861842423, 0.23337001812141697, 0.7476094544417883, 0.8341712435784506, 0.6430131224949507, 0.9054084972892944, 0.6568979766121188, 1.2097246757025482, 1.1363921547136857, 0.4227711515787053, 0.33288809196757874, 0.4534709941596766, 0.6775236448408231, 1.5181565678698512, 0.48179915043823507, 0.2541529780464229, 0.5412895714730541, 0.5322681286824303, 0.6177714614850511, 0.8132606692307958, 1.152634164473859, 1.0234410385230828, 0.4031693743999287, 1.2580664801173829, 0.25105248943734687, 0.6555198414928814, 0.9206147401682784, 0.5699671347689937, 1.1195476832761742, 0.3161891391034659, 0.4723478230986759, 1.6671423962701848, 0.9893493807455994, 0.594321434437645, 0.1992416344930187, 0.5646656808013256, 0.19097919894570084, 0.2702477368102689, 0.3177264785625421, 0.1856724297292137, 1.3068397257134188, 0.19621039566156562, 0.20410698287840567, 0.2212900822657441, 0.9276864075491345, 0.2404155608297506, 0.28963980295853525, 0.09024549213229191, 0.42685740868389666, 0.4697321392170528, 0.2550023235749126, 0.22001045035431674, 0.4752222671202764, 1.4464678597604144, 1.141918429883185, 0.2924069485309444, 0.22664305556153058, 0.23671685422703007, 0.29023599123560034, 0.36994825092684147, 0.8870187274444111, 1.2916478206651925, 0.40364400047299565, 0.7659928103589563, 1.288517097749418, 0.8553265058208883, 0.11141690117016814, 0.3752062022980458, 1.4853035522926072, 0.6681362024665012, 0.4505859763016085, 0.7085888210848408, 0.14756027200111202, 0.5179228692054637, 0.6357901056111399, 0.07574417566466676, 0.2758759306377662, 0.0942498883297704, 0.9111401427102042, 0.15531888766663518]\n",
      "[0.7650366229859185, 0.5912375087619539, 0.46475206351127035, 0.08633935427086634, 1.603325516986939, 0.9261808228293309, 0.21851054732990427, 0.976150088173038, 0.6805351203333088, 0.5078006007142424, 0.886992688098578, 0.3941804947705368, 0.50830332898911, 0.14567652785640425, 0.9752539092616767, 1.2404131701883334, 0.8989981174335114, 0.39412911672901907, 1.5489795100013315, 1.6897408946979966, 0.3926219808174082, 0.3236874263645795, 0.6496368528582469, 0.7881992020045444, 0.3450663823211624, 1.105606740511887, 0.8831287152734149, 0.2644932845985403, 0.19466211157489846, 1.385840622938096, 0.9863840629050822, 0.8504979278272942, 0.4017905793456102, 0.7418585837206767, 1.0242924038942267, 0.40796906433719715, 0.529038290114463, 1.0799532428221024, 1.373585371895286, 0.5089359224100414, 0.37423936106653377, 0.31229607127774495, 0.4079424379234452, 0.38754699869000114, 0.41373525922917614, 0.18984857310428835, 0.1249525957636798, 1.2723147738861893, 0.1250045673695379, 0.5808843388285883, 0.6769573132341155, 0.32163231519716445, 0.7089985514780109, 0.727084212937623, 0.8500983176082267, 0.9213090514700705, 0.5554985600760458, 1.0689067527435923, 0.8082245701873251, 1.10260289624867, 0.8208368800888048, 0.9011975220682934, 1.1312659302615047, 0.3263040446687906, 0.9881789362190236, 0.7473440071344808, 0.5434868788501572, 0.7558383554329349, 1.5256598183455146, 0.7803999995988595, 0.20034006552826739, 0.8078461104278138, 0.5331449723021966, 0.3331662093248614, 0.7669975433961688, 0.12990660480308502, 1.3054912653264545, 1.633580634854069, 0.816914756292094, 1.1901661073283476, 0.2760299418150435, 0.27168429427235, 0.8844055443800923, 0.6009833261135257, 0.6352381563291959, 1.0492190133454244, 0.73635100428974, 0.777126059911998, 0.5904509263737543, 1.0381007611636084, 0.09979729564118874, 0.57023219768642, 0.6382640011926746, 0.5996357696805473, 0.47425796387361596, 0.6247775241390722, 1.3533182298097448, 0.7233839824237954, 0.5901462055616227, 1.3975151646066517]\n",
      "[0.6227897894430872, 0.22788670050672452, 0.0, 0.0, 0.7256641563524685, 0.766628878566791, 0.0, 0.3455205563124324, 0.0, 0.0, 0.6447348334954135, 0.478495336153543, 0.3951997737366313, 0.4104378373325168, 0.29675829046686136, 0.5082924570402998, 0.6036376432530351, 0.16597416053998115, 0.7059695016474548, 0.329789118889193, 0.6796302405366691, 0.0, 0.1924724157150632, 0.6372886326841785, 0.0, 0.854328724325038, 0.16810003696016704, 0.628160912277348, 0.465237157529487, 0.584092892579702, 0.32894710705931696, 0.4994312272695296, 0.2626576791028528, 0.8019262860609913, 0.6034385711453686, 0.2256811364322261, 0.40756991281831184, 0.7842196236924363, 0.6426339965885846, 0.0, 0.32327489574191026, 0.5002762096302706, 0.31127247427169225, 0.538409952442691, 0.0, 0.0, 0.49367732735145653, 0.1902721871149448, 0.10990892586953008, 0.12357412566133069, 0.29593407438108943, 0.8051315282436127, 0.39502208166480524, 0.2468682246801235, 0.5927659565271092, 0.22822530602686303, 0.06906681615453353, 0.0, 0.0, 0.0670105743728965, 0.5537590826919956, 0.0, 0.04030961219919942, 0.0925118568358746, 0.5484670121604519, 0.0, 0.14864289513785076, 0.0, 0.5771064869374194, 0.15802426304347358, 0.0, 0.5094060892713226, 0.0, 0.46827889600134665, 0.742303363471505, 0.0, 0.18240351272390679, 0.5073902846108814, 0.004326614382334837, 0.31733148498209063, 0.0, 0.48852743796593306, 0.46729283959213397, 0.2449364130005799, 0.6537975259296674, 0.5175501210776989, 0.28007361608160725, 0.07431494058009212, 0.6756747983525024, 0.618519050879496, 0.0, 0.43115486650642293, 0.02620202138114472, 0.08170405031294527, 0.4335999011485064, 0.0, 0.17141118488965407, 0.11101071898861582, 0.6169683526319819, 0.5400889418023738]\n",
      "[1.320835596717618, 1.4675508924782468, 0.6463707437800128, 0.3591142264553452, 2.0125616006521545, 1.531422382358212, 0.30580794677804113, 1.2402653509411432, 0.9437443553821019, 1.3741369701933095, 1.5219337374242408, 0.9930096442690993, 1.0789522864835006, 0.9160151309502653, 1.3299733599555381, 1.8403876911974761, 1.3447813781462465, 1.8604192702621614, 2.1374510797013015, 1.90503827943649, 1.5903480670016503, 0.5570574444859965, 1.3972463073000352, 1.622370445582995, 0.9880795048161131, 2.0110152378011814, 1.5400266918855336, 1.4742179603010885, 1.3310542662885843, 1.8086117745168013, 1.319272154872661, 1.3039689219869708, 1.0793142241864333, 2.260015151590528, 1.5060915543324618, 0.66212204238362, 1.0703278615875171, 1.6122213715045328, 1.991356833380337, 1.3221965916408371, 1.5268735255403927, 1.3357371098008277, 0.8111118123233739, 1.645613478807384, 0.664787748666523, 0.8453684145971698, 1.0455673359319582, 1.842281908655183, 1.244552250645712, 0.8970734779320542, 1.1493051363327913, 1.9887747114673493, 1.6983479322236104, 1.321405647375268, 1.0493399521012454, 1.485974732271396, 0.7464777590217466, 1.3391544895538612, 1.1259510487498672, 1.2882753259778839, 2.1276766058022236, 1.097407917729859, 1.3353729131399104, 0.5475941269345347, 1.915865343768158, 0.9877595679642314, 0.8331266818086924, 0.8460838475652267, 1.952517227029411, 1.2501321388159123, 0.45534238910318, 1.0278565607821306, 1.008367239422473, 1.7796340690852757, 1.908915973279354, 0.4223135533340294, 1.5321343208879852, 1.870297489081099, 1.1071507475276943, 1.560114358255189, 1.1630486692594546, 1.5633321149375425, 1.288049544853088, 1.366976136472482, 1.9237552540786138, 1.9045455191663128, 0.8477679054599081, 1.1523322622100438, 2.0757544786663615, 1.7062369636301096, 0.5503832719427972, 1.2788210187712608, 0.7858242731937866, 1.117558638886011, 1.1100480694847559, 0.7005216998037389, 1.629194160447511, 0.8176338707535659, 1.5012863482718268, 1.5528340522732869]\n"
     ]
    }
   ],
   "source": [
    "print(x1)\n",
    "print(x2)\n",
    "print(s_)\n",
    "print(I)"
   ]
  },
  {
   "cell_type": "code",
   "execution_count": 75,
   "metadata": {},
   "outputs": [
    {
     "name": "stdout",
     "output_type": "stream",
     "text": [
      "4.91412639106894\n",
      "[0.6227897894430872, 0.22788670050672452, 0.0, 0.0, 0.7256641563524685, 0.766628878566791, 0.0, 0.3455205563124324, 0.0, 0.0, 0.6447348334954135, 0.478495336153543, 0.3951997737366313, 0.4104378373325168, 0.29675829046686136, 0.5082924570402998, 0.6036376432530351, 0.16597416053998115, 0.7059695016474548, 0.329789118889193, 0.6796302405366691, 0.0, 0.1924724157150632, 0.6372886326841785, 0.0, 0.854328724325038, 0.16810003696016704, 0.628160912277348, 0.465237157529487, 0.584092892579702, 0.32894710705931696, 0.4994312272695296, 0.2626576791028528, 0.8019262860609913, 0.6034385711453686, 0.2256811364322261, 0.40756991281831184, 0.7842196236924363, 0.6426339965885846, 0.0, 0.32327489574191026, 0.5002762096302706, 0.31127247427169225, 0.538409952442691, 0.0, 0.0, 0.49367732735145653, 0.1902721871149448, 0.10990892586953008, 0.12357412566133069, 0.29593407438108943, 0.8051315282436127, 0.39502208166480524, 0.2468682246801235, 0.5927659565271092, 0.22822530602686303, 0.06906681615453353, 0.0, 0.0, 0.0670105743728965, 0.5537590826919956, 0.0, 0.04030961219919942, 0.0925118568358746, 0.5484670121604519, 0.0, 0.14864289513785076, 0.0, 0.5771064869374194, 0.15802426304347358, 0.0, 0.5094060892713226, 0.0, 0.46827889600134665, 0.742303363471505, 0.0, 0.18240351272390679, 0.5073902846108814, 0.004326614382334837, 0.31733148498209063, 0.0, 0.48852743796593306, 0.46729283959213397, 0.2449364130005799, 0.6537975259296674, 0.5175501210776989, 0.28007361608160725, 0.07431494058009212, 0.6756747983525024, 0.618519050879496, 0.0, 0.43115486650642293, 0.02620202138114472, 0.08170405031294527, 0.4335999011485064, 0.0, 0.17141118488965407, 0.11101071898861582, 0.6169683526319819, 0.5400889418023738]\n"
     ]
    }
   ],
   "source": [
    "#Maximizing income\n",
    "s=0\n",
    "I = []\n",
    "s_ = []\n",
    "\n",
    "for i in range(N):\n",
    "    bounds=[(0,e1[i])]\n",
    "    result = minimize(lambda s: -income(s,p1,e1[i],e2[i],beta[i]),s,method=\"SLSQP\", bounds=bounds)\n",
    "    I.append(-result.fun)\n",
    "    s_.append(result.x[0])\n",
    "\n",
    "#Demand\n",
    "x1 = []\n",
    "x2 = []\n",
    "for i in range(N):\n",
    "    x1.append(demand1(alpha[i],I[i],p1))\n",
    "    x2.append(demand2(alpha[i],I[i]))\n",
    "\n",
    "#Excess demand\n",
    "print(abs(excessdemand1(e1,x1)))\n",
    "#eps2 = excessdemand2(e2,x2)\n",
    "print(s_)"
   ]
  },
  {
   "cell_type": "markdown",
   "metadata": {},
   "source": [
    "# Model description"
   ]
  },
  {
   "cell_type": "markdown",
   "metadata": {},
   "source": [
    "**Write out the model in equations here.** \n",
    "\n",
    "Make sure you explain well the purpose of the model and comment so that other students who may not have seen it before can follow.  "
   ]
  },
  {
   "cell_type": "markdown",
   "metadata": {},
   "source": [
    "## Analytical solution"
   ]
  },
  {
   "cell_type": "markdown",
   "metadata": {},
   "source": [
    "If your model allows for an analytical solution, you should provide here.\n",
    "\n",
    "You may use Sympy for this. Then you can characterize the solution as a function of a parameter of the model.\n",
    "\n",
    "To characterize the solution, first derive a steady state equation as a function of a parameter using Sympy.solve and then turn it into a python function by Sympy.lambdify. See the lecture notes for details. "
   ]
  },
  {
   "cell_type": "markdown",
   "metadata": {},
   "source": [
    "## Numerical solution"
   ]
  },
  {
   "cell_type": "markdown",
   "metadata": {},
   "source": [
    "You can always solve a model numerically. \n",
    "\n",
    "Define first the set of parameters you need. \n",
    "\n",
    "Then choose one of the optimization algorithms that we have gone through in the lectures based on what you think is most fitting for your model.\n",
    "\n",
    "Are there any problems with convergence? Does the model converge for all starting values? Make a lot of testing to figure these things out. "
   ]
  },
  {
   "cell_type": "code",
   "execution_count": 42,
   "metadata": {},
   "outputs": [
    {
     "name": "stdout",
     "output_type": "stream",
     "text": [
      "Robinson Crusoe: Optimal x1: 5.86, Optimal x2: 5.73, Optimal u: 5.80 \n"
     ]
    }
   ],
   "source": [
    "# Set seed\n",
    "np.random.seed(0)\n",
    "\n",
    "# Generating parameters\n",
    "alpha = np.random.random()\n",
    "beta = np.random.random()\n",
    "e1 = np.random.random()*10\n",
    "e2 = np.random.random()*10\n",
    "\n",
    "# Utility function\n",
    "def u(x1, x2, alpha):\n",
    "    return x1**alpha * x2**(1-alpha)\n",
    "\n",
    "# Production function\n",
    "def f(z, beta):\n",
    "    return z**beta\n",
    "\n",
    "# Function to minimize (-utility)\n",
    "def objective_no_trade(x1, alpha, beta, e1, e2):\n",
    "    z = e1 - x1\n",
    "    x2 = e2 + f(z, beta)\n",
    "    return -u(x1, x2, alpha)\n",
    "\n",
    "# x1 must be between 0 and e1\n",
    "bounds = (0, e1)\n",
    "\n",
    "# Perform the minimization\n",
    "result = minimize_scalar(objective_no_trade, bounds=bounds, method='bounded', args=(alpha, beta, e1, e2))\n",
    "\n",
    "# Maximizing values\n",
    "x1_max = result.x\n",
    "z_max = e1 - x1_max\n",
    "x2_max = e2 + f(z_max, beta)\n",
    "u_max = u(x1_max, x2_max, alpha)\n",
    "\n",
    "print(f\"Robinson Crusoe: Optimal x1: {x1_max:.2f}, Optimal x2: {x2_max:.2f}, Optimal u: {u_max:.2f} \")"
   ]
  },
  {
   "cell_type": "code",
   "execution_count": 43,
   "metadata": {},
   "outputs": [
    {
     "name": "stdout",
     "output_type": "stream",
     "text": [
      "Optimal x1: 4.24, x2: 8.54, x3: 5.30, Maximum Utility: 5.47\n"
     ]
    }
   ],
   "source": [
    "# Set the seed for reproducibility\n",
    "np.random.seed(0)\n",
    "\n",
    "# Parameters\n",
    "alpha1 = np.random.random()\n",
    "alpha2 = np.random.random() * (1 - alpha1)\n",
    "beta1 = np.random.random()\n",
    "beta2 = np.random.random()\n",
    "e1 = np.random.random() * 10\n",
    "e2 = np.random.random() * 10\n",
    "e3 = np.random.random() * 10\n",
    "\n",
    "# Utility function\n",
    "def u(x1, x2, x3, alpha1, alpha2):\n",
    "    return x1**alpha1 * x2**alpha2 * x3**(1 - alpha1 - alpha2)\n",
    "\n",
    "# Production functions\n",
    "def f1(z1, beta1):\n",
    "    return z1**beta1\n",
    "\n",
    "def f2(z2, beta2):\n",
    "    return z2**beta2\n",
    "\n",
    "# Objective function to minimize (-utility)\n",
    "def objective_no_trade(x, alpha1, alpha2, beta1, beta2, e1, e2, e3):\n",
    "    x1, z1, z2 = x\n",
    "    x2 = e2 + f1(z1, beta1)\n",
    "    x3 = e3 + f2(z2, beta2)\n",
    "    return -u(x1, x2, x3, alpha1, alpha2)\n",
    "\n",
    "# Constraints\n",
    "constraints = [\n",
    "    {'type': 'ineq', 'fun': lambda x: e1 - x[1] - x[2]},  # z1 + z2 must be <= e1\n",
    "    {'type': 'ineq', 'fun': lambda x: x[0]},  # x1 must be non-negative\n",
    "    {'type': 'ineq', 'fun': lambda x: x[1]},  # z1 must be non-negative\n",
    "    {'type': 'ineq', 'fun': lambda x: x[2]}   # z2 must be non-negative\n",
    "]\n",
    "\n",
    "# Initial guess\n",
    "x0 = [e1/3, e1/3, e1/3]\n",
    "\n",
    "# Bounds\n",
    "bounds = [(0, e1), (0, e1), (0, e1)]\n",
    "\n",
    "# Perform the minimization\n",
    "result = minimize(objective_no_trade, x0, args=(alpha1, alpha2, beta1, beta2, e1, e2, e3),\n",
    "                  method='SLSQP', bounds=bounds, constraints=constraints)\n",
    "\n",
    "# Extracting results\n",
    "if result.success:\n",
    "    x1_max, z1_max, z2_max = result.x\n",
    "    x2_max = e2 + f1(z1_max, beta1)\n",
    "    x3_max = e3 + f2(z2_max, beta2)\n",
    "    u_max = u(x1_max, x2_max, x3_max, alpha1, alpha2)\n",
    "    print(f\"Optimal x1: {x1_max:.2f}, x2: {x2_max:.2f}, x3: {x3_max:.2f}, Maximum Utility: {u_max:.2f}\")\n",
    "else:\n",
    "    print(\"Optimization failed.\")"
   ]
  },
  {
   "cell_type": "code",
   "execution_count": 44,
   "metadata": {},
   "outputs": [
    {
     "name": "stdout",
     "output_type": "stream",
     "text": [
      "Person 1:\n",
      " x1 (leisure): 7.40, x2 (good 2): 6.73, x3 (good 3): 5.97\n",
      " Utility: 6.96\n",
      "---------\n",
      "Person 2:\n",
      " x1 (leisure): 7.99, x2 (good 2): 6.29, x3 (good 3): 5.59\n",
      " Utility: 7.39\n",
      "---------\n",
      "Person 3:\n",
      " x1 (leisure): 4.61, x2 (good 2): 11.83, x3 (good 3): 4.88\n",
      " Utility: 6.74\n",
      "---------\n",
      "Person 4:\n",
      " x1 (leisure): 7.81, x2 (good 2): 10.13, x3 (good 3): 5.30\n",
      " Utility: 8.67\n",
      "---------\n",
      "Person 5:\n",
      " x1 (leisure): 0.39, x2 (good 2): 5.00, x3 (good 3): 5.00\n",
      " Utility: 1.70\n",
      "---------\n"
     ]
    }
   ],
   "source": [
    "# Number of people\n",
    "N = 5\n",
    "\n",
    "# Set seed\n",
    "np.random.seed(0)\n",
    "\n",
    "# Generating parameters for each person\n",
    "alphas1 = np.random.random(N)\n",
    "alphas2 = np.random.random(N) * (1-alpha1)\n",
    "betas1 = np.random.random(N)\n",
    "betas2 = np.random.random(N)\n",
    "e1s = np.random.random(N) * 10\n",
    "e2s = np.random.random(N) * 10\n",
    "e3s = np.random.random(N) * 10\n",
    "\n",
    "# Function to minimize (-utility)\n",
    "def objective_trade(x, alpha1, alpha2, beta1, beta2, e1, e2, e3, price):\n",
    "    x1, x2, x3, z1, z2 = x\n",
    "    income = f1(z1, beta1) * price + f2(z2, beta2)\n",
    "    expenditure = x2 * price + x3\n",
    "    budget = e2 * price + e3 + income - expenditure\n",
    "    if budget < 0:\n",
    "        return np.inf  # Penalty for negative budget\n",
    "    else:\n",
    "        return -u(x1, x2, x3, alpha1, alpha2)  # Minimize negative utility to maximize utility\n",
    "\n",
    "# Results storage\n",
    "results = []\n",
    "price = 1\n",
    "\n",
    "for i in range(N):\n",
    "    alpha1 = alphas1[i]\n",
    "    alpha2 = alphas2[i]\n",
    "    beta1 = betas1[i]\n",
    "    beta2 = betas2[i]\n",
    "    e1 = e1s[i]\n",
    "    e2 = e2s[i]\n",
    "    e3 = e3s[i]\n",
    "    \n",
    "    bounds = [(0, e1), (0, np.inf), (0, np.inf), (0, e1), (0, e1)]\n",
    "    initial_guess = [e1 / 3, 5, 5, e1 / 3, e1 / 3]\n",
    "    result = minimize(objective_trade, x0=initial_guess, args=(alpha1, alpha2, beta1, beta2, e1, e2, e3, price), bounds=bounds, method='SLSQP')\n",
    "    results.append(result)\n",
    "\n",
    "# Printing results\n",
    "for i, res in enumerate(results):\n",
    "    x1, x2, x3, z1, z2 = res.x\n",
    "    util = u(x1, x2, x3, alphas1[i], alphas2[i])\n",
    "    print(f\"Person {i+1}:\")\n",
    "    print(f\" x1 (leisure): {x1:.2f}, x2 (good 2): {x2:.2f}, x3 (good 3): {x3:.2f}\")\n",
    "    print(f\" Utility: {util:.2f}\")\n",
    "    print(\"---------\")\n",
    "\n"
   ]
  },
  {
   "cell_type": "markdown",
   "metadata": {},
   "source": [
    "# Further analysis"
   ]
  },
  {
   "cell_type": "markdown",
   "metadata": {},
   "source": [
    "Make detailed vizualizations of how your model changes with parameter values. \n",
    "\n",
    "Try to make an extension of the model. "
   ]
  },
  {
   "cell_type": "code",
   "execution_count": 42,
   "metadata": {},
   "outputs": [
    {
     "name": "stdout",
     "output_type": "stream",
     "text": [
      "Person 1: Optimal x1 = 8.48, Optimal x2 = 7.27, Optimal u = 7.44\n",
      "Person 2: Optimal x1 = 6.74, Optimal x2 = 9.61, Optimal u = 8.87\n",
      "Person 3: Optimal x1 = 4.80, Optimal x2 = 5.65, Optimal u = 4.88\n",
      "Person 4: Optimal x1 = 6.23, Optimal x2 = 7.26, Optimal u = 6.40\n",
      "Person 5: Optimal x1 = 6.78, Optimal x2 = 9.62, Optimal u = 9.19\n",
      "Person 6: Optimal x1 = 2.49, Optimal x2 = 9.38, Optimal u = 7.84\n",
      "Person 7: Optimal x1 = 1.32, Optimal x2 = 3.54, Optimal u = 2.71\n",
      "Person 8: Optimal x1 = 5.85, Optimal x2 = 7.89, Optimal u = 6.92\n",
      "Person 9: Optimal x1 = 6.40, Optimal x2 = 3.61, Optimal u = 6.09\n",
      "Person 10: Optimal x1 = 1.55, Optimal x2 = 3.20, Optimal u = 2.63\n"
     ]
    }
   ],
   "source": [
    "# Number of people\n",
    "N = 10\n",
    "\n",
    "# Extra production function\n",
    "def g(z, beta):\n",
    "    return z**beta\n",
    "\n",
    "# Generating parameters for each person\n",
    "alphas = np.random.random(N)\n",
    "betas1 = np.random.random(N)\n",
    "betas2 = np.random.random(N)\n",
    "e1s = np.random.random(N)*10\n",
    "e2s = np.random.random(N)*10\n",
    "e3s = np.random.random(N)*10\n",
    "\n",
    "# Function to minimize (-utility)\n",
    "def objective_N_no_trade(x1, alpha, beta1, beta2, e1, e2, e3):\n",
    "    z1 = e1 - x1 - z2\n",
    "    z2 = e2 - x1 - z1\n",
    "    x2 = e2 + f(z1, beta1)\n",
    "    x3 = e3 + g(z2,beta2)\n",
    "    return -u(x1, x2, alpha)\n",
    "\n",
    "# Results storage\n",
    "results = []\n",
    "\n",
    "for i in range(N):\n",
    "    alpha = alphas[i]\n",
    "    beta = betas[i]\n",
    "    e1 = e1s[i]\n",
    "    e2 = e2s[i]\n",
    "\n",
    "    # x1 must be between 0 and e1\n",
    "    bounds = (0, e1)\n",
    "\n",
    "    # Perform the minimization for the i-th person\n",
    "    result = minimize_scalar(objective_N_no_trade, bounds=bounds, method='bounded', args=(alpha, beta1, beta2, e1, e2, e3))\n",
    "\n",
    "    # Maximizing values\n",
    "    x1_max = result.x\n",
    "    z_max = e1 - x1_max\n",
    "    x2_max = e2 + f(z_max, beta)\n",
    "    u_max = u(x1_max, x2_max, alpha)\n",
    "\n",
    "    # Store results\n",
    "    results.append({\n",
    "        'Person': i+1,\n",
    "        'Optimal x1': x1_max,\n",
    "        'Optimal x2': x2_max,\n",
    "        'Optimal u': u_max\n",
    "    })\n",
    "\n",
    "# Print results for each person\n",
    "for result in results:\n",
    "    print(f\"Person {result['Person']}: Optimal x1 = {result['Optimal x1']:.2f}, Optimal x2 = {result['Optimal x2']:.2f}, Optimal u = {result['Optimal u']:.2f}\")"
   ]
  },
  {
   "cell_type": "code",
   "execution_count": 96,
   "metadata": {},
   "outputs": [
    {
     "name": "stdout",
     "output_type": "stream",
     "text": [
      "Optimal x1: 5.634219193593458, Optimal x2: 3.0894448565342842, Maximum Utility: 4.172122901861119\n"
     ]
    }
   ],
   "source": [
    "# Objective function to maximize utility subject to budget constraint\n",
    "def objective_trade(x, alpha, beta, e1, e2, price):\n",
    "    x1, x2 = x\n",
    "    z = e1 - x1\n",
    "    income = f(z, beta) * price\n",
    "    expenditure = x2 * price\n",
    "    budget = e2 * price + income - expenditure\n",
    "    if budget < 0:\n",
    "        return np.inf  # Penalty for negative budget\n",
    "    else:\n",
    "        return -u(x1, x2, alpha)\n"
   ]
  },
  {
   "cell_type": "markdown",
   "metadata": {},
   "source": [
    "# Conclusion"
   ]
  },
  {
   "cell_type": "markdown",
   "metadata": {},
   "source": [
    "Add concise conclusion. "
   ]
  }
 ],
 "metadata": {
  "kernelspec": {
   "display_name": "base",
   "language": "python",
   "name": "python3"
  },
  "language_info": {
   "codemirror_mode": {
    "name": "ipython",
    "version": 3
   },
   "file_extension": ".py",
   "mimetype": "text/x-python",
   "name": "python",
   "nbconvert_exporter": "python",
   "pygments_lexer": "ipython3",
   "version": "3.11.5"
  },
  "toc-autonumbering": true,
  "vscode": {
   "interpreter": {
    "hash": "47ef90cdf3004d3f859f1fb202523c65c07ba7c22eefd261b181f4744e2d0403"
   }
  }
 },
 "nbformat": 4,
 "nbformat_minor": 4
}
