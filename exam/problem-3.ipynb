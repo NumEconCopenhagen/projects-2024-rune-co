{
 "cells": [
  {
   "cell_type": "code",
   "execution_count": 2,
   "metadata": {},
   "outputs": [],
   "source": [
    "# Write your code here\n",
    "import numpy as np\n",
    "from types import SimpleNamespace"
   ]
  },
  {
   "cell_type": "markdown",
   "metadata": {},
   "source": [
    "## 3. <a id='toc3_'></a>[Problem 3: Barycentric interpolation](#toc0_)"
   ]
  },
  {
   "cell_type": "markdown",
   "metadata": {},
   "source": [
    "**Problem:** We have a set of random points in the unit square,\n",
    "\n",
    "$$\n",
    "\\mathcal{X} = \\{(x_1,x_2)\\,|\\,x_1\\sim\\mathcal{U}(0,1),x_2\\sim\\mathcal{U}(0,1)\\}.\n",
    "$$\n",
    "\n",
    "For these points, we know the value of some function $f(x_1,x_2)$,\n",
    "\n",
    "$$\n",
    "\\mathcal{F} = \\{f(x_1,x_2) \\,|\\, (x_1,x_2) \\in \\mathcal{X}\\}.\n",
    "$$\n",
    "\n",
    "Now we want to approximate the value $f(y_1,y_2)$ for some  $y=(y_1,y_2)$, where $y_1\\sim\\mathcal{U}(0,1)$ and $y_2\\sim\\mathcal{U}(0,1)$.\n",
    "\n",
    "**Building block I**\n",
    "\n",
    "For an arbitrary triangle $ABC$ and a point $y$, define the so-called barycentric coordinates as:\n",
    "\n",
    "$$\n",
    "\\begin{align*}\n",
    "  r^{ABC}_1 &= \\frac{(B_2-C_2)(y_1-C_1) + (C_1-B_1)(y_2-C_2)}{(B_2-C_2)(A_1-C_1) + (C_1-B_1)(A_2-C_2)} \\\\\n",
    "  r^{ABC}_2 &= \\frac{(C_2-A_2)(y_1-C_1) + (A_1-C_1)(y_2-C_2)}{(B_2-C_2)(A_1-C_1) + (C_1-B_1)(A_2-C_2)} \\\\\n",
    "  r^{ABC}_3 &= 1 - r_1 - r_2.\n",
    "\\end{align*}\n",
    "$$\n",
    "\n",
    "If $r^{ABC}_1 \\in [0,1]$, $r^{ABC}_2 \\in [0,1]$, and $r^{ABC}_3 \\in [0,1]$, then the point is inside the triangle.\n",
    "\n",
    "We always have $y = r^{ABC}_1 A + r^{ABC}_2 B + r^{ABC}_3 C$.\n",
    "\n",
    "**Building block II**\n",
    "\n",
    "Define the following points:\n",
    "\n",
    "$$\n",
    "\\begin{align*}\n",
    "A&=\\arg\\min_{(x_{1},x_{2})\\in\\mathcal{X}}\\sqrt{\\left(x_{1}-y_{1}\\right)^{2}+\\left(x_{2}-y_{2}\\right)^{2}}\\text{ s.t. }x_{1}>y_{1}\\text{ and }x_{2}>y_{2}\\\\\n",
    "B&=\\arg\\min_{(x_{1},x_{2})\\in\\mathcal{X}}\\sqrt{\\left(x_{1}-y_{1}\\right)^{2}+\\left(x_{2}-y_{2}\\right)^{2}}\\text{ s.t. }x_{1}>y_{1}\\text{ and }x_{2}<y_{2}\\\\\n",
    "C&=\\arg\\min_{(x_{1},x_{2})\\in\\mathcal{X}}\\sqrt{\\left(x_{1}-y_{1}\\right)^{2}+\\left(x_{2}-y_{2}\\right)^{2}}\\text{ s.t. }x_{1}<y_{1}\\text{ and }x_{2}<y_{2}\\\\\n",
    "D&=\\arg\\min_{(x_{1},x_{2})\\in\\mathcal{X}}\\sqrt{\\left(x_{1}-y_{1}\\right)^{2}+\\left(x_{2}-y_{2}\\right)^{2}}\\text{ s.t. }x_{1}<y_{1}\\text{ and }x_{2}>y_{2}.\n",
    "\\end{align*}\n",
    "$$\n",
    "\n",
    "**Algorithm:**\n",
    "\n",
    "1. Compute $A$, $B$, $C$, and $D$. If not possible return `NaN`.\n",
    "1. If $y$ is inside the triangle $ABC$ return $r^{ABC}_1 f(A) + r^{ABC}_2 f(B) + r^{ABC}_3 f(C)$.\n",
    "1. If $y$ is inside the triangle $CDA$ return $r^{CDA}_1 f(C) + r^{CDA}_2 f(D) + r^{CDA}_3 f(A)$.\n",
    "1. Return `NaN`.\n",
    "\n"
   ]
  },
  {
   "cell_type": "markdown",
   "metadata": {},
   "source": [
    "**Sample:**"
   ]
  },
  {
   "cell_type": "code",
   "execution_count": 70,
   "metadata": {},
   "outputs": [
    {
     "name": "stdout",
     "output_type": "stream",
     "text": [
      "[[0.67583134 0.2143232 ]\n",
      " [0.30945203 0.7994661 ]\n",
      " [0.9958021  0.14223182]\n",
      " [0.07872553 0.18082381]\n",
      " [0.35964689 0.16961925]\n",
      " [0.58875932 0.61680751]\n",
      " [0.10538568 0.56573105]\n",
      " [0.00462964 0.4651192 ]\n",
      " [0.9756222  0.79942844]\n",
      " [0.59682237 0.32534966]\n",
      " [0.20634391 0.44272557]\n",
      " [0.2780414  0.87495784]\n",
      " [0.21315735 0.274245  ]\n",
      " [0.80718199 0.26836533]\n",
      " [0.26806287 0.07088178]\n",
      " [0.46720881 0.26420544]\n",
      " [0.88894204 0.28631831]\n",
      " [0.77376693 0.48724486]\n",
      " [0.46801905 0.96493021]\n",
      " [0.89822733 0.07903432]\n",
      " [0.24520427 0.18478708]\n",
      " [0.9054749  0.55383204]\n",
      " [0.37165898 0.83389703]\n",
      " [0.34877258 0.68165405]\n",
      " [0.22835057 0.02387229]\n",
      " [0.69611898 0.33685277]\n",
      " [0.3419926  0.27584087]\n",
      " [0.25134374 0.57010553]\n",
      " [0.33385622 0.42559779]\n",
      " [0.20192981 0.50515967]\n",
      " [0.58538723 0.42030016]\n",
      " [0.40344687 0.94394282]\n",
      " [0.04821238 0.32607379]\n",
      " [0.51893133 0.59845416]\n",
      " [0.04229511 0.24125679]\n",
      " [0.05425634 0.00773076]\n",
      " [0.32209779 0.40699871]\n",
      " [0.85917435 0.01347645]\n",
      " [0.71623561 0.4569535 ]\n",
      " [0.58907501 0.14639442]\n",
      " [0.801959   0.37930291]\n",
      " [0.40981568 0.56582111]\n",
      " [0.26071605 0.43635845]\n",
      " [0.13481886 0.70289116]\n",
      " [0.10056103 0.27951775]\n",
      " [0.21852061 0.13162664]\n",
      " [0.54909114 0.19695716]\n",
      " [0.75116956 0.27987271]\n",
      " [0.9680081  0.56511272]\n",
      " [0.08797607 0.6202316 ]]\n"
     ]
    }
   ],
   "source": [
    "rng = np.random.default_rng(2024)\n",
    "\n",
    "X = rng.uniform(size=(50,2))\n",
    "y = rng.uniform(size=(2,))\n",
    "\n",
    "print(X)"
   ]
  },
  {
   "cell_type": "markdown",
   "metadata": {},
   "source": [
    "**Questions 1:** Find $A$, $B$, $C$ and $D$. Illustrate these together with $X$, $y$ and the triangles $ABC$ and $CDA$."
   ]
  },
  {
   "cell_type": "code",
   "execution_count": 34,
   "metadata": {},
   "outputs": [
    {
     "name": "stdout",
     "output_type": "stream",
     "text": [
      "Optimal values: x1 = 0.20901926122951642, x2 = 0.37774758728699737\n",
      "Minimum distance: 2.465720107482118e-15\n",
      "[0.20901926 0.37774759]\n",
      "0.20901926122951642\n",
      "[0.20901913 0.37774759]\n"
     ]
    }
   ],
   "source": [
    "#defining A, B, C and D\n",
    "from scipy.optimize import minimize\n",
    "\n",
    "# Define the objective function\n",
    "def objective(x, y1, y2):\n",
    "    x1, x2 = x\n",
    "    y1, y2 = y\n",
    "    return np.sqrt((x1 - y1)**2 + (x2 - y2)**2)\n",
    "\n",
    "# Define the constraint functions\n",
    "def constraint1(x):\n",
    "    return x[0] - y1\n",
    "\n",
    "def constraint2(x):\n",
    "    return y1 - x[0]\n",
    "\n",
    "def constraint3(x):\n",
    "    return x[1] - y2\n",
    "\n",
    "def constraint4(x):\n",
    "    return y2 - x[1]\n",
    "\n",
    "def constraint(x):\n",
    "    \n",
    "\n",
    "# Initial guess for x1 and x2\n",
    "x0A = np.array([y1 + 1, y2 + 1])\n",
    "x0B = np.array([y1 + 1, y2 - 1])\n",
    "x0C = np.array([y1 - 1, y2 - 1])\n",
    "x0D = np.array([y1 - 1, y2 + 1])\n",
    "\n",
    "\n",
    "# Define the constraints in the form expected by the optimizer\n",
    "constraintsA = [{'type': 'ineq', 'fun': constraint1},\n",
    "               {'type': 'ineq', 'fun': constraint3}]\n",
    "constraintsB = [{'type': 'ineq', 'fun': constraint1},\n",
    "               {'type': 'ineq', 'fun': constraint4}]\n",
    "constraintsC = [{'type': 'ineq', 'fun': constraint2},\n",
    "               {'type': 'ineq', 'fun': constraint4}]\n",
    "constraintsD = [{'type': 'ineq', 'fun': constraint2},\n",
    "               {'type': 'ineq', 'fun': constraint3}]\n",
    "\n",
    "\n",
    "# Perform the optimization\n",
    "resultA = minimize(objective, x0A, args=(y1, y2), constraints=constraintsA)\n",
    "resultB = minimize(objective, x0B, args=(y1, y2), constraints=constraintsB)\n",
    "resultC = minimize(objective, x0C, args=(y1, y2), constraints=constraintsC)\n",
    "resultD = minimize(objective, x0D, args=(y1, y2), constraints=constraintsD)\n",
    "\n",
    "A = np.array(resultA.x)\n",
    "B = np.array(resultB.x)\n",
    "C = np.array(resultC.x)\n",
    "D = np.array(resultD.x)"
   ]
  },
  {
   "cell_type": "code",
   "execution_count": 68,
   "metadata": {},
   "outputs": [
    {
     "name": "stdout",
     "output_type": "stream",
     "text": [
      "0.07815236144144315\n",
      "[0.26071605 0.43635845]\n",
      "[0.21315735 0.274245  ]\n",
      "[0.05425634 0.00773076]\n",
      "[0.20634391 0.44272557]\n"
     ]
    }
   ],
   "source": [
    "# write your answer here\n",
    "\n",
    "# Define the objective function\n",
    "def objective(x, y1, y2):\n",
    "    x1, x2 = x\n",
    "    y1, y2 = y\n",
    "    return np.sqrt((x1 - y1)**2 + (x2 - y2)**2)\n",
    "\n",
    "filtered_X_A = np.array([point for point in X if point[0] > y1 and point[1] > y2])\n",
    "filtered_X_B = np.array([point for point in X if point[0] > y1 and point[1] < y2])\n",
    "filtered_X_C = np.array([point for point in X if point[0] < y1 and point[1] < y2])\n",
    "filtered_X_D = np.array([point for point in X if point[0] < y1 and point[1] > y2])\n",
    "\n",
    "if len(filtered_X) == 0:\n",
    "    raise ValueError(\"NaN\")\n",
    "\n",
    "# Find the point in filtered_X that minimizes the objective function\n",
    "min_distance = float('inf')\n",
    "optimal_point = None\n",
    "for point in filtered_X_A:\n",
    "    dist = objective(point, y1, y2)\n",
    "    if dist < min_distance:\n",
    "        min_distance = dist\n",
    "        optimal_point_A = point\n",
    "\n",
    "for point in filtered_X_B:\n",
    "    dist = objective(point, y1, y2)\n",
    "    if dist < min_distance:\n",
    "        min_distance = dist\n",
    "        optimal_point_B = point\n",
    "\n",
    "for point in filtered_X_C:\n",
    "    dist = objective(point, y1, y2)\n",
    "    if dist < min_distance:\n",
    "        min_distance = dist\n",
    "        optimal_point_C = point\n",
    "\n",
    "for point in filtered_X_D:\n",
    "    dist = objective(point, y1, y2)\n",
    "    if dist < min_distance:\n",
    "        min_distance = dist\n",
    "        optimal_point_D = point\n",
    "\n",
    "# Assign the optimal values to vector A\n",
    "A = np.array(optimal_point_A)\n",
    "B = np.array(optimal_point_B)\n",
    "C = np.array(optimal_point_C)\n",
    "D = np.array(optimal_point_D)\n",
    "\n",
    "print(A)\n",
    "print(B)\n",
    "print(C)\n",
    "print(D)"
   ]
  },
  {
   "cell_type": "markdown",
   "metadata": {},
   "source": [
    "**Question 2:** Compute the barycentric coordinates of the point $y$ with respect to the triangles $ABC$ and $CDA$. Which triangle is $y$ located inside?"
   ]
  },
  {
   "cell_type": "code",
   "execution_count": 64,
   "metadata": {},
   "outputs": [
    {
     "name": "stdout",
     "output_type": "stream",
     "text": [
      "1.341202508298138 -0.7686632568499804 0.42746074855184235\n",
      "0.14280924403909337 0.40852605516600204 0.4486647007949046\n"
     ]
    }
   ],
   "source": [
    "# write your answer here\n",
    "\n",
    "r1ABC = ((B[1]-C[1])*(y[0]-C[0])+(C[0]-B[0])*(y[1]-C[1]))/((B[1]-C[1])*(A[0]-C[0])+(C[0]-B[0])*(A[1]-C[1]))\n",
    "r2ABC = ((C[1]-A[1])*(y[0]-C[0])+(A[0]-C[0])*(y[1]-C[1]))/((B[1]-C[1])*(A[0]-C[0])+(C[0]-B[0])*(A[1]-C[1]))\n",
    "r3ABC = 1-r1ABC-r2ABC\n",
    "\n",
    "print(r1ABC,r2ABC,r3ABC)\n",
    "\n",
    "r1CDA = ((D[1]-A[1])*(y[0]-A[0])+(A[0]-D[0])*(y[1]-A[1]))/((D[1]-A[1])*(C[0]-A[0])+(A[0]-D[0])*(C[1]-A[1]))\n",
    "r2CDA = ((A[1]-C[1])*(y[0]-A[0])+(C[0]-A[0])*(y[1]-A[1]))/((D[1]-A[1])*(C[0]-A[0])+(A[0]-D[0])*(C[1]-A[1]))\n",
    "r3CDA = 1-r1CDA-r2CDA\n",
    "\n",
    "print(r1CDA, r2CDA, r3CDA)"
   ]
  },
  {
   "cell_type": "markdown",
   "metadata": {},
   "source": [
    "Now consider the function:\n",
    "$$\n",
    "f(x_1,x_2) = x_1 \\cdot x_2\n",
    "$$"
   ]
  },
  {
   "cell_type": "code",
   "execution_count": 63,
   "metadata": {},
   "outputs": [],
   "source": [
    "f = lambda x: x[0]*x[1]\n",
    "F = np.array([f(x) for x in X])"
   ]
  },
  {
   "cell_type": "markdown",
   "metadata": {},
   "source": [
    "**Question 3:** Compute the approximation of $f(y)$ using the full algorithm. Compare with the true value."
   ]
  },
  {
   "cell_type": "code",
   "execution_count": 65,
   "metadata": {},
   "outputs": [
    {
     "data": {
      "text/plain": [
       "0.08842290988669628"
      ]
     },
     "execution_count": 65,
     "metadata": {},
     "output_type": "execute_result"
    }
   ],
   "source": [
    "# write your answer here\n",
    "\n",
    "r1CDA*f(C)+r2CDA*f(D)+r3CDA*f(A)"
   ]
  },
  {
   "cell_type": "markdown",
   "metadata": {},
   "source": [
    "**Question 4:** Repeat question 3 for all points in the set $Y$."
   ]
  },
  {
   "cell_type": "code",
   "execution_count": null,
   "metadata": {},
   "outputs": [],
   "source": [
    "Y = [(0.2,0.2),(0.8,0.2),(0.8,0.8),(0.8,0.2),(0.5,0.5)]"
   ]
  },
  {
   "cell_type": "code",
   "execution_count": null,
   "metadata": {},
   "outputs": [],
   "source": [
    "# write your answer here"
   ]
  }
 ],
 "metadata": {
  "kernelspec": {
   "display_name": "base",
   "language": "python",
   "name": "python3"
  },
  "language_info": {
   "codemirror_mode": {
    "name": "ipython",
    "version": 3
   },
   "file_extension": ".py",
   "mimetype": "text/x-python",
   "name": "python",
   "nbconvert_exporter": "python",
   "pygments_lexer": "ipython3",
   "version": "3.11.7"
  }
 },
 "nbformat": 4,
 "nbformat_minor": 2
}
