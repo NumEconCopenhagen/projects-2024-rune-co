{
 "cells": [
  {
   "cell_type": "code",
   "execution_count": 419,
   "metadata": {},
   "outputs": [],
   "source": [
    "# Write your code here\n",
    "import numpy as np\n",
    "from types import SimpleNamespace\n",
    "import matplotlib.pyplot as plt"
   ]
  },
  {
   "cell_type": "markdown",
   "metadata": {},
   "source": [
    "## 3. <a id='toc3_'></a>[Problem 3: Barycentric interpolation](#toc0_)"
   ]
  },
  {
   "cell_type": "markdown",
   "metadata": {},
   "source": [
    "**Problem:** We have a set of random points in the unit square,\n",
    "\n",
    "$$\n",
    "\\mathcal{X} = \\{(x_1,x_2)\\,|\\,x_1\\sim\\mathcal{U}(0,1),x_2\\sim\\mathcal{U}(0,1)\\}.\n",
    "$$\n",
    "\n",
    "For these points, we know the value of some function $f(x_1,x_2)$,\n",
    "\n",
    "$$\n",
    "\\mathcal{F} = \\{f(x_1,x_2) \\,|\\, (x_1,x_2) \\in \\mathcal{X}\\}.\n",
    "$$\n",
    "\n",
    "Now we want to approximate the value $f(y_1,y_2)$ for some  $y=(y_1,y_2)$, where $y_1\\sim\\mathcal{U}(0,1)$ and $y_2\\sim\\mathcal{U}(0,1)$.\n",
    "\n",
    "**Building block I**\n",
    "\n",
    "For an arbitrary triangle $ABC$ and a point $y$, define the so-called barycentric coordinates as:\n",
    "\n",
    "$$\n",
    "\\begin{align*}\n",
    "  r^{ABC}_1 &= \\frac{(B_2-C_2)(y_1-C_1) + (C_1-B_1)(y_2-C_2)}{(B_2-C_2)(A_1-C_1) + (C_1-B_1)(A_2-C_2)} \\\\\n",
    "  r^{ABC}_2 &= \\frac{(C_2-A_2)(y_1-C_1) + (A_1-C_1)(y_2-C_2)}{(B_2-C_2)(A_1-C_1) + (C_1-B_1)(A_2-C_2)} \\\\\n",
    "  r^{ABC}_3 &= 1 - r_1 - r_2.\n",
    "\\end{align*}\n",
    "$$\n",
    "\n",
    "If $r^{ABC}_1 \\in [0,1]$, $r^{ABC}_2 \\in [0,1]$, and $r^{ABC}_3 \\in [0,1]$, then the point is inside the triangle.\n",
    "\n",
    "We always have $y = r^{ABC}_1 A + r^{ABC}_2 B + r^{ABC}_3 C$.\n",
    "\n",
    "**Building block II**\n",
    "\n",
    "Define the following points:\n",
    "\n",
    "$$\n",
    "\\begin{align*}\n",
    "A&=\\arg\\min_{(x_{1},x_{2})\\in\\mathcal{X}}\\sqrt{\\left(x_{1}-y_{1}\\right)^{2}+\\left(x_{2}-y_{2}\\right)^{2}}\\text{ s.t. }x_{1}>y_{1}\\text{ and }x_{2}>y_{2}\\\\\n",
    "B&=\\arg\\min_{(x_{1},x_{2})\\in\\mathcal{X}}\\sqrt{\\left(x_{1}-y_{1}\\right)^{2}+\\left(x_{2}-y_{2}\\right)^{2}}\\text{ s.t. }x_{1}>y_{1}\\text{ and }x_{2}<y_{2}\\\\\n",
    "C&=\\arg\\min_{(x_{1},x_{2})\\in\\mathcal{X}}\\sqrt{\\left(x_{1}-y_{1}\\right)^{2}+\\left(x_{2}-y_{2}\\right)^{2}}\\text{ s.t. }x_{1}<y_{1}\\text{ and }x_{2}<y_{2}\\\\\n",
    "D&=\\arg\\min_{(x_{1},x_{2})\\in\\mathcal{X}}\\sqrt{\\left(x_{1}-y_{1}\\right)^{2}+\\left(x_{2}-y_{2}\\right)^{2}}\\text{ s.t. }x_{1}<y_{1}\\text{ and }x_{2}>y_{2}.\n",
    "\\end{align*}\n",
    "$$\n",
    "\n",
    "**Algorithm:**\n",
    "\n",
    "1. Compute $A$, $B$, $C$, and $D$. If not possible return `NaN`.\n",
    "1. If $y$ is inside the triangle $ABC$ return $r^{ABC}_1 f(A) + r^{ABC}_2 f(B) + r^{ABC}_3 f(C)$.\n",
    "1. If $y$ is inside the triangle $CDA$ return $r^{CDA}_1 f(C) + r^{CDA}_2 f(D) + r^{CDA}_3 f(A)$.\n",
    "1. Return `NaN`.\n",
    "\n"
   ]
  },
  {
   "cell_type": "markdown",
   "metadata": {},
   "source": [
    "**Sample:**"
   ]
  },
  {
   "cell_type": "code",
   "execution_count": 420,
   "metadata": {},
   "outputs": [],
   "source": [
    "rng = np.random.default_rng(2024)\n",
    "\n",
    "X = rng.uniform(size=(50,2))\n",
    "y = rng.uniform(size=(2,))"
   ]
  },
  {
   "cell_type": "markdown",
   "metadata": {},
   "source": [
    "**Questions 1:** Find $A$, $B$, $C$ and $D$. Illustrate these together with $X$, $y$ and the triangles $ABC$ and $CDA$."
   ]
  },
  {
   "cell_type": "code",
   "execution_count": 421,
   "metadata": {},
   "outputs": [
    {
     "name": "stdout",
     "output_type": "stream",
     "text": [
      "Point A: [0.26071605 0.43635845]\n",
      "Point B: [0.21315735 0.274245  ]\n",
      "Point C: [0.10056103 0.27951775]\n",
      "Point D: [0.20634391 0.44272557]\n"
     ]
    }
   ],
   "source": [
    "# Define the objective function\n",
    "def objective(x, y):\n",
    "    x1, x2 = x\n",
    "    y1, y2 = y\n",
    "    return np.sqrt((x1 - y1)**2 + (x2 - y2)**2)\n",
    "\n",
    "# Function to find the optimal point given y and the filter\n",
    "def find_optimal_point(y, filter_condition):\n",
    "    filtered_X = np.array([point for point in X if filter_condition(point, y)])\n",
    "    \n",
    "    if len(filtered_X) == 0:\n",
    "        return None, float('inf')\n",
    "\n",
    "    min_distance = float('inf')\n",
    "    optimal_point = None\n",
    "    for point in filtered_X:\n",
    "        dist = objective(point, y)\n",
    "        if dist < min_distance:\n",
    "            min_distance = dist\n",
    "            optimal_point = point\n",
    "    return optimal_point, min_distance\n",
    "\n",
    "# Filter conditions\n",
    "filter_conditions = {\n",
    "    \"A\": lambda point, y: point[0] > y[0] and point[1] > y[1],\n",
    "    \"B\": lambda point, y: point[0] > y[0] and point[1] < y[1],\n",
    "    \"C\": lambda point, y: point[0] < y[0] and point[1] < y[1],\n",
    "    \"D\": lambda point, y: point[0] < y[0] and point[1] > y[1]\n",
    "}\n",
    "\n",
    "# Run the optimization for each combination of y\n",
    "result = {}\n",
    "for key, filter_condition in filter_conditions.items():\n",
    "    optimal_point, min_distance = find_optimal_point(y, filter_condition)\n",
    "    result[f\"optimal_point_{key}\"] = optimal_point\n",
    "    result[f\"min_distance_{key}\"] = min_distance\n",
    "\n",
    "A = result[\"optimal_point_A\"]\n",
    "B = result[\"optimal_point_B\"]\n",
    "C = result[\"optimal_point_C\"]\n",
    "D = result[\"optimal_point_D\"]\n",
    "\n",
    "# Print the results\n",
    "for key in filter_conditions.keys():\n",
    "    print(f\"Point {key}: {result[f'optimal_point_{key}']}\")"
   ]
  },
  {
   "cell_type": "code",
   "execution_count": 422,
   "metadata": {},
   "outputs": [
    {
     "data": {
      "image/png": "[encoded data removed]",
      "text/plain": [
       "<Figure size 1000x800 with 1 Axes>"
      ]
     },
     "metadata": {},
     "output_type": "display_data"
    }
   ],
   "source": [
    "# Plot the points and triangles\n",
    "plt.figure(figsize=(10, 8))\n",
    "plt.scatter(X[:, 0], X[:, 1], color='blue', label='Set X')\n",
    "plt.scatter(y[0], y[1], color='red', label='Point y')\n",
    "\n",
    "# Plot triangles ABC and CDA if all points are found\n",
    "if A is not None and B is not None and C is not None and D is not None:\n",
    "    plt.scatter(A[0], A[1], color='green', label='Point A')\n",
    "    plt.scatter(B[0], B[1], color='purple', label='Point B')\n",
    "    plt.scatter(C[0], C[1], color='orange', label='Point C')\n",
    "    plt.scatter(D[0], D[1], color='cyan', label='Point D')\n",
    "    \n",
    "    # Triangle ABC\n",
    "    plt.plot([A[0], B[0]], [A[1], B[1]], 'k-')\n",
    "    plt.plot([B[0], C[0]], [B[1], C[1]], 'k-')\n",
    "    plt.plot([C[0], A[0]], [C[1], A[1]], 'k-', label='Triangle ABC')\n",
    "\n",
    "    # Triangle CDA\n",
    "    plt.plot([C[0], D[0]], [C[1], D[1]], 'k--')\n",
    "    plt.plot([D[0], A[0]], [D[1], A[1]], 'k--')\n",
    "    plt.plot([A[0], C[0]], [A[1], C[1]], 'k--', label='Triangle CDA')\n",
    "\n",
    "# Add legend and labels\n",
    "plt.legend()\n",
    "plt.xlabel('x1')\n",
    "plt.ylabel('x2')\n",
    "plt.title('Points and Triangles ABC and CDA')\n",
    "plt.grid(True)\n",
    "plt.show()"
   ]
  },
  {
   "cell_type": "markdown",
   "metadata": {},
   "source": [
    "**Question 2:** Compute the barycentric coordinates of the point $y$ with respect to the triangles $ABC$ and $CDA$. Which triangle is $y$ located inside?"
   ]
  },
  {
   "cell_type": "code",
   "execution_count": 423,
   "metadata": {},
   "outputs": [
    {
     "name": "stdout",
     "output_type": "stream",
     "text": [
      "r1ABC: 0.6286263152916166, r2ABC: 0.06910145494351515, r3ABC: 0.3022722297648682\n",
      "r1CDA: 0.3682598757102867, r2CDA: -0.13392661883334067, r3CDA: 0.765666743123054\n"
     ]
    }
   ],
   "source": [
    "r1ABC = ((B[1]-C[1])*(y[0]-C[0])+(C[0]-B[0])*(y[1]-C[1]))/((B[1]-C[1])*(A[0]-C[0])+(C[0]-B[0])*(A[1]-C[1]))\n",
    "r2ABC = ((C[1]-A[1])*(y[0]-C[0])+(A[0]-C[0])*(y[1]-C[1]))/((B[1]-C[1])*(A[0]-C[0])+(C[0]-B[0])*(A[1]-C[1]))\n",
    "r3ABC = 1-r1ABC-r2ABC\n",
    "\n",
    "r1CDA = ((D[1]-A[1])*(y[0]-A[0])+(A[0]-D[0])*(y[1]-A[1]))/((D[1]-A[1])*(C[0]-A[0])+(A[0]-D[0])*(C[1]-A[1]))\n",
    "r2CDA = ((A[1]-C[1])*(y[0]-A[0])+(C[0]-A[0])*(y[1]-A[1]))/((D[1]-A[1])*(C[0]-A[0])+(A[0]-D[0])*(C[1]-A[1]))\n",
    "r3CDA = 1-r1CDA-r2CDA\n",
    "\n",
    "print(f\"r1ABC: {r1ABC}, r2ABC: {r2ABC}, r3ABC: {r3ABC}\")\n",
    "print(f\"r1CDA: {r1CDA}, r2CDA: {r2CDA}, r3CDA: {r3CDA}\")"
   ]
  },
  {
   "cell_type": "markdown",
   "metadata": {},
   "source": [
    "We can see that the point y is in the triangle ABC, since r1ABC, r2ABC and r3ABC are all in the interval [0,1]"
   ]
  },
  {
   "cell_type": "markdown",
   "metadata": {},
   "source": [
    "Now consider the function:\n",
    "$$\n",
    "f(x_1,x_2) = x_1 \\cdot x_2\n",
    "$$"
   ]
  },
  {
   "cell_type": "code",
   "execution_count": 424,
   "metadata": {},
   "outputs": [],
   "source": [
    "f = lambda x: x[0]*x[1]\n",
    "F = np.array([f(x) for x in X])"
   ]
  },
  {
   "cell_type": "markdown",
   "metadata": {},
   "source": [
    "**Question 3:** Compute the approximation of $f(y)$ using the full algorithm. Compare with the true value."
   ]
  },
  {
   "cell_type": "code",
   "execution_count": 425,
   "metadata": {},
   "outputs": [
    {
     "name": "stdout",
     "output_type": "stream",
     "text": [
      "Algorithm: 0.08405, True Value: 0.07896\n"
     ]
    }
   ],
   "source": [
    "algorithm = r1ABC*f(A) + r2ABC*f(B) + r3ABC*f(C)\n",
    "\n",
    "true_value = f(y)\n",
    "\n",
    "print(f\"Algorithm: {algorithm:.5f}, True Value: {true_value:.5f}\")"
   ]
  },
  {
   "cell_type": "markdown",
   "metadata": {},
   "source": [
    "### The approximated value of f(y) is 0.084 which is fairly close to the true value 0.079"
   ]
  },
  {
   "cell_type": "markdown",
   "metadata": {},
   "source": [
    "**Question 4:** Repeat question 3 for all points in the set $Y$."
   ]
  },
  {
   "cell_type": "code",
   "execution_count": 426,
   "metadata": {},
   "outputs": [],
   "source": [
    "Y = [(0.2,0.2),(0.8,0.2),(0.8,0.8),(0.2,0.8),(0.5,0.5)]"
   ]
  },
  {
   "cell_type": "code",
   "execution_count": 427,
   "metadata": {},
   "outputs": [
    {
     "name": "stdout",
     "output_type": "stream",
     "text": [
      "y = (0.2, 0.2)\n",
      "Optimal point A: [0.21315735 0.274245  ] with distance 0.07540183289303902\n",
      "Optimal point B: [0.24520427 0.18478708] with distance 0.04769548260513592\n",
      "Optimal point C: [0.07872553 0.18082381] with distance 0.12278119677884311\n",
      "Optimal point D: [0.10056103 0.27951775] with distance 0.12732313583995267\n",
      "r1ABC: 0.1805466701524854, r2ABC: 0.5826765149253863, r3ABC: 0.23677681492212832\n",
      "r1CDA: 0.7507400810688765, r2CDA: -0.7794749222521683, r3CDA: 1.028734841183292\n",
      "Final result using the algorithm: 0.04418\n",
      "True Value: 0.04000\n",
      "\n",
      "y = (0.8, 0.2)\n",
      "Optimal point A: [0.80718199 0.26836533] with distance 0.06874153566286949\n",
      "Optimal point B: [0.89822733 0.07903432] with distance 0.15582459897592413\n",
      "Optimal point C: [0.58907501 0.14639442] with distance 0.21763021053935477\n",
      "Optimal point D: [0.75116956 0.27987271] with distance 0.09361656895624954\n",
      "r1ABC: 0.5874166293573827, r2ABC: 0.2678463596528006, r3ABC: 0.14473701098981667\n",
      "r1CDA: 0.4187612872222544, r2CDA: -1.5023945927888533, r3CDA: 2.083633305566599\n",
      "Final result using the algorithm: 0.16715\n",
      "True Value: 0.16000\n",
      "\n",
      "y = (0.8, 0.8)\n",
      "Optimal point A: None with distance inf\n",
      "Optimal point B: [0.9756222  0.79942844] with distance 0.17562312769815042\n",
      "Optimal point C: [0.58875932 0.61680751] with distance 0.2796106467262443\n",
      "Optimal point D: [0.46801905 0.96493021] with distance 0.37069303581487395\n",
      "r1ABC: None, r2ABC: None, r3ABC: None\n",
      "r1CDA: None, r2CDA: None, r3CDA: None\n",
      "Final result using the algorithm: None\n",
      "True Value: 0.64000\n",
      "\n",
      "y = (0.2, 0.8)\n",
      "Optimal point A: [0.2780414  0.87495784] with distance 0.10820876983905488\n",
      "Optimal point B: [0.30945203 0.7994661 ] with distance 0.10945333305468882\n",
      "Optimal point C: [0.13481886 0.70289116] with distance 0.11695601012424718\n",
      "Optimal point D: None with distance inf\n",
      "r1ABC: 0.6575608315383328, r2ABC: -0.16604171793168665, r3ABC: 0.5084808863933539\n",
      "r1CDA: None, r2CDA: None, r3CDA: None\n",
      "Final result using the algorithm: None\n",
      "True Value: 0.16000\n",
      "\n",
      "y = (0.5, 0.5)\n",
      "Optimal point A: [0.51893133 0.59845416] with distance 0.10025775042935199\n",
      "Optimal point B: [0.58538723 0.42030016] with distance 0.11680343697423097\n",
      "Optimal point C: [0.33385622 0.42559779] with distance 0.18204242317669025\n",
      "Optimal point D: [0.40981568 0.56582111] with distance 0.11164958766104202\n",
      "r1ABC: 0.4407329133559943, r2ABC: 0.3362411978710884, r3ABC: 0.2230258887729173\n",
      "r1CDA: 0.7896805544065844, r2CDA: -1.1659086695972625, r3CDA: 1.3762281151906781\n",
      "Final result using the algorithm: 0.25518\n",
      "True Value: 0.25000\n",
      "\n"
     ]
    }
   ],
   "source": [
    "# Define the objective function\n",
    "def objective(x, y):\n",
    "    x1, x2 = x\n",
    "    y1, y2 = y\n",
    "    return np.sqrt((x1 - y1)**2 + (x2 - y2)**2)\n",
    "\n",
    "# Function to find the optimal point given y and the filter\n",
    "def find_optimal_point(y, filter_condition):\n",
    "    filtered_X = np.array([point for point in X if filter_condition(point, y)])\n",
    "    \n",
    "    if len(filtered_X) == 0:\n",
    "        return None, float('inf')\n",
    "\n",
    "    min_distance = float('inf')\n",
    "    optimal_point = None\n",
    "    for point in filtered_X:\n",
    "        dist = objective(point, y)\n",
    "        if dist < min_distance:\n",
    "            min_distance = dist\n",
    "            optimal_point = point\n",
    "    return optimal_point, min_distance\n",
    "\n",
    "# Filter conditions\n",
    "filter_conditions = {\n",
    "    \"A\": lambda point, y: point[0] > y[0] and point[1] > y[1],\n",
    "    \"B\": lambda point, y: point[0] > y[0] and point[1] < y[1],\n",
    "    \"C\": lambda point, y: point[0] < y[0] and point[1] < y[1],\n",
    "    \"D\": lambda point, y: point[0] < y[0] and point[1] > y[1]\n",
    "}\n",
    "\n",
    "# Run the optimization for each combination of y\n",
    "results = []\n",
    "for y in Y:\n",
    "    result = {'y': y}\n",
    "    for key, filter_condition in filter_conditions.items():\n",
    "        optimal_point, min_distance = find_optimal_point(y, filter_condition)\n",
    "        result[f\"optimal_point_{key}\"] = optimal_point\n",
    "        result[f\"min_distance_{key}\"] = min_distance\n",
    "    A = result[\"optimal_point_A\"]\n",
    "    B = result[\"optimal_point_B\"]\n",
    "    C = result[\"optimal_point_C\"]\n",
    "    D = result[\"optimal_point_D\"]\n",
    "    if A is not None and B is not None and C is not None:\n",
    "        result[\"r1ABC\"] = ((B[1]-C[1])*(y[0]-C[0])+(C[0]-B[0])*(y[1]-C[1]))/((B[1]-C[1])*(A[0]-C[0])+(C[0]-B[0])*(A[1]-C[1]))\n",
    "        result[\"r2ABC\"] = ((C[1]-A[1])*(y[0]-C[0])+(A[0]-C[0])*(y[1]-C[1]))/((B[1]-C[1])*(A[0]-C[0])+(C[0]-B[0])*(A[1]-C[1]))\n",
    "        result[\"r3ABC\"] = 1-result[\"r1ABC\"]-result[\"r2ABC\"]\n",
    "    else:\n",
    "        result[\"r1ABC\"] = result[\"r2ABC\"] = result[\"r3ABC\"] = None\n",
    "    if C is not None and D is not None and A is not None:\n",
    "        result[\"r1CDA\"] = ((D[1]-A[1])*(y[0]-A[0])+(A[0]-D[0])*(y[1]-A[1]))/((D[1]-A[1])*(C[0]-A[0])+(A[0]-D[0])*(C[1]-A[1]))\n",
    "        result[\"r2CDA\"] = ((A[1]-C[1])*(y[0]-A[0])+(C[0]-A[0])*(y[1]-A[1]))/((D[1]-A[1])*(C[0]-A[0])+(A[0]-D[0])*(C[1]-A[1]))\n",
    "        result[\"r3CDA\"] = 1-result[\"r1CDA\"]-result[\"r2CDA\"]\n",
    "    else:\n",
    "        result[\"r1CDA\"] = result[\"r2CDA\"] = result[\"r3CDA\"] = None\n",
    "    if result[\"r1ABC\"] is not None and result[\"r2ABC\"] is not None and result[\"r3ABC\"] is not None and result[\"r1CDA\"] is not None and result[\"r2CDA\"] is not None and result[\"r3CDA\"] is not None:\n",
    "        if 0 <= result[\"r1ABC\"] <= 1 and 0 <= result[\"r2ABC\"] <= 1 and 0 <= result[\"r3ABC\"] <= 1:\n",
    "            result[\"alg\"] = r1ABC*f(A) + r2ABC*f(B) + r3ABC*f(C)\n",
    "        else:\n",
    "            result[\"alg\"] = r1CDA*f(C) + r2CDA*f(D) + r3CDA*f(A)\n",
    "    else:\n",
    "        result[\"alg\"] = None\n",
    "    result[\"tv\"] = f(y)\n",
    "    results.append(result)\n",
    "\n",
    "# Print the results\n",
    "for result in results:\n",
    "    print(f\"y = {result['y']}\")\n",
    "    for key in filter_conditions.keys():\n",
    "        print(f\"Optimal point {key}: {result[f'optimal_point_{key}']} with distance {result[f'min_distance_{key}']}\")\n",
    "    print(f\"r1ABC: {result['r1ABC']}, r2ABC: {result['r2ABC']}, r3ABC: {result['r3ABC']}\")\n",
    "    print(f\"r1CDA: {result['r1CDA']}, r2CDA: {result['r2CDA']}, r3CDA: {result['r3CDA']}\")\n",
    "    if result['alg'] is not None:\n",
    "        print(f\"Final result using the algorithm: {result['alg']:.5f}\")\n",
    "    else:\n",
    "        print(f\"Final result using the algorithm: {result['alg']}\")\n",
    "    if result['tv'] is not None:\n",
    "        print(f\"True Value: {result['tv']:.5f}\")\n",
    "    else:\n",
    "        print(f\"True Value: {result['tv']}\")\n",
    "    print()"
   ]
  }
 ],
 "metadata": {
  "kernelspec": {
   "display_name": "base",
   "language": "python",
   "name": "python3"
  },
  "language_info": {
   "codemirror_mode": {
    "name": "ipython",
    "version": 3
   },
   "file_extension": ".py",
   "mimetype": "text/x-python",
   "name": "python",
   "nbconvert_exporter": "python",
   "pygments_lexer": "ipython3",
   "version": "3.11.7"
  }
 },
 "nbformat": 4,
 "nbformat_minor": 2
}
