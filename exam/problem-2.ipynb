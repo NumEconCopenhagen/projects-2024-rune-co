{
 "cells": [
  {
   "cell_type": "code",
   "execution_count": 228,
   "metadata": {},
   "outputs": [],
   "source": [
    "# Write your code here\n",
    "import numpy as np\n",
    "from types import SimpleNamespace\n",
    "import matplotlib.pyplot as plt"
   ]
  },
  {
   "cell_type": "markdown",
   "metadata": {},
   "source": [
    "## 2. <a id='toc2_'></a>[Problem 2: Career choice model](#toc0_)"
   ]
  },
  {
   "cell_type": "markdown",
   "metadata": {},
   "source": [
    "Consider a graduate $i$ making a choice between entering $J$ different career tracks. <br>\n",
    "Entering career $j$ yields utility $u^k_{ij}$. This value is unknown to the graduate ex ante, but will ex post be: <br>\n",
    "$$\n",
    "    u_{i,j}^k = v_{j} + \\epsilon_{i,j}^k\n",
    "$$\n",
    "\n",
    "They know that $\\epsilon^k_{i,j}\\sim \\mathcal{N}(0,\\sigma^2)$, but they do not observe $\\epsilon^k_{i,j}$ before making their career choice. <br>"
   ]
  },
  {
   "cell_type": "markdown",
   "metadata": {},
   "source": [
    "Consider the concrete case of $J=3$ with:\n",
    "$$\n",
    "\\begin{align*}\n",
    "    v_{1} &= 1 \\\\\n",
    "    v_{2} &= 2 \\\\\n",
    "    v_{3} &= 3\n",
    "\\end{align*}\n",
    "$$"
   ]
  },
  {
   "cell_type": "markdown",
   "metadata": {},
   "source": [
    "If the graduates know the values of $v_j$ and the distribution of $\\epsilon_{i,j}^k$, they can calculate the expected utility of each career track using simulation: <br>\n",
    "$$\n",
    "    \\mathbb{E}\\left[ u^k_{i,j}\\vert v_j \\right] \\approx v_j + \\frac{1}{K}\\sum_{k=1}^K \\epsilon_{i,j}^k\n",
    "$$"
   ]
  },
  {
   "cell_type": "code",
   "execution_count": 229,
   "metadata": {},
   "outputs": [],
   "source": [
    "par = SimpleNamespace()\n",
    "par.J = 3\n",
    "par.N = 10\n",
    "par.K = 10000\n",
    "\n",
    "par.F = np.arange(1,par.N+1)\n",
    "par.sigma = 2\n",
    "\n",
    "par.v = np.array([1,2,3])\n",
    "par.c = 1"
   ]
  },
  {
   "cell_type": "markdown",
   "metadata": {},
   "source": [
    "**Question 1:** Simulate and calculate expected utility and the average realised utility for $K=10000$ draws, for each career choice $j$.\n"
   ]
  },
  {
   "cell_type": "code",
   "execution_count": 230,
   "metadata": {},
   "outputs": [
    {
     "name": "stdout",
     "output_type": "stream",
     "text": [
      "[1.01120537 1.99782087 2.97917864]\n"
     ]
    }
   ],
   "source": [
    "np.random.seed(1111)\n",
    "\n",
    "#Dictionaries\n",
    "resultsdic = {}\n",
    "epsilondic = {}\n",
    "mean = np.zeros(3)\n",
    "\n",
    "#loop over jobs\n",
    "for j in par.v: \n",
    "    resultsdic[f'results{j}'] = np.zeros(par.K)\n",
    "    epsilondic[f'epsilon{j}'] = np.random.normal(loc=0, scale=par.sigma, size=par.K)\n",
    "\n",
    "    for i in range(par.K):\n",
    "        resultsdic[f'results{j}'][i] = j + epsilondic[f\"epsilon{j}\"][i]     #utility\n",
    "    mean[j-1] = np.mean(resultsdic[f\"results{j}\"])\n",
    "\n",
    "print(mean)\n"
   ]
  },
  {
   "cell_type": "markdown",
   "metadata": {},
   "source": [
    "Now consider a new scenario: Imagine that the graduate does not know $v_j$. The *only* prior information they have on the value of each job, comes from their $F_{i}$ friends that work in each career $j$. After talking with them, they know the average utility of their friends (which includes their friends' noise term), giving them the prior expecation: <br>\n",
    "$$\n",
    "\\tilde{u}^k_{i,j}\\left( F_{i}\\right) = \\frac{1}{F_{i}}\\sum_{f=1}^{F_{i}} \\left(v_{j} + \\epsilon^k_{f,j}\\right), \\; \\epsilon^k_{f,j}\\sim \\mathcal{N}(0,\\sigma^2)\n",
    "$$\n",
    "For ease of notation consider that each graduate have $F_{i}=i$ friends in each career. <br>"
   ]
  },
  {
   "cell_type": "markdown",
   "metadata": {},
   "source": [
    "For $K$ times do the following: <br>\n",
    "1. For each person $i$ draw $J\\cdot F_i$ values of $\\epsilon_{f,j}^{k}$, and calculate the prior expected utility of each career track, $\\tilde{u}^k_{i,j}\\left( F_{i}\\right)$. <br>\n",
    "Also draw their own $J$ noise terms, $\\epsilon_{i,j}^k$\n",
    "1. Each person $i$ chooses the career track with the highest expected utility: $$j_i^{k*}= \\arg\\max_{j\\in{1,2\\dots,J}}\\left\\{ \\tilde{u}^k_{i,j}\\left( F_{i}\\right)\\right\\} $$\n",
    "1. Store the chosen careers: $j_i^{k*}$, the prior expectation of the value of their chosen career: $\\tilde{u}^k_{i,j=j_i^{k*}}\\left( F_{i}\\right)$, and the realized value of their chosen career track: $u^k_{i,j=j_i^{k*}}=v_{j=j_i^{k*}}+\\epsilon_{i,j=j_i^{k*}}^k$."
   ]
  },
  {
   "cell_type": "markdown",
   "metadata": {},
   "source": [
    "Chosen values will be: <br>\n",
    "$i\\in\\left\\{1,2\\dots,N\\right\\}, N=10$ <br>\n",
    "$F_i = i$<br>\n",
    "So there are 10 graduates. The first has 1 friend in each career, the second has 2 friends, ... the tenth has 10 friends."
   ]
  },
  {
   "cell_type": "markdown",
   "metadata": {},
   "source": [
    "**Question 2:** Simulate and visualize: For each type of graduate, $i$, the share of graduates choosing each career, the average subjective expected utility of the graduates, and the average ex post realized utility given their choice. <br>\n",
    "That is, calculate and visualize: <br>\n",
    "$$\n",
    "\\begin{align*}\n",
    "    \\frac{1}{K} \\sum_{k=1}^{K} \\mathbb{I}\\left\\{ j=j_i^{k*} \\right\\}  \\;\\forall j\\in\\left\\{1,2,\\dots,J\\right\\}\n",
    "\\end{align*}\n",
    "$$\n",
    "$$\n",
    "\\begin{align*}\n",
    "    \\frac{1}{K} \\sum_{k=1}^{K} \\tilde{u}^k_{ij=j_i^{k*}}\\left( F_{i}\\right)\n",
    "\\end{align*}\n",
    "$$\n",
    "And \n",
    "$$\n",
    "\\begin{align*}\n",
    "    \\frac{1}{K} \\sum_{k=1}^{K} u^k_{ij=j_i^{k*}} \n",
    "\\end{align*}\n",
    "$$\n",
    "For each graduate $i$."
   ]
  },
  {
   "cell_type": "code",
   "execution_count": 231,
   "metadata": {},
   "outputs": [],
   "source": [
    "np.random.seed(2222)\n",
    "\n",
    "#Dictionaries\n",
    "friendepsdic = {}\n",
    "ownepsdic = {}\n",
    "friendudic = {}\n",
    "ownudic = {}\n",
    "\n",
    "utildedic = {}\n",
    "umaxindexdic = {}\n",
    "jstardic = {}\n",
    "expudic = {}\n",
    "udic = {}\n",
    "\n",
    "#Arrays for each i in each dictionary\n",
    "for i in par.F:\n",
    "    friendepsdic[f\"friendeps{i}\"] = []\n",
    "    ownepsdic[f\"owneps{i}\"] = []\n",
    "    friendudic[f\"friendu{i}\"] = []\n",
    "    ownudic[f\"ownu{i}\"] = []\n",
    "\n",
    "    utildedic[f\"utilde{i}\"] = []\n",
    "    umaxindexdic[f\"umaxindex{i}\"] = []\n",
    "    jstardic[f\"jstar{i}\"] = []\n",
    "    expudic[f\"expu{i}\"] = []\n",
    "    udic[f\"u{i}\"] = []\n",
    "\n",
    "#Loop K times\n",
    "for K in range(par.K):\n",
    "    for i in par.F:\n",
    "        #draw epsilons and calculate associated utility\n",
    "        friendeps = np.random.normal(loc=0, scale=par.sigma, size=(i, par.J))\n",
    "        owneps= np.random.normal(loc=0, scale=par.sigma, size=(par.J))\n",
    "        friendu = friendeps + par.v\n",
    "        ownu = owneps + par.v\n",
    "        \n",
    "        #Save\n",
    "        friendepsdic[f\"friendeps{i}\"].append(friendeps)\n",
    "        ownepsdic[f\"owneps{i}\"].append(owneps)\n",
    "        friendudic[f\"friendu{i}\"].append(friendu)\n",
    "        ownudic[f\"ownu{i}\"].append(ownu)\n",
    "\n",
    "        #calculate more stuff\n",
    "        utilde = np.mean(friendu, axis=0)   #exp. utility for each job\n",
    "        umaxindex = np.argmax(utilde)   #index for job w highest utility\n",
    "        jstar = umaxindex + 1   #job with highest utility\n",
    "        expu = np.max(utilde)   #expected utility\n",
    "        u = ownu[umaxindex]     #actual (realized) utility\n",
    "\n",
    "        #save\n",
    "        utildedic[f\"utilde{i}\"].append(utilde)\n",
    "        umaxindexdic[f\"umaxindex{i}\"].append(umaxindex)\n",
    "        jstardic[f\"jstar{i}\"].append(jstar)\n",
    "        expudic[f\"expu{i}\"].append(expu)\n",
    "        udic[f\"u{i}\"].append(u)\n",
    "\n",
    "#Dictionaries\n",
    "numjdic = {}\n",
    "meanexpudic= {}\n",
    "meanudic = {}\n",
    "\n",
    "for i in par.F:\n",
    "    #Count jobs\n",
    "    ones = np.sum(np.array(jstardic[f\"jstar{i}\"]) == 1)\n",
    "    twos = np.sum(np.array(jstardic[f\"jstar{i}\"]) == 2)\n",
    "    threes=np.sum(np.array(jstardic[f\"jstar{i}\"]) == 3)\n",
    "    numjdic[f\"numj{i}\"] = np.array([ones, twos, threes]) / par.K\n",
    "\n",
    "    #Get mean utilites\n",
    "    meanexpudic[f\"meanexpu{i}\"] = np.mean(np.array(expudic[f\"expu{i}\"]))\n",
    "    meanudic[f\"meanu{i}\"] = np.mean(np.array(udic[f\"u{i}\"]))\n",
    "\n",
    "    # print(f\"i: {i}\")\n",
    "    # print(f\"numj{i}: {numjdic[f'numj{i}']}\")\n",
    "    # print(meanexpudic[f\"meanexpu{i}\"])\n",
    "    # print(meanudic[f\"meanu{i}\"])\n",
    "    # print(\"\")\n",
    "\n",
    "# print(\"friendepsdic:\", friendepsdic)\n",
    "# print(\"ownepsdic:\", ownepsdic)\n",
    "# print(\"friendudic:\", friendudic)\n",
    "# print(\"ownudic:\", ownudic)\n",
    "# print(\"utildedic:\", utildedic)\n",
    "# print(\"umaxindexdic:\", umaxindexdic)\n",
    "# print(\"jstardic:\", jstardic)\n",
    "# print(\"expudic:\", expudic)\n",
    "# print(\"udic:\", udic)\n"
   ]
  },
  {
   "cell_type": "code",
   "execution_count": 232,
   "metadata": {},
   "outputs": [
    {
     "data": {
      "image/png": "[encoded data removed]",
      "text/plain": [
       "<Figure size 1200x600 with 2 Axes>"
      ]
     },
     "metadata": {},
     "output_type": "display_data"
    }
   ],
   "source": [
    "#Visualize\n",
    "\n",
    "careerchoice = np.array(list(numjdic.values()))\n",
    "expudata = np.array(list(meanexpudic.values()))\n",
    "udata = np.array(list(meanudic.values()))\n",
    "\n",
    "groups = par.N\n",
    "bars = par.J\n",
    "\n",
    "bar_width = 0.2\n",
    "indices = np.arange(groups)\n",
    "\n",
    "fig, ax1 = plt.subplots(figsize=(12,6))\n",
    "ax2 = ax1.twinx()\n",
    "\n",
    "#Have to swap the y axes so dots are on top of bars, because apparently z-order cant do that ... (want utility on LHS)\n",
    "ax1.yaxis.tick_right()\n",
    "ax1.yaxis.set_label_position(\"right\")\n",
    "ax1.spines['right'].set_position(('outward', 0))\n",
    "\n",
    "ax2.yaxis.tick_left()\n",
    "ax2.yaxis.set_label_position(\"left\")\n",
    "ax2.spines['left'].set_position(('outward', 0))\n",
    "\n",
    "\n",
    "for i in range(bars):\n",
    "    ax1.bar(indices + i * bar_width, careerchoice[:, i], bar_width, label=f'$v_{i+1}$ (RHS)', zorder=1)\n",
    "\n",
    "scatter_expudata = ax2.scatter(indices + bar_width, expudata[:], color='blue', label='Expected utility', zorder=5)\n",
    "scatter_udata = ax2.scatter(indices + bar_width, udata[:], color='red', label='Actual utility', zorder=6)\n",
    "\n",
    "ax1.set_xlabel('i')\n",
    "ax1.set_ylabel('Share choosing occupation', labelpad=15)\n",
    "ax1.set_title('Question 2')\n",
    "ax1.set_xticks(indices + bar_width * (bars - 1) / 2)\n",
    "ax1.set_xticklabels(np.arange(1, groups + 1))\n",
    "ax2.set_ylabel('Utility', labelpad=15)\n",
    "\n",
    "handles1, labels1 = ax1.get_legend_handles_labels()\n",
    "handles2, labels2 = ax2.get_legend_handles_labels()\n",
    "ax1.legend(handles2 + handles1, labels2 + labels1, fontsize='small', loc='best',framealpha=0.2)\n",
    "\n",
    "plt.show()"
   ]
  },
  {
   "cell_type": "markdown",
   "metadata": {},
   "source": [
    "After a year of working in their career, the graduates learn $u^k_{ij}$ for their chosen job $j_i^{k*}$ perfectly. <br>\n",
    "The can switch to one of the two remaining careers, for which they have the same prior as before, but it will now include a switching cost of $c$ which is known.\n",
    "Their new priors can be written as: \n",
    "$$\n",
    "\\tilde{u}^{k,2}_{ij}\\left( F_{i}\\right) = \\begin{cases}\n",
    "            \\tilde{u}^k_{ij}\\left( F_{i}\\right)-c & \\text{if } j \\neq j_i^{k*} \\\\\n",
    "            u_{ij=j_i^{k*}} & \\text{if } j = j_i^{k*}\n",
    "        \\end{cases}\n",
    "$$"
   ]
  },
  {
   "cell_type": "markdown",
   "metadata": {},
   "source": [
    "We will set $c=1$."
   ]
  },
  {
   "cell_type": "markdown",
   "metadata": {},
   "source": [
    "Their realized utility will be: <br>\n",
    "$$\n",
    "u^{k,2}_{ij}= \\begin{cases}\n",
    "            u_{ij}^k -c & \\text{if } j \\neq j_i^{k*} \\\\\n",
    "            u_{ij=j_i^{k*}} & \\text{if } j = j_i^{k*}\n",
    "        \\end{cases}\n",
    "$$"
   ]
  },
  {
   "cell_type": "markdown",
   "metadata": {},
   "source": [
    "**Question 3:** Following the same approach as in question 2, find the new optimal career choice for each $i$, $k$. Then for each $i$, calculate the average subjective expected utility from their new optimal career choice, and the ex post realized utility of that career. Also, for each $i$, calculate the share of graduates that chooses to switch careers, conditional on which career they chose in the first year. <br>"
   ]
  },
  {
   "cell_type": "code",
   "execution_count": 233,
   "metadata": {},
   "outputs": [],
   "source": [
    "#Dictionaries!\n",
    "\n",
    "utilde2dic = {}\n",
    "umaxindex2dic = {}\n",
    "jstar2dic = {}\n",
    "expu2dic = {}\n",
    "u2dic = {}\n",
    "\n",
    "#Arrays for each i!\n",
    "for i in par.F:\n",
    "    utilde2dic[f\"utilde2{i}\"] = []\n",
    "    umaxindex2dic[f\"umaxindex2{i}\"] = []\n",
    "    jstar2dic[f\"jstar2{i}\"] = []\n",
    "    expu2dic[f\"expu2{i}\"] = []\n",
    "    u2dic[f\"u2{i}\"] = []\n",
    "\n",
    "for i in par.F:\n",
    "    for K in range(par.K):\n",
    "        #expected utility for each occupation \n",
    "        utilde2 = np.array(utildedic[f\"utilde{i}\"][K]) - par.c\n",
    "        utilde2[umaxindexdic[f\"umaxindex{i}\"][K]] = udic[f\"u{i}\"][K]\n",
    "        utilde2dic[f\"utilde2{i}\"].append(utilde2)\n",
    "        \n",
    "        umaxindex2 = np.argmax(utilde2)     #index of best job\n",
    "        jstar2 = umaxindex2 + 1     #best job\n",
    "        expu2 = np.max(utilde2)     #exp utility\n",
    "        #actual utility:\n",
    "        u2 = ownudic[f\"ownu{i}\"][K][umaxindex2]\n",
    "        if umaxindex2 != umaxindexdic[f\"umaxindex{i}\"][K]:\n",
    "            u2 = u2 - par.c\n",
    "\n",
    "        #Save\n",
    "        umaxindex2dic[f\"umaxindex2{i}\"].append(umaxindex2)\n",
    "        jstar2dic[f\"jstar2{i}\"].append(jstar2)\n",
    "        expu2dic[f\"expu2{i}\"].append(expu2)\n",
    "        u2dic[f\"u2{i}\"].append(u2)\n",
    "\n",
    "#Dictionaries\n",
    "changegivenjdic = {}\n",
    "meanexpu2dic = {}\n",
    "meanu2dic = {}\n",
    "\n",
    "for i in par.F:\n",
    "    changegivenjdic[f\"changegivenj{i}\"] = [0,0,0]\n",
    "    for j in par.v:\n",
    "        #count share that changes from each job:\n",
    "        changegivenjdic[f\"changegivenj{i}\"][j-1] = np.sum((np.array(jstardic[f\"jstar{i}\"]) == j) & (np.array(jstardic[f\"jstar{i}\"]) != np.array(jstar2dic[f\"jstar2{i}\"]))) / np.sum((np.array(jstardic[f\"jstar{i}\"]) == j))\n",
    "    \n",
    "    #mean utilites\n",
    "    meanexpu2dic[f\"meanexpu2{i}\"] = np.mean(np.array(expu2dic[f\"expu2{i}\"]))\n",
    "    meanu2dic[f\"meanu2{i}\"] = np.mean(np.array(u2dic[f\"u2{i}\"]))\n",
    "    \n",
    "    # print(f\"i: {i}\")    \n",
    "    # print(changegivenjdic[f\"changegivenj{i}\"])\n",
    "    # print(meanexpudic[f\"meanexpu{i}\"])\n",
    "    # print(meanudic[f\"meanu{i}\"])\n",
    "    # print(\"\")"
   ]
  },
  {
   "cell_type": "code",
   "execution_count": 237,
   "metadata": {},
   "outputs": [
    {
     "data": {
      "image/png": "[encoded data removed]",
      "text/plain": [
       "<Figure size 1200x600 with 2 Axes>"
      ]
     },
     "metadata": {},
     "output_type": "display_data"
    }
   ],
   "source": [
    "#Visualize\n",
    "\n",
    "careerchoice = np.array(list(changegivenjdic.values()))\n",
    "expudata = np.array(list(meanexpu2dic.values()))\n",
    "udata = np.array(list(meanu2dic.values()))\n",
    "\n",
    "groups = par.N\n",
    "bars = par.J\n",
    "labels = [\"$v_1$\", \"$v_2$\", \"$v_3$\"]\n",
    "\n",
    "bar_width = 0.2\n",
    "indices = np.arange(groups)\n",
    "\n",
    "fig, ax1 = plt.subplots(figsize=(12,6))\n",
    "ax2 = ax1.twinx()\n",
    "\n",
    "\n",
    "ax1.yaxis.tick_right()\n",
    "ax1.yaxis.set_label_position(\"right\")\n",
    "ax1.spines['right'].set_position(('outward', 0))\n",
    "\n",
    "ax2.yaxis.tick_left()\n",
    "ax2.yaxis.set_label_position(\"left\")\n",
    "ax2.spines['left'].set_position(('outward', 0))\n",
    "\n",
    "for i in range(bars):\n",
    "    ax1.bar(indices + i * bar_width, careerchoice[:, i], bar_width, label=f'$v_{i+1}$ (RHS)', zorder=1)\n",
    "\n",
    "scatter_expudata = ax2.scatter(indices + bar_width, expudata[:], color='blue', label='Expected utility', zorder=5)\n",
    "scatter_udata = ax2.scatter(indices + bar_width, udata[:], color='red', label='Actual utility', zorder=6)\n",
    "\n",
    "scatter_expudata.set_zorder(5)\n",
    "scatter_udata.set_zorder(6)\n",
    "\n",
    "ax1.set_xlabel('i')\n",
    "ax1.set_ylabel('Share switching from occupation', labelpad=15)\n",
    "ax1.set_title('Question 3')\n",
    "ax1.set_xticks(indices + bar_width * (bars - 1) / 2)\n",
    "ax1.set_xticklabels(np.arange(1, groups + 1))\n",
    "ax2.set_ylabel('Utility', labelpad=15)\n",
    "\n",
    "handles1, labels1 = ax1.get_legend_handles_labels()\n",
    "handles2, labels2 = ax2.get_legend_handles_labels()\n",
    "ax1.legend(handles2 + handles1, labels2 + labels1, fontsize='small', loc='upper left',framealpha=0.2)\n",
    "\n",
    "plt.show()"
   ]
  },
  {
   "cell_type": "code",
   "execution_count": 235,
   "metadata": {},
   "outputs": [],
   "source": [
    "#Example case\n",
    "\n",
    "# for i in par.F:\n",
    "#     print(f\"i: {i}\")    \n",
    "#     print(\"K = 1 values:\")\n",
    "#     print(f\"friendeps: {friendepsdic[f'friendeps{i}'][0]}\")\n",
    "#     print(f\"owneps: {ownepsdic[f'owneps{i}'][0]}\")\n",
    "#     print(f\"friendu: {friendudic[f'friendu{i}'][0]}\")\n",
    "#     print(f\"ownu: {ownudic[f'ownu{i}'][0]}\")\n",
    "#     print(f\"utilde: {utildedic[f'utilde{i}'][0]}\")\n",
    "#     print(f\"umaxindex: {umaxindexdic[f'umaxindex{i}'][0]}\")\n",
    "#     print(f\"jstar: {jstardic[f'jstar{i}'][0]}\")\n",
    "#     print(f\"expu: {expudic[f'expu{i}'][0]}\")\n",
    "#     print(f\"u: {udic[f'u{i}'][0]}\")\n",
    "#     print(f\"utilde2: {utilde2dic[f'utilde2{i}'][0]}\")\n",
    "#     print(f\"umaxindex2: {umaxindex2dic[f'umaxindex2{i}'][0]}\")\n",
    "#     print(f\"jstar2: {jstar2dic[f'jstar2{i}'][0]}\")\n",
    "#     print(f\"expu2: {expu2dic[f'expu2{i}'][0]}\")\n",
    "#     print(f\"u2: {u2dic[f'u2{i}'][0]}\")\n",
    "#     print(f\"numj: {numjdic[f'numj{i}']}\")\n",
    "#     print(f\"meanexpu: {meanexpudic[f'meanexpu{i}']}\")\n",
    "#     print(f\"meanu: {meanudic[f'meanu{i}']}\")\n",
    "#     print(f\"changegivenj: {changegivenjdic[f'changegivenj{i}']}\")\n",
    "#     print(f\"meanexpu2: {meanexpu2dic[f'meanexpu2{i}']}\")\n",
    "#     print(f\"meanu2: {meanu2dic[f'meanu2{i}']}\")\n",
    "#     print(\"\")"
   ]
  }
 ],
 "metadata": {
  "kernelspec": {
   "display_name": "base",
   "language": "python",
   "name": "python3"
  },
  "language_info": {
   "codemirror_mode": {
    "name": "ipython",
    "version": 3
   },
   "file_extension": ".py",
   "mimetype": "text/x-python",
   "name": "python",
   "nbconvert_exporter": "python",
   "pygments_lexer": "ipython3",
   "version": "3.11.7"
  }
 },
 "nbformat": 4,
 "nbformat_minor": 2
}
