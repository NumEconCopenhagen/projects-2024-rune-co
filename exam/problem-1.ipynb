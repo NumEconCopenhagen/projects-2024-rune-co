{
 "cells": [
  {
   "cell_type": "markdown",
   "metadata": {},
   "source": [
    "**Table of contents**<a id='toc0_'></a>    \n",
    "- 1. [Problem 1: Production economy and CO2 taxation](#toc1_)    \n",
    "- 2. [Problem 2: Career choice model](#toc2_)    \n",
    "- 3. [Problem 3: Barycentric interpolation](#toc3_)    \n",
    "\n",
    "<!-- vscode-jupyter-toc-config\n",
    "\tnumbering=true\n",
    "\tanchor=true\n",
    "\tflat=false\n",
    "\tminLevel=2\n",
    "\tmaxLevel=6\n",
    "\t/vscode-jupyter-toc-config -->\n",
    "<!-- THIS CELL WILL BE REPLACED ON TOC UPDATE. DO NOT WRITE YOUR TEXT IN THIS CELL -->"
   ]
  },
  {
   "cell_type": "code",
   "execution_count": 3,
   "metadata": {},
   "outputs": [],
   "source": [
    "import numpy as np\n",
    "from types import SimpleNamespace\n",
    "from scipy.optimize import minimize_scalar, root"
   ]
  },
  {
   "cell_type": "markdown",
   "metadata": {},
   "source": [
    "## 1. <a id='toc1_'></a>[Problem 1: Production economy and CO2 taxation](#toc0_)"
   ]
  },
  {
   "cell_type": "markdown",
   "metadata": {},
   "source": [
    "Consider a production economy with two firms indexed by $j \\in \\{1,2\\}$. Each produce its own good. They solve\n",
    "\n",
    "$$\n",
    "\\begin{align*}\n",
    "\\max_{y_{j}}\\pi_{j}&=p_{j}y_{j}-w_{j}\\ell_{j}\\\\\\text{s.t.}\\;&y_{j}=A\\ell_{j}^{\\gamma}.\n",
    "\\end{align*}\n",
    "$$\n",
    "\n",
    "Optimal firm behavior is\n",
    "\n",
    "$$\n",
    "\\begin{align*}\n",
    "\\ell_{j}^{\\star}(w,p_{j})&=\\left(\\frac{p_{j}A\\gamma}{w}\\right)^{\\frac{1}{1-\\gamma}} \\\\\n",
    "y_{j}^{\\star}(w,p_{j})&=A\\left(\\ell_{j}^{\\star}(w,p_{j})\\right)^{\\gamma}\n",
    "\\end{align*}\n",
    "$$\n",
    "\n",
    "The implied profits are\n",
    "\n",
    "$$\n",
    "\\pi_{j}^*(w,p_{j})=\\frac{1-\\gamma}{\\gamma}w\\cdot\\left(\\frac{p_{j}A\\gamma}{w}\\right)^{\\frac{1}{1-\\gamma}}\n",
    "$$\n",
    "\n",
    "A single consumer supplies labor, and consumes the goods the firms produce. She also recieves the implied profits of the firm.<br>\n",
    "She solves:\n",
    "\n",
    "$$\n",
    "\\begin{align*}\n",
    "U(p_1,p_2,w,\\tau,T) = \\max_{c_{1},c_{2},\\ell} & \\log(c_{1}^{\\alpha}c_{2}^{1-\\alpha})-\\nu\\frac{\\ell^{1+\\epsilon}}{1+\\epsilon} \\\\\n",
    "\\text{s.t.}\\,\\,\\,&p_{1}c_{1}+(p_{2}+\\tau)c_{2}=w\\ell+T+\\pi_{1}^*(w,p_{1})+\\pi_{2}^*(w,p_{2})\n",
    "\\end{align*}\n",
    "$$\n",
    "\n",
    "where $\\tau$ is a tax and $T$ is lump-sum transfer. <br>\n",
    "For a given $\\ell$, it can be shown that optimal behavior is\n",
    "\n",
    "$$\n",
    "\\begin{align*}\n",
    "c_{1}(\\ell)&=\\alpha\\frac{w\\ell+T+\\pi_{1}^*(w,p_{1})+\\pi_{2}^*(w,p_{2})}{p_{1}} \\\\\n",
    "c_{2}(\\ell)&=(1-\\alpha)\\frac{w\\ell+T+\\pi_{1}^*(w,p_{1})+\\pi_{2}^*(w,p_{2})}{p_{2}+\\tau} \\\\\n",
    "\\end{align*}\n",
    "$$\n",
    "Such that optimal behavior is:\n",
    "$$\n",
    "\\ell^* = \\underset{\\ell}{\\arg\\max} \\log(\\left(c_{1}(\\ell)\\right)^{\\alpha}\\cdot \\left(c_{2}(\\ell)\\right)^{1-\\alpha})-\\nu\\frac{\\ell^{1+\\epsilon}}{1+\\epsilon} \n",
    "$$\n",
    "With optimal consumption:\n",
    "$$\n",
    "\\begin{align*}\n",
    "c_1^*=c_{1}(\\ell^*) \\\\\n",
    "c_2^*=c_{2}(\\ell^*)\\\\\n",
    "\\end{align*}\n",
    "$$\n",
    "\n",
    "\n",
    "The government chooses $\\tau$ and balances its budget so $T=\\tau c_2^*$. We initially set $\\tau,T=0$.\n",
    "\n",
    "Market clearing requires:\n",
    "\n",
    "1. Labor market: $\\ell^* = \\ell_1^* + \\ell_2^*$\n",
    "1. Good market 1: $c_1^* = y_1^*$\n",
    "1. Good market 2: $c_2^* = y_2^*$\n"
   ]
  },
  {
   "cell_type": "markdown",
   "metadata": {},
   "source": [
    "**Question 1:** Check market clearing conditions for $p_1$ in `linspace(0.1,2.0,10)` and $p_2$ in `linspace(0.1,2.0,10)`. We choose $w=1$ as numeraire."
   ]
  },
  {
   "cell_type": "code",
   "execution_count": 4,
   "metadata": {},
   "outputs": [],
   "source": [
    "# Setting parameters\n",
    "par = SimpleNamespace()\n",
    "\n",
    "# Firms\n",
    "par.A = 1.0\n",
    "par.gamma = 0.5\n",
    "\n",
    "# Households\n",
    "par.alpha = 0.3\n",
    "par.nu = 1.0\n",
    "par.epsilon = 2.0\n",
    "\n",
    "# Government\n",
    "par.tau = 0.0\n",
    "par.T = 0.0\n",
    "\n",
    "# Question 3\n",
    "par.kappa = 0.1"
   ]
  },
  {
   "cell_type": "code",
   "execution_count": 5,
   "metadata": {},
   "outputs": [
    {
     "name": "stdout",
     "output_type": "stream",
     "text": [
      "(p1,p2) = (0.10,0.10) -> Excess supply on Labor Market: 0.99, Good Market 1: -2.96, Good Market 2: -6.97\n",
      "(p1,p2) = (0.10,0.31) -> Excess supply on Labor Market: 0.96, Good Market 1: -3.00, Good Market 2: -2.13\n",
      "(p1,p2) = (0.10,0.52) -> Excess supply on Labor Market: 0.91, Good Market 1: -3.09, Good Market 2: -1.14\n",
      "(p1,p2) = (0.10,0.73) -> Excess supply on Labor Market: 0.82, Good Market 1: -3.23, Good Market 2: -0.68\n",
      "(p1,p2) = (0.10,0.94) -> Excess supply on Labor Market: 0.70, Good Market 1: -3.42, Good Market 2: -0.38\n",
      "(p1,p2) = (0.10,1.16) -> Excess supply on Labor Market: 0.56, Good Market 1: -3.66, Good Market 2: -0.17\n",
      "(p1,p2) = (0.10,1.37) -> Excess supply on Labor Market: 0.40, Good Market 1: -3.95, Good Market 2: -0.00\n",
      "(p1,p2) = (0.10,1.58) -> Excess supply on Labor Market: 0.20, Good Market 1: -4.31, Good Market 2: 0.14\n",
      "(p1,p2) = (0.10,1.79) -> Excess supply on Labor Market: -0.01, Good Market 1: -4.73, Good Market 2: 0.27\n",
      "(p1,p2) = (0.10,2.00) -> Excess supply on Labor Market: -0.25, Good Market 1: -5.22, Good Market 2: 0.39\n",
      "(p1,p2) = (0.31,0.10) -> Excess supply on Labor Market: 0.96, Good Market 1: -0.83, Good Market 2: -7.08\n",
      "(p1,p2) = (0.31,0.31) -> Excess supply on Labor Market: 0.94, Good Market 1: -0.84, Good Market 2: -2.17\n",
      "(p1,p2) = (0.31,0.52) -> Excess supply on Labor Market: 0.88, Good Market 1: -0.87, Good Market 2: -1.16\n",
      "(p1,p2) = (0.31,0.73) -> Excess supply on Labor Market: 0.79, Good Market 1: -0.91, Good Market 2: -0.69\n",
      "(p1,p2) = (0.31,0.94) -> Excess supply on Labor Market: 0.68, Good Market 1: -0.97, Good Market 2: -0.40\n",
      "(p1,p2) = (0.31,1.16) -> Excess supply on Labor Market: 0.54, Good Market 1: -1.05, Good Market 2: -0.18\n",
      "(p1,p2) = (0.31,1.37) -> Excess supply on Labor Market: 0.37, Good Market 1: -1.15, Good Market 2: -0.01\n",
      "(p1,p2) = (0.31,1.58) -> Excess supply on Labor Market: 0.18, Good Market 1: -1.26, Good Market 2: 0.14\n",
      "(p1,p2) = (0.31,1.79) -> Excess supply on Labor Market: -0.04, Good Market 1: -1.40, Good Market 2: 0.26\n",
      "(p1,p2) = (0.31,2.00) -> Excess supply on Labor Market: -0.27, Good Market 1: -1.56, Good Market 2: 0.38\n",
      "(p1,p2) = (0.52,0.10) -> Excess supply on Labor Market: 0.91, Good Market 1: -0.34, Good Market 2: -7.28\n",
      "(p1,p2) = (0.52,0.31) -> Excess supply on Labor Market: 0.88, Good Market 1: -0.35, Good Market 2: -2.24\n",
      "(p1,p2) = (0.52,0.52) -> Excess supply on Labor Market: 0.82, Good Market 1: -0.37, Good Market 2: -1.20\n",
      "(p1,p2) = (0.52,0.73) -> Excess supply on Labor Market: 0.73, Good Market 1: -0.39, Good Market 2: -0.72\n",
      "(p1,p2) = (0.52,0.94) -> Excess supply on Labor Market: 0.62, Good Market 1: -0.43, Good Market 2: -0.42\n",
      "(p1,p2) = (0.52,1.16) -> Excess supply on Labor Market: 0.48, Good Market 1: -0.48, Good Market 2: -0.20\n",
      "(p1,p2) = (0.52,1.37) -> Excess supply on Labor Market: 0.31, Good Market 1: -0.53, Good Market 2: -0.03\n",
      "(p1,p2) = (0.52,1.58) -> Excess supply on Labor Market: 0.12, Good Market 1: -0.60, Good Market 2: 0.12\n",
      "(p1,p2) = (0.52,1.79) -> Excess supply on Labor Market: -0.09, Good Market 1: -0.69, Good Market 2: 0.25\n",
      "(p1,p2) = (0.52,2.00) -> Excess supply on Labor Market: -0.33, Good Market 1: -0.78, Good Market 2: 0.37\n",
      "(p1,p2) = (0.73,0.10) -> Excess supply on Labor Market: 0.82, Good Market 1: -0.08, Good Market 2: -7.60\n",
      "(p1,p2) = (0.73,0.31) -> Excess supply on Labor Market: 0.79, Good Market 1: -0.09, Good Market 2: -2.34\n",
      "(p1,p2) = (0.73,0.52) -> Excess supply on Labor Market: 0.73, Good Market 1: -0.10, Good Market 2: -1.27\n",
      "(p1,p2) = (0.73,0.73) -> Excess supply on Labor Market: 0.65, Good Market 1: -0.12, Good Market 2: -0.77\n",
      "(p1,p2) = (0.73,0.94) -> Excess supply on Labor Market: 0.54, Good Market 1: -0.15, Good Market 2: -0.46\n",
      "(p1,p2) = (0.73,1.16) -> Excess supply on Labor Market: 0.40, Good Market 1: -0.18, Good Market 2: -0.23\n",
      "(p1,p2) = (0.73,1.37) -> Excess supply on Labor Market: 0.23, Good Market 1: -0.22, Good Market 2: -0.05\n",
      "(p1,p2) = (0.73,1.58) -> Excess supply on Labor Market: 0.04, Good Market 1: -0.27, Good Market 2: 0.10\n",
      "(p1,p2) = (0.73,1.79) -> Excess supply on Labor Market: -0.17, Good Market 1: -0.33, Good Market 2: 0.23\n",
      "(p1,p2) = (0.73,2.00) -> Excess supply on Labor Market: -0.40, Good Market 1: -0.40, Good Market 2: 0.35\n",
      "(p1,p2) = (0.94,0.10) -> Excess supply on Labor Market: 0.70, Good Market 1: 0.11, Good Market 2: -8.04\n",
      "(p1,p2) = (0.94,0.31) -> Excess supply on Labor Market: 0.68, Good Market 1: 0.10, Good Market 2: -2.48\n",
      "(p1,p2) = (0.94,0.52) -> Excess supply on Labor Market: 0.62, Good Market 1: 0.09, Good Market 2: -1.35\n",
      "(p1,p2) = (0.94,0.73) -> Excess supply on Labor Market: 0.54, Good Market 1: 0.07, Good Market 2: -0.83\n",
      "(p1,p2) = (0.94,0.94) -> Excess supply on Labor Market: 0.43, Good Market 1: 0.05, Good Market 2: -0.50\n",
      "(p1,p2) = (0.94,1.16) -> Excess supply on Labor Market: 0.29, Good Market 1: 0.03, Good Market 2: -0.27\n",
      "(p1,p2) = (0.94,1.37) -> Excess supply on Labor Market: 0.13, Good Market 1: -0.01, Good Market 2: -0.09\n",
      "(p1,p2) = (0.94,1.58) -> Excess supply on Labor Market: -0.06, Good Market 1: -0.05, Good Market 2: 0.07\n",
      "(p1,p2) = (0.94,1.79) -> Excess supply on Labor Market: -0.27, Good Market 1: -0.09, Good Market 2: 0.20\n",
      "(p1,p2) = (0.94,2.00) -> Excess supply on Labor Market: -0.51, Good Market 1: -0.14, Good Market 2: 0.32\n",
      "(p1,p2) = (1.16,0.10) -> Excess supply on Labor Market: 0.56, Good Market 1: 0.26, Good Market 2: -8.60\n",
      "(p1,p2) = (1.16,0.31) -> Excess supply on Labor Market: 0.54, Good Market 1: 0.25, Good Market 2: -2.66\n",
      "(p1,p2) = (1.16,0.52) -> Excess supply on Labor Market: 0.48, Good Market 1: 0.24, Good Market 2: -1.46\n",
      "(p1,p2) = (1.16,0.73) -> Excess supply on Labor Market: 0.40, Good Market 1: 0.23, Good Market 2: -0.91\n",
      "(p1,p2) = (1.16,0.94) -> Excess supply on Labor Market: 0.29, Good Market 1: 0.21, Good Market 2: -0.57\n",
      "(p1,p2) = (1.16,1.16) -> Excess supply on Labor Market: 0.15, Good Market 1: 0.19, Good Market 2: -0.32\n",
      "(p1,p2) = (1.16,1.37) -> Excess supply on Labor Market: -0.01, Good Market 1: 0.16, Good Market 2: -0.13\n",
      "(p1,p2) = (1.16,1.58) -> Excess supply on Labor Market: -0.19, Good Market 1: 0.13, Good Market 2: 0.03\n",
      "(p1,p2) = (1.16,1.79) -> Excess supply on Labor Market: -0.40, Good Market 1: 0.09, Good Market 2: 0.16\n",
      "(p1,p2) = (1.16,2.00) -> Excess supply on Labor Market: -0.63, Good Market 1: 0.05, Good Market 2: 0.29\n",
      "(p1,p2) = (1.37,0.10) -> Excess supply on Labor Market: 0.40, Good Market 1: 0.39, Good Market 2: -9.29\n",
      "(p1,p2) = (1.37,0.31) -> Excess supply on Labor Market: 0.37, Good Market 1: 0.39, Good Market 2: -2.89\n",
      "(p1,p2) = (1.37,0.52) -> Excess supply on Labor Market: 0.31, Good Market 1: 0.38, Good Market 2: -1.60\n",
      "(p1,p2) = (1.37,0.73) -> Excess supply on Labor Market: 0.23, Good Market 1: 0.37, Good Market 2: -1.00\n",
      "(p1,p2) = (1.37,0.94) -> Excess supply on Labor Market: 0.13, Good Market 1: 0.35, Good Market 2: -0.64\n",
      "(p1,p2) = (1.37,1.16) -> Excess supply on Labor Market: -0.01, Good Market 1: 0.33, Good Market 2: -0.39\n",
      "(p1,p2) = (1.37,1.37) -> Excess supply on Labor Market: -0.17, Good Market 1: 0.31, Good Market 2: -0.19\n",
      "(p1,p2) = (1.37,1.58) -> Excess supply on Labor Market: -0.35, Good Market 1: 0.28, Good Market 2: -0.02\n",
      "(p1,p2) = (1.37,1.79) -> Excess supply on Labor Market: -0.56, Good Market 1: 0.25, Good Market 2: 0.12\n",
      "(p1,p2) = (1.37,2.00) -> Excess supply on Labor Market: -0.78, Good Market 1: 0.21, Good Market 2: 0.25\n",
      "(p1,p2) = (1.58,0.10) -> Excess supply on Labor Market: 0.20, Good Market 1: 0.51, Good Market 2: -10.13\n",
      "(p1,p2) = (1.58,0.31) -> Excess supply on Labor Market: 0.18, Good Market 1: 0.51, Good Market 2: -3.15\n",
      "(p1,p2) = (1.58,0.52) -> Excess supply on Labor Market: 0.12, Good Market 1: 0.50, Good Market 2: -1.76\n",
      "(p1,p2) = (1.58,0.73) -> Excess supply on Labor Market: 0.04, Good Market 1: 0.49, Good Market 2: -1.12\n",
      "(p1,p2) = (1.58,0.94) -> Excess supply on Labor Market: -0.06, Good Market 1: 0.48, Good Market 2: -0.74\n",
      "(p1,p2) = (1.58,1.16) -> Excess supply on Labor Market: -0.19, Good Market 1: 0.46, Good Market 2: -0.46\n",
      "(p1,p2) = (1.58,1.37) -> Excess supply on Labor Market: -0.35, Good Market 1: 0.44, Good Market 2: -0.25\n",
      "(p1,p2) = (1.58,1.58) -> Excess supply on Labor Market: -0.53, Good Market 1: 0.42, Good Market 2: -0.08\n",
      "(p1,p2) = (1.58,1.79) -> Excess supply on Labor Market: -0.73, Good Market 1: 0.39, Good Market 2: 0.07\n",
      "(p1,p2) = (1.58,2.00) -> Excess supply on Labor Market: -0.96, Good Market 1: 0.35, Good Market 2: 0.20\n",
      "(p1,p2) = (1.79,0.10) -> Excess supply on Labor Market: -0.01, Good Market 1: 0.63, Good Market 2: -11.11\n",
      "(p1,p2) = (1.79,0.31) -> Excess supply on Labor Market: -0.04, Good Market 1: 0.62, Good Market 2: -3.47\n",
      "(p1,p2) = (1.79,0.52) -> Excess supply on Labor Market: -0.09, Good Market 1: 0.62, Good Market 2: -1.95\n",
      "(p1,p2) = (1.79,0.73) -> Excess supply on Labor Market: -0.17, Good Market 1: 0.61, Good Market 2: -1.26\n",
      "(p1,p2) = (1.79,0.94) -> Excess supply on Labor Market: -0.27, Good Market 1: 0.60, Good Market 2: -0.84\n",
      "(p1,p2) = (1.79,1.16) -> Excess supply on Labor Market: -0.40, Good Market 1: 0.58, Good Market 2: -0.55\n",
      "(p1,p2) = (1.79,1.37) -> Excess supply on Labor Market: -0.56, Good Market 1: 0.56, Good Market 2: -0.33\n",
      "(p1,p2) = (1.79,1.58) -> Excess supply on Labor Market: -0.73, Good Market 1: 0.54, Good Market 2: -0.15\n",
      "(p1,p2) = (1.79,1.79) -> Excess supply on Labor Market: -0.94, Good Market 1: 0.51, Good Market 2: 0.01\n",
      "(p1,p2) = (1.79,2.00) -> Excess supply on Labor Market: -1.16, Good Market 1: 0.49, Good Market 2: 0.15\n",
      "(p1,p2) = (2.00,0.10) -> Excess supply on Labor Market: -0.25, Good Market 1: 0.74, Good Market 2: -12.25\n",
      "(p1,p2) = (2.00,0.31) -> Excess supply on Labor Market: -0.27, Good Market 1: 0.73, Good Market 2: -3.84\n",
      "(p1,p2) = (2.00,0.52) -> Excess supply on Labor Market: -0.33, Good Market 1: 0.73, Good Market 2: -2.17\n",
      "(p1,p2) = (2.00,0.73) -> Excess supply on Labor Market: -0.40, Good Market 1: 0.72, Good Market 2: -1.41\n",
      "(p1,p2) = (2.00,0.94) -> Excess supply on Labor Market: -0.51, Good Market 1: 0.71, Good Market 2: -0.97\n",
      "(p1,p2) = (2.00,1.16) -> Excess supply on Labor Market: -0.63, Good Market 1: 0.69, Good Market 2: -0.65\n",
      "(p1,p2) = (2.00,1.37) -> Excess supply on Labor Market: -0.78, Good Market 1: 0.68, Good Market 2: -0.42\n",
      "(p1,p2) = (2.00,1.58) -> Excess supply on Labor Market: -0.96, Good Market 1: 0.66, Good Market 2: -0.22\n",
      "(p1,p2) = (2.00,1.79) -> Excess supply on Labor Market: -1.16, Good Market 1: 0.63, Good Market 2: -0.06\n",
      "(p1,p2) = (2.00,2.00) -> Excess supply on Labor Market: -1.38, Good Market 1: 0.61, Good Market 2: 0.08\n"
     ]
    }
   ],
   "source": [
    "# Firm functions\n",
    "def labor_demand(p):\n",
    "    return (p * par.A * par.gamma) ** (1 / (1 - par.gamma))\n",
    "\n",
    "def good_supply(l):\n",
    "    return par.A * l ** par.gamma\n",
    "\n",
    "def profit(p):\n",
    "    return ((1 - par.gamma) / par.gamma) * (p * par.A * par.gamma) ** (1 / (1 - par.gamma))\n",
    "\n",
    "# Consumer functions\n",
    "def good_demand_1(p1, p2, l):\n",
    "    income = l + par.T + profit(p1) + profit(p2)\n",
    "    return par.alpha * income / p1\n",
    "\n",
    "def good_demand_2(p1, p2, l):\n",
    "    income = l + par.T + profit(p1) + profit(p2)\n",
    "    return (1 - par.alpha) * income / (p2 + par.tau)\n",
    "\n",
    "def labor_supply(p1, p2):\n",
    "    # Define the objective function\n",
    "    def objective(l):\n",
    "        c1 = good_demand_1(p1, p2, l)\n",
    "        c2 = good_demand_2(p1, p2, l)\n",
    "        return np.log(c1 ** par.alpha * c2 ** (1 - par.alpha)) - par.nu * l ** (1 + par.epsilon) / (1 + par.epsilon)\n",
    "    \n",
    "    # Find the labor that maximizes the objective\n",
    "    result = minimize_scalar(lambda l: -objective(l), bounds=(0, 10), method='bounded')\n",
    "    return result.x\n",
    "\n",
    "# Check market clearing conditions\n",
    "for p1 in np.linspace(0.1, 2.0, 10):\n",
    "    for p2 in np.linspace(0.1, 2.0, 10):\n",
    "        # Firm labor demand\n",
    "        labor_demand_1 = labor_demand(p1)\n",
    "        labor_demand_2 = labor_demand(p2)\n",
    "\n",
    "        # Firm good supply\n",
    "        good_supply_1 = good_supply(labor_demand_1)\n",
    "        good_supply_2 = good_supply(labor_demand_2)\n",
    "\n",
    "        # Consumer labor supply\n",
    "        l = labor_supply(p1, p2)\n",
    "\n",
    "        # Consumer good demand\n",
    "        c1 = good_demand_1(p1, p2, l)\n",
    "        c2 = good_demand_2(p1, p2, l)\n",
    "\n",
    "        # Market clearing conditions\n",
    "        LM = l - labor_demand_1 - labor_demand_2\n",
    "        GM1 = good_supply_1 - c1\n",
    "        GM2 = good_supply_2 - c2\n",
    "\n",
    "        # printing results\n",
    "        print(f'(p1,p2) = ({p1:.2f},{p2:.2f}) -> Excess supply on Labor Market: {LM:.2f}, Good Market 1: {GM1:.2f}, Good Market 2: {GM2:.2f}')"
   ]
  },
  {
   "cell_type": "markdown",
   "metadata": {},
   "source": [
    "**Question 2:** Find the equilibrium prices $p_1$ and $p_2$.<br>\n",
    "*Hint: you can use Walras' law to only check 2 of the market clearings*"
   ]
  },
  {
   "cell_type": "code",
   "execution_count": 6,
   "metadata": {},
   "outputs": [
    {
     "name": "stdout",
     "output_type": "stream",
     "text": [
      "Equilibrium prices: p1 = 0.98, p2 = 1.49\n"
     ]
    }
   ],
   "source": [
    "# Define function that expresses excess demand given prices\n",
    "def market_clearing(prices):\n",
    "    p1, p2 = prices\n",
    "    labor_demand_1 = labor_demand(p1)\n",
    "    labor_demand_2 = labor_demand(p2)\n",
    "    good_supply_1 = good_supply(labor_demand_1)\n",
    "    l = labor_supply(p1, p2)\n",
    "    c1 = good_demand_1(p1, p2, l)\n",
    "    LM = l - labor_demand_1 - labor_demand_2\n",
    "    GM1 = good_supply_1 - c1\n",
    "    return [LM, GM1]\n",
    "\n",
    "# Finding equilibrium prices, with (p1,p2) = (1.0,1.0) as initial guess\n",
    "result = root(market_clearing, [1.0, 1.0])\n",
    "\n",
    "# Check if solution was found\n",
    "if result.success:\n",
    "    equilibrium_prices = result.x\n",
    "    print(f'Equilibrium prices: p1 = {equilibrium_prices[0]:.2f}, p2 = {equilibrium_prices[1]:.2f}')\n",
    "else:\n",
    "    print('Equilibrium not found')"
   ]
  },
  {
   "cell_type": "markdown",
   "metadata": {},
   "source": [
    "Assume the government care about the social welfare function:\n",
    "\n",
    "$$\n",
    "SWF = U - \\kappa y_2^*\n",
    "$$"
   ]
  },
  {
   "cell_type": "markdown",
   "metadata": {},
   "source": [
    "Here $\\kappa$ measures the social cost of carbon emitted by the production of $y_2$ in equilibrium."
   ]
  },
  {
   "cell_type": "markdown",
   "metadata": {},
   "source": [
    "**Question 3:** What values of $\\tau$ and (implied) $T$ should the government choose to maximize $SWF$?"
   ]
  },
  {
   "cell_type": "code",
   "execution_count": 7,
   "metadata": {},
   "outputs": [
    {
     "name": "stdout",
     "output_type": "stream",
     "text": [
      "Optimal tau is 0.17, which leads to SWF = -0.66\n"
     ]
    }
   ],
   "source": [
    "# Function to find equilibrium for given tau\n",
    "def find_equilibrium(tau, T):\n",
    "    par.tau = tau\n",
    "    par.T = T\n",
    "\n",
    "    initial_prices = [1.0, 1.0]\n",
    "    result = root(market_clearing, initial_prices)\n",
    "\n",
    "    if result.success:\n",
    "        optimal_prices = result.x\n",
    "        l = labor_supply(optimal_prices[0], optimal_prices[1])\n",
    "        c2 = good_demand_2(optimal_prices[0], optimal_prices[1], l)\n",
    "        return c2, optimal_prices\n",
    "    else:\n",
    "        raise ValueError('Equilibrium prices not found')\n",
    "\n",
    "# Social welfare function\n",
    "def social_welfare(tau):\n",
    "    # Initial guess for T\n",
    "    T = 0\n",
    "    tolerance = 1e-6\n",
    "    max_iterations = 100\n",
    "    iteration = 0\n",
    "    \n",
    "    while iteration < max_iterations:\n",
    "        iteration += 1\n",
    "        previous_T = T\n",
    "        c2, optimal_prices = find_equilibrium(tau, T)\n",
    "        T = tau * c2\n",
    "        \n",
    "        if abs(T - previous_T) < tolerance:\n",
    "            break\n",
    "\n",
    "    # Final equilibrium with converged T\n",
    "    c2, optimal_prices = find_equilibrium(tau, T)\n",
    "    l = labor_supply(optimal_prices[0], optimal_prices[1])\n",
    "    c1 = good_demand_1(optimal_prices[0], optimal_prices[1], l)\n",
    "    \n",
    "    # Utility function\n",
    "    U = np.log(c1 ** par.alpha * c2 ** (1 - par.alpha)) - par.nu * l ** (1 + par.epsilon) / (1 + par.epsilon)\n",
    "    # Social welfare function\n",
    "    SWF = U - par.kappa * c2\n",
    "    return -SWF  # We minimize the negative of SWF to maximize SWF\n",
    "\n",
    "# Finding optimal tau\n",
    "result_tau = minimize_scalar(social_welfare, bounds=(0, 1), method='bounded')\n",
    "\n",
    "# Check if solution was found\n",
    "if result_tau.success:\n",
    "    optimal_tau = result_tau.x\n",
    "    print(f'Optimal tau is {optimal_tau:.2f}, which leads to SWF = {-result_tau.fun:.2f}')\n",
    "else:\n",
    "    print('Optimal tau not found')"
   ]
  },
  {
   "cell_type": "markdown",
   "metadata": {},
   "source": [
    "## 2. <a id='toc2_'></a>[Problem 2: Career choice model](#toc0_)"
   ]
  },
  {
   "cell_type": "markdown",
   "metadata": {},
   "source": [
    "Consider a graduate $i$ making a choice between entering $J$ different career tracks. <br>\n",
    "Entering career $j$ yields utility $u^k_{ij}$. This value is unknown to the graduate ex ante, but will ex post be: <br>\n",
    "$$\n",
    "    u_{i,j}^k = v_{j} + \\epsilon_{i,j}^k\n",
    "$$\n",
    "\n",
    "They know that $\\epsilon^k_{i,j}\\sim \\mathcal{N}(0,\\sigma^2)$, but they do not observe $\\epsilon^k_{i,j}$ before making their career choice. <br>"
   ]
  },
  {
   "cell_type": "markdown",
   "metadata": {},
   "source": [
    "Consider the concrete case of $J=3$ with:\n",
    "$$\n",
    "\\begin{align*}\n",
    "    v_{1} &= 1 \\\\\n",
    "    v_{2} &= 2 \\\\\n",
    "    v_{3} &= 3\n",
    "\\end{align*}\n",
    "$$"
   ]
  },
  {
   "cell_type": "markdown",
   "metadata": {},
   "source": [
    "If the graduates know the values of $v_j$ and the distribution of $\\epsilon_{i,j}^k$, they can calculate the expected utility of each career track using simulation: <br>\n",
    "$$\n",
    "    \\mathbb{E}\\left[ u^k_{i,j}\\vert v_j \\right] \\approx v_j + \\frac{1}{K}\\sum_{k=1}^K \\epsilon_{i,j}^k\n",
    "$$"
   ]
  },
  {
   "cell_type": "code",
   "execution_count": 47,
   "metadata": {},
   "outputs": [],
   "source": [
    "par = SimpleNamespace()\n",
    "par.J = 3\n",
    "par.N = 10\n",
    "par.K = 10000\n",
    "\n",
    "par.F = np.arange(1,par.N+1)\n",
    "par.sigma = 2\n",
    "\n",
    "par.v = np.array([1,2,3])\n",
    "par.c = 1"
   ]
  },
  {
   "cell_type": "markdown",
   "metadata": {},
   "source": [
    "**Question 1:** Simulate and calculate expected utility and the average realised utility for $K=10000$ draws, for each career choice $j$.\n"
   ]
  },
  {
   "cell_type": "code",
   "execution_count": 48,
   "metadata": {},
   "outputs": [],
   "source": [
    "# write your answer here"
   ]
  },
  {
   "cell_type": "markdown",
   "metadata": {},
   "source": [
    "Now consider a new scenario: Imagine that the graduate does not know $v_j$. The *only* prior information they have on the value of each job, comes from their $F_{i}$ friends that work in each career $j$. After talking with them, they know the average utility of their friends (which includes their friends' noise term), giving them the prior expecation: <br>\n",
    "$$\n",
    "\\tilde{u}^k_{i,j}\\left( F_{i}\\right) = \\frac{1}{F_{i}}\\sum_{f=1}^{F_{i}} \\left(v_{j} + \\epsilon^k_{f,j}\\right), \\; \\epsilon^k_{f,j}\\sim \\mathcal{N}(0,\\sigma^2)\n",
    "$$\n",
    "For ease of notation consider that each graduate have $F_{i}=i$ friends in each career. <br>"
   ]
  },
  {
   "cell_type": "markdown",
   "metadata": {},
   "source": [
    "For $K$ times do the following: <br>\n",
    "1. For each person $i$ draw $J\\cdot F_i$ values of $\\epsilon_{f,j}^{k}$, and calculate the prior expected utility of each career track, $\\tilde{u}^k_{i,j}\\left( F_{i}\\right)$. <br>\n",
    "Also draw their own $J$ noise terms, $\\epsilon_{i,j}^k$\n",
    "1. Each person $i$ chooses the career track with the highest expected utility: $$j_i^{k*}= \\arg\\max_{j\\in{1,2\\dots,J}}\\left\\{ \\tilde{u}^k_{i,j}\\left( F_{i}\\right)\\right\\} $$\n",
    "1. Store the chosen careers: $j_i^{k*}$, the prior expectation of the value of their chosen career: $\\tilde{u}^k_{i,j=j_i^{k*}}\\left( F_{i}\\right)$, and the realized value of their chosen career track: $u^k_{i,j=j_i^{k*}}=v_{j=j_i^{k*}}+\\epsilon_{i,j=j_i^{k*}}^k$."
   ]
  },
  {
   "cell_type": "markdown",
   "metadata": {},
   "source": [
    "Chosen values will be: <br>\n",
    "$i\\in\\left\\{1,2\\dots,N\\right\\}, N=10$ <br>\n",
    "$F_i = i$<br>\n",
    "So there are 10 graduates. The first has 1 friend in each career, the second has 2 friends, ... the tenth has 10 friends."
   ]
  },
  {
   "cell_type": "markdown",
   "metadata": {},
   "source": [
    "**Question 2:** Simulate and visualize: For each type of graduate, $i$, the share of graduates choosing each career, the average subjective expected utility of the graduates, and the average ex post realized utility given their choice. <br>\n",
    "That is, calculate and visualize: <br>\n",
    "$$\n",
    "\\begin{align*}\n",
    "    \\frac{1}{K} \\sum_{k=1}^{K} \\mathbb{I}\\left\\{ j=j_i^{k*} \\right\\}  \\;\\forall j\\in\\left\\{1,2,\\dots,J\\right\\}\n",
    "\\end{align*}\n",
    "$$\n",
    "$$\n",
    "\\begin{align*}\n",
    "    \\frac{1}{K} \\sum_{k=1}^{K} \\tilde{u}^k_{ij=j_i^{k*}}\\left( F_{i}\\right)\n",
    "\\end{align*}\n",
    "$$\n",
    "And \n",
    "$$\n",
    "\\begin{align*}\n",
    "    \\frac{1}{K} \\sum_{k=1}^{K} u^k_{ij=j_i^{k*}} \n",
    "\\end{align*}\n",
    "$$\n",
    "For each graduate $i$."
   ]
  },
  {
   "cell_type": "code",
   "execution_count": 49,
   "metadata": {},
   "outputs": [],
   "source": [
    "# Write your answer here "
   ]
  },
  {
   "cell_type": "markdown",
   "metadata": {},
   "source": [
    "After a year of working in their career, the graduates learn $u^k_{ij}$ for their chosen job $j_i^{k*}$ perfectly. <br>\n",
    "The can switch to one of the two remaining careers, for which they have the same prior as before, but it will now include a switching cost of $c$ which is known.\n",
    "Their new priors can be written as: \n",
    "$$\n",
    "\\tilde{u}^{k,2}_{ij}\\left( F_{i}\\right) = \\begin{cases}\n",
    "            \\tilde{u}^k_{ij}\\left( F_{i}\\right)-c & \\text{if } j \\neq j_i^{k*} \\\\\n",
    "            u_{ij=j_i^{k*}} & \\text{if } j = j_i^{k*}\n",
    "        \\end{cases}\n",
    "$$"
   ]
  },
  {
   "cell_type": "markdown",
   "metadata": {},
   "source": [
    "We will set $c=1$."
   ]
  },
  {
   "cell_type": "markdown",
   "metadata": {},
   "source": [
    "Their realized utility will be: <br>\n",
    "$$\n",
    "u^{k,2}_{ij}= \\begin{cases}\n",
    "            u_{ij}^k -c & \\text{if } j \\neq j_i^{k*} \\\\\n",
    "            u_{ij=j_i^{k*}} & \\text{if } j = j_i^{k*}\n",
    "        \\end{cases}\n",
    "$$"
   ]
  },
  {
   "cell_type": "markdown",
   "metadata": {},
   "source": [
    "**Question 3:** Following the same approach as in question 2, find the new optimal career choice for each $i$, $k$. Then for each $i$, calculate the average subjective expected utility from their new optimal career choice, and the ex post realized utility of that career. Also, for each $i$, calculate the share of graduates that chooses to switch careers, conditional on which career they chose in the first year. <br>"
   ]
  },
  {
   "cell_type": "code",
   "execution_count": 50,
   "metadata": {},
   "outputs": [],
   "source": [
    "# write your answer here"
   ]
  },
  {
   "cell_type": "markdown",
   "metadata": {},
   "source": [
    "## 3. <a id='toc3_'></a>[Problem 3: Barycentric interpolation](#toc0_)"
   ]
  },
  {
   "cell_type": "markdown",
   "metadata": {},
   "source": [
    "**Problem:** We have a set of random points in the unit square,\n",
    "\n",
    "$$\n",
    "\\mathcal{X} = \\{(x_1,x_2)\\,|\\,x_1\\sim\\mathcal{U}(0,1),x_2\\sim\\mathcal{U}(0,1)\\}.\n",
    "$$\n",
    "\n",
    "For these points, we know the value of some function $f(x_1,x_2)$,\n",
    "\n",
    "$$\n",
    "\\mathcal{F} = \\{f(x_1,x_2) \\,|\\, (x_1,x_2) \\in \\mathcal{X}\\}.\n",
    "$$\n",
    "\n",
    "Now we want to approximate the value $f(y_1,y_2)$ for some  $y=(y_1,y_2)$, where $y_1\\sim\\mathcal{U}(0,1)$ and $y_2\\sim\\mathcal{U}(0,1)$.\n",
    "\n",
    "**Building block I**\n",
    "\n",
    "For an arbitrary triangle $ABC$ and a point $y$, define the so-called barycentric coordinates as:\n",
    "\n",
    "$$\n",
    "\\begin{align*}\n",
    "  r^{ABC}_1 &= \\frac{(B_2-C_2)(y_1-C_1) + (C_1-B_1)(y_2-C_2)}{(B_2-C_2)(A_1-C_1) + (C_1-B_1)(A_2-C_2)} \\\\\n",
    "  r^{ABC}_2 &= \\frac{(C_2-A_2)(y_1-C_1) + (A_1-C_1)(y_2-C_2)}{(B_2-C_2)(A_1-C_1) + (C_1-B_1)(A_2-C_2)} \\\\\n",
    "  r^{ABC}_3 &= 1 - r_1 - r_2.\n",
    "\\end{align*}\n",
    "$$\n",
    "\n",
    "If $r^{ABC}_1 \\in [0,1]$, $r^{ABC}_2 \\in [0,1]$, and $r^{ABC}_3 \\in [0,1]$, then the point is inside the triangle.\n",
    "\n",
    "We always have $y = r^{ABC}_1 A + r^{ABC}_2 B + r^{ABC}_3 C$.\n",
    "\n",
    "**Building block II**\n",
    "\n",
    "Define the following points:\n",
    "\n",
    "$$\n",
    "\\begin{align*}\n",
    "A&=\\arg\\min_{(x_{1},x_{2})\\in\\mathcal{X}}\\sqrt{\\left(x_{1}-y_{1}\\right)^{2}+\\left(x_{2}-y_{2}\\right)^{2}}\\text{ s.t. }x_{1}>y_{1}\\text{ and }x_{2}>y_{2}\\\\\n",
    "B&=\\arg\\min_{(x_{1},x_{2})\\in\\mathcal{X}}\\sqrt{\\left(x_{1}-y_{1}\\right)^{2}+\\left(x_{2}-y_{2}\\right)^{2}}\\text{ s.t. }x_{1}>y_{1}\\text{ and }x_{2}<y_{2}\\\\\n",
    "C&=\\arg\\min_{(x_{1},x_{2})\\in\\mathcal{X}}\\sqrt{\\left(x_{1}-y_{1}\\right)^{2}+\\left(x_{2}-y_{2}\\right)^{2}}\\text{ s.t. }x_{1}<y_{1}\\text{ and }x_{2}<y_{2}\\\\\n",
    "D&=\\arg\\min_{(x_{1},x_{2})\\in\\mathcal{X}}\\sqrt{\\left(x_{1}-y_{1}\\right)^{2}+\\left(x_{2}-y_{2}\\right)^{2}}\\text{ s.t. }x_{1}<y_{1}\\text{ and }x_{2}>y_{2}.\n",
    "\\end{align*}\n",
    "$$\n",
    "\n",
    "**Algorithm:**\n",
    "\n",
    "1. Compute $A$, $B$, $C$, and $D$. If not possible return `NaN`.\n",
    "1. If $y$ is inside the triangle $ABC$ return $r^{ABC}_1 f(A) + r^{ABC}_2 f(B) + r^{ABC}_3 f(C)$.\n",
    "1. If $y$ is inside the triangle $CDA$ return $r^{CDA}_1 f(C) + r^{CDA}_2 f(D) + r^{CDA}_3 f(A)$.\n",
    "1. Return `NaN`.\n",
    "\n"
   ]
  },
  {
   "cell_type": "markdown",
   "metadata": {},
   "source": [
    "**Sample:**"
   ]
  },
  {
   "cell_type": "code",
   "execution_count": 51,
   "metadata": {},
   "outputs": [],
   "source": [
    "rng = np.random.default_rng(2024)\n",
    "\n",
    "X = rng.uniform(size=(50,2))\n",
    "y = rng.uniform(size=(2,))\n"
   ]
  },
  {
   "cell_type": "markdown",
   "metadata": {},
   "source": [
    "**Questions 1:** Find $A$, $B$, $C$ and $D$. Illustrate these together with $X$, $y$ and the triangles $ABC$ and $CDA$."
   ]
  },
  {
   "cell_type": "code",
   "execution_count": 52,
   "metadata": {},
   "outputs": [],
   "source": [
    "# write your answer here"
   ]
  },
  {
   "cell_type": "markdown",
   "metadata": {},
   "source": [
    "**Question 2:** Compute the barycentric coordinates of the point $y$ with respect to the triangles $ABC$ and $CDA$. Which triangle is $y$ located inside?"
   ]
  },
  {
   "cell_type": "code",
   "execution_count": 53,
   "metadata": {},
   "outputs": [],
   "source": [
    "# write your answer here"
   ]
  },
  {
   "cell_type": "markdown",
   "metadata": {},
   "source": [
    "Now consider the function:\n",
    "$$\n",
    "f(x_1,x_2) = x_1 \\cdot x_2\n",
    "$$"
   ]
  },
  {
   "cell_type": "code",
   "execution_count": 54,
   "metadata": {},
   "outputs": [],
   "source": [
    "f = lambda x: x[0]*x[1]\n",
    "F = np.array([f(x) for x in X])"
   ]
  },
  {
   "cell_type": "markdown",
   "metadata": {},
   "source": [
    "**Question 3:** Compute the approximation of $f(y)$ using the full algorithm. Compare with the true value."
   ]
  },
  {
   "cell_type": "code",
   "execution_count": 55,
   "metadata": {},
   "outputs": [],
   "source": [
    "# write your answer here"
   ]
  },
  {
   "cell_type": "markdown",
   "metadata": {},
   "source": [
    "**Question 4:** Repeat question 3 for all points in the set $Y$."
   ]
  },
  {
   "cell_type": "code",
   "execution_count": 56,
   "metadata": {},
   "outputs": [],
   "source": [
    "Y = [(0.2,0.2),(0.8,0.2),(0.8,0.8),(0.8,0.2),(0.5,0.5)]"
   ]
  },
  {
   "cell_type": "code",
   "execution_count": 57,
   "metadata": {},
   "outputs": [],
   "source": [
    "# write your answer here"
   ]
  }
 ],
 "metadata": {
  "kernelspec": {
   "display_name": "base",
   "language": "python",
   "name": "python3"
  },
  "language_info": {
   "codemirror_mode": {
    "name": "ipython",
    "version": 3
   },
   "file_extension": ".py",
   "mimetype": "text/x-python",
   "name": "python",
   "nbconvert_exporter": "python",
   "pygments_lexer": "ipython3",
   "version": "3.11.5"
  }
 },
 "nbformat": 4,
 "nbformat_minor": 2
}
