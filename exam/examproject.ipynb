{
 "cells": [
  {
   "cell_type": "markdown",
   "metadata": {},
   "source": [
    "**Table of contents**<a id='toc0_'></a>    \n",
    "- 1. [Problem 1: Production economy and CO2 taxation](#toc1_)    \n",
    "- 2. [Problem 2: Career choice model](#toc2_)    \n",
    "- 3. [Problem 3: Barycentric interpolation](#toc3_)    \n",
    "\n",
    "<!-- vscode-jupyter-toc-config\n",
    "\tnumbering=true\n",
    "\tanchor=true\n",
    "\tflat=false\n",
    "\tminLevel=2\n",
    "\tmaxLevel=6\n",
    "\t/vscode-jupyter-toc-config -->\n",
    "<!-- THIS CELL WILL BE REPLACED ON TOC UPDATE. DO NOT WRITE YOUR TEXT IN THIS CELL -->"
   ]
  },
  {
   "cell_type": "code",
   "execution_count": null,
   "metadata": {},
   "outputs": [],
   "source": [
    "import numpy as np\n",
    "from types import SimpleNamespace\n",
    "from scipy.optimize import minimize_scalar, root\n",
    "import matplotlib.pyplot as plt"
   ]
  },
  {
   "cell_type": "markdown",
   "metadata": {},
   "source": [
    "## 1. <a id='toc1_'></a>[Problem 1: Production economy and CO2 taxation](#toc0_)"
   ]
  },
  {
   "cell_type": "markdown",
   "metadata": {},
   "source": [
    "Consider a production economy with two firms indexed by $j \\in \\{1,2\\}$. Each produce its own good. They solve\n",
    "\n",
    "$$\n",
    "\\begin{align*}\n",
    "\\max_{y_{j}}\\pi_{j}&=p_{j}y_{j}-w_{j}\\ell_{j}\\\\\\text{s.t.}\\;&y_{j}=A\\ell_{j}^{\\gamma}.\n",
    "\\end{align*}\n",
    "$$\n",
    "\n",
    "Optimal firm behavior is\n",
    "\n",
    "$$\n",
    "\\begin{align*}\n",
    "\\ell_{j}^{\\star}(w,p_{j})&=\\left(\\frac{p_{j}A\\gamma}{w}\\right)^{\\frac{1}{1-\\gamma}} \\\\\n",
    "y_{j}^{\\star}(w,p_{j})&=A\\left(\\ell_{j}^{\\star}(w,p_{j})\\right)^{\\gamma}\n",
    "\\end{align*}\n",
    "$$\n",
    "\n",
    "The implied profits are\n",
    "\n",
    "$$\n",
    "\\pi_{j}^*(w,p_{j})=\\frac{1-\\gamma}{\\gamma}w\\cdot\\left(\\frac{p_{j}A\\gamma}{w}\\right)^{\\frac{1}{1-\\gamma}}\n",
    "$$\n",
    "\n",
    "A single consumer supplies labor, and consumes the goods the firms produce. She also recieves the implied profits of the firm.<br>\n",
    "She solves:\n",
    "\n",
    "$$\n",
    "\\begin{align*}\n",
    "U(p_1,p_2,w,\\tau,T) = \\max_{c_{1},c_{2},\\ell} & \\log(c_{1}^{\\alpha}c_{2}^{1-\\alpha})-\\nu\\frac{\\ell^{1+\\epsilon}}{1+\\epsilon} \\\\\n",
    "\\text{s.t.}\\,\\,\\,&p_{1}c_{1}+(p_{2}+\\tau)c_{2}=w\\ell+T+\\pi_{1}^*(w,p_{1})+\\pi_{2}^*(w,p_{2})\n",
    "\\end{align*}\n",
    "$$\n",
    "\n",
    "where $\\tau$ is a tax and $T$ is lump-sum transfer. <br>\n",
    "For a given $\\ell$, it can be shown that optimal behavior is\n",
    "\n",
    "$$\n",
    "\\begin{align*}\n",
    "c_{1}(\\ell)&=\\alpha\\frac{w\\ell+T+\\pi_{1}^*(w,p_{1})+\\pi_{2}^*(w,p_{2})}{p_{1}} \\\\\n",
    "c_{2}(\\ell)&=(1-\\alpha)\\frac{w\\ell+T+\\pi_{1}^*(w,p_{1})+\\pi_{2}^*(w,p_{2})}{p_{2}+\\tau} \\\\\n",
    "\\end{align*}\n",
    "$$\n",
    "Such that optimal behavior is:\n",
    "$$\n",
    "\\ell^* = \\underset{\\ell}{\\arg\\max} \\log(\\left(c_{1}(\\ell)\\right)^{\\alpha}\\cdot \\left(c_{2}(\\ell)\\right)^{1-\\alpha})-\\nu\\frac{\\ell^{1+\\epsilon}}{1+\\epsilon} \n",
    "$$\n",
    "With optimal consumption:\n",
    "$$\n",
    "\\begin{align*}\n",
    "c_1^*=c_{1}(\\ell^*) \\\\\n",
    "c_2^*=c_{2}(\\ell^*)\\\\\n",
    "\\end{align*}\n",
    "$$\n",
    "\n",
    "\n",
    "The government chooses $\\tau$ and balances its budget so $T=\\tau c_2^*$. We initially set $\\tau,T=0$.\n",
    "\n",
    "Market clearing requires:\n",
    "\n",
    "1. Labor market: $\\ell^* = \\ell_1^* + \\ell_2^*$\n",
    "1. Good market 1: $c_1^* = y_1^*$\n",
    "1. Good market 2: $c_2^* = y_2^*$\n"
   ]
  },
  {
   "cell_type": "markdown",
   "metadata": {},
   "source": [
    "**Question 1:** Check market clearing conditions for $p_1$ in `linspace(0.1,2.0,10)` and $p_2$ in `linspace(0.1,2.0,10)`. We choose $w=1$ as numeraire."
   ]
  },
  {
   "cell_type": "code",
   "execution_count": null,
   "metadata": {},
   "outputs": [],
   "source": [
    "#Setting parameters\n",
    "par = SimpleNamespace()\n",
    "\n",
    "#Firms\n",
    "par.A = 1.0\n",
    "par.gamma = 0.5\n",
    "\n",
    "#Households\n",
    "par.alpha = 0.3\n",
    "par.nu = 1.0\n",
    "par.epsilon = 2.0\n",
    "\n",
    "#Government\n",
    "par.tau = 0.0\n",
    "par.T = 0.0\n",
    "\n",
    "#Question 3\n",
    "par.kappa = 0.1"
   ]
  },
  {
   "cell_type": "code",
   "execution_count": null,
   "metadata": {},
   "outputs": [
    {
     "name": "stdout",
     "output_type": "stream",
     "text": [
      "(p1,p2) = (0.10,0.10) -> Excess supply on Labor Market: 0.99, Good Market 1: -2.96, Good Market 2: -6.97\n",
      "(p1,p2) = (0.10,0.31) -> Excess supply on Labor Market: 0.96, Good Market 1: -3.00, Good Market 2: -2.13\n",
      "(p1,p2) = (0.10,0.52) -> Excess supply on Labor Market: 0.91, Good Market 1: -3.09, Good Market 2: -1.14\n",
      "(p1,p2) = (0.10,0.73) -> Excess supply on Labor Market: 0.82, Good Market 1: -3.23, Good Market 2: -0.68\n",
      "(p1,p2) = (0.10,0.94) -> Excess supply on Labor Market: 0.70, Good Market 1: -3.42, Good Market 2: -0.38\n",
      "(p1,p2) = (0.10,1.16) -> Excess supply on Labor Market: 0.56, Good Market 1: -3.66, Good Market 2: -0.17\n",
      "(p1,p2) = (0.10,1.37) -> Excess supply on Labor Market: 0.40, Good Market 1: -3.95, Good Market 2: -0.00\n",
      "(p1,p2) = (0.10,1.58) -> Excess supply on Labor Market: 0.20, Good Market 1: -4.31, Good Market 2: 0.14\n",
      "(p1,p2) = (0.10,1.79) -> Excess supply on Labor Market: -0.01, Good Market 1: -4.73, Good Market 2: 0.27\n",
      "(p1,p2) = (0.10,2.00) -> Excess supply on Labor Market: -0.25, Good Market 1: -5.22, Good Market 2: 0.39\n",
      "(p1,p2) = (0.31,0.10) -> Excess supply on Labor Market: 0.96, Good Market 1: -0.83, Good Market 2: -7.08\n",
      "(p1,p2) = (0.31,0.31) -> Excess supply on Labor Market: 0.94, Good Market 1: -0.84, Good Market 2: -2.17\n",
      "(p1,p2) = (0.31,0.52) -> Excess supply on Labor Market: 0.88, Good Market 1: -0.87, Good Market 2: -1.16\n",
      "(p1,p2) = (0.31,0.73) -> Excess supply on Labor Market: 0.79, Good Market 1: -0.91, Good Market 2: -0.69\n",
      "(p1,p2) = (0.31,0.94) -> Excess supply on Labor Market: 0.68, Good Market 1: -0.97, Good Market 2: -0.40\n",
      "(p1,p2) = (0.31,1.16) -> Excess supply on Labor Market: 0.54, Good Market 1: -1.05, Good Market 2: -0.18\n",
      "(p1,p2) = (0.31,1.37) -> Excess supply on Labor Market: 0.37, Good Market 1: -1.15, Good Market 2: -0.01\n",
      "(p1,p2) = (0.31,1.58) -> Excess supply on Labor Market: 0.18, Good Market 1: -1.26, Good Market 2: 0.14\n",
      "(p1,p2) = (0.31,1.79) -> Excess supply on Labor Market: -0.04, Good Market 1: -1.40, Good Market 2: 0.26\n",
      "(p1,p2) = (0.31,2.00) -> Excess supply on Labor Market: -0.27, Good Market 1: -1.56, Good Market 2: 0.38\n",
      "(p1,p2) = (0.52,0.10) -> Excess supply on Labor Market: 0.91, Good Market 1: -0.34, Good Market 2: -7.28\n",
      "(p1,p2) = (0.52,0.31) -> Excess supply on Labor Market: 0.88, Good Market 1: -0.35, Good Market 2: -2.24\n",
      "(p1,p2) = (0.52,0.52) -> Excess supply on Labor Market: 0.82, Good Market 1: -0.37, Good Market 2: -1.20\n",
      "(p1,p2) = (0.52,0.73) -> Excess supply on Labor Market: 0.73, Good Market 1: -0.39, Good Market 2: -0.72\n",
      "(p1,p2) = (0.52,0.94) -> Excess supply on Labor Market: 0.62, Good Market 1: -0.43, Good Market 2: -0.42\n",
      "(p1,p2) = (0.52,1.16) -> Excess supply on Labor Market: 0.48, Good Market 1: -0.48, Good Market 2: -0.20\n",
      "(p1,p2) = (0.52,1.37) -> Excess supply on Labor Market: 0.31, Good Market 1: -0.53, Good Market 2: -0.03\n",
      "(p1,p2) = (0.52,1.58) -> Excess supply on Labor Market: 0.12, Good Market 1: -0.60, Good Market 2: 0.12\n",
      "(p1,p2) = (0.52,1.79) -> Excess supply on Labor Market: -0.09, Good Market 1: -0.69, Good Market 2: 0.25\n",
      "(p1,p2) = (0.52,2.00) -> Excess supply on Labor Market: -0.33, Good Market 1: -0.78, Good Market 2: 0.37\n",
      "(p1,p2) = (0.73,0.10) -> Excess supply on Labor Market: 0.82, Good Market 1: -0.08, Good Market 2: -7.60\n",
      "(p1,p2) = (0.73,0.31) -> Excess supply on Labor Market: 0.79, Good Market 1: -0.09, Good Market 2: -2.34\n",
      "(p1,p2) = (0.73,0.52) -> Excess supply on Labor Market: 0.73, Good Market 1: -0.10, Good Market 2: -1.27\n",
      "(p1,p2) = (0.73,0.73) -> Excess supply on Labor Market: 0.65, Good Market 1: -0.12, Good Market 2: -0.77\n",
      "(p1,p2) = (0.73,0.94) -> Excess supply on Labor Market: 0.54, Good Market 1: -0.15, Good Market 2: -0.46\n",
      "(p1,p2) = (0.73,1.16) -> Excess supply on Labor Market: 0.40, Good Market 1: -0.18, Good Market 2: -0.23\n",
      "(p1,p2) = (0.73,1.37) -> Excess supply on Labor Market: 0.23, Good Market 1: -0.22, Good Market 2: -0.05\n",
      "(p1,p2) = (0.73,1.58) -> Excess supply on Labor Market: 0.04, Good Market 1: -0.27, Good Market 2: 0.10\n",
      "(p1,p2) = (0.73,1.79) -> Excess supply on Labor Market: -0.17, Good Market 1: -0.33, Good Market 2: 0.23\n",
      "(p1,p2) = (0.73,2.00) -> Excess supply on Labor Market: -0.40, Good Market 1: -0.40, Good Market 2: 0.35\n",
      "(p1,p2) = (0.94,0.10) -> Excess supply on Labor Market: 0.70, Good Market 1: 0.11, Good Market 2: -8.04\n",
      "(p1,p2) = (0.94,0.31) -> Excess supply on Labor Market: 0.68, Good Market 1: 0.10, Good Market 2: -2.48\n",
      "(p1,p2) = (0.94,0.52) -> Excess supply on Labor Market: 0.62, Good Market 1: 0.09, Good Market 2: -1.35\n",
      "(p1,p2) = (0.94,0.73) -> Excess supply on Labor Market: 0.54, Good Market 1: 0.07, Good Market 2: -0.83\n",
      "(p1,p2) = (0.94,0.94) -> Excess supply on Labor Market: 0.43, Good Market 1: 0.05, Good Market 2: -0.50\n",
      "(p1,p2) = (0.94,1.16) -> Excess supply on Labor Market: 0.29, Good Market 1: 0.03, Good Market 2: -0.27\n",
      "(p1,p2) = (0.94,1.37) -> Excess supply on Labor Market: 0.13, Good Market 1: -0.01, Good Market 2: -0.09\n",
      "(p1,p2) = (0.94,1.58) -> Excess supply on Labor Market: -0.06, Good Market 1: -0.05, Good Market 2: 0.07\n",
      "(p1,p2) = (0.94,1.79) -> Excess supply on Labor Market: -0.27, Good Market 1: -0.09, Good Market 2: 0.20\n",
      "(p1,p2) = (0.94,2.00) -> Excess supply on Labor Market: -0.51, Good Market 1: -0.14, Good Market 2: 0.32\n",
      "(p1,p2) = (1.16,0.10) -> Excess supply on Labor Market: 0.56, Good Market 1: 0.26, Good Market 2: -8.60\n",
      "(p1,p2) = (1.16,0.31) -> Excess supply on Labor Market: 0.54, Good Market 1: 0.25, Good Market 2: -2.66\n",
      "(p1,p2) = (1.16,0.52) -> Excess supply on Labor Market: 0.48, Good Market 1: 0.24, Good Market 2: -1.46\n",
      "(p1,p2) = (1.16,0.73) -> Excess supply on Labor Market: 0.40, Good Market 1: 0.23, Good Market 2: -0.91\n",
      "(p1,p2) = (1.16,0.94) -> Excess supply on Labor Market: 0.29, Good Market 1: 0.21, Good Market 2: -0.57\n",
      "(p1,p2) = (1.16,1.16) -> Excess supply on Labor Market: 0.15, Good Market 1: 0.19, Good Market 2: -0.32\n",
      "(p1,p2) = (1.16,1.37) -> Excess supply on Labor Market: -0.01, Good Market 1: 0.16, Good Market 2: -0.13\n",
      "(p1,p2) = (1.16,1.58) -> Excess supply on Labor Market: -0.19, Good Market 1: 0.13, Good Market 2: 0.03\n",
      "(p1,p2) = (1.16,1.79) -> Excess supply on Labor Market: -0.40, Good Market 1: 0.09, Good Market 2: 0.16\n",
      "(p1,p2) = (1.16,2.00) -> Excess supply on Labor Market: -0.63, Good Market 1: 0.05, Good Market 2: 0.29\n",
      "(p1,p2) = (1.37,0.10) -> Excess supply on Labor Market: 0.40, Good Market 1: 0.39, Good Market 2: -9.29\n",
      "(p1,p2) = (1.37,0.31) -> Excess supply on Labor Market: 0.37, Good Market 1: 0.39, Good Market 2: -2.89\n",
      "(p1,p2) = (1.37,0.52) -> Excess supply on Labor Market: 0.31, Good Market 1: 0.38, Good Market 2: -1.60\n",
      "(p1,p2) = (1.37,0.73) -> Excess supply on Labor Market: 0.23, Good Market 1: 0.37, Good Market 2: -1.00\n",
      "(p1,p2) = (1.37,0.94) -> Excess supply on Labor Market: 0.13, Good Market 1: 0.35, Good Market 2: -0.64\n",
      "(p1,p2) = (1.37,1.16) -> Excess supply on Labor Market: -0.01, Good Market 1: 0.33, Good Market 2: -0.39\n",
      "(p1,p2) = (1.37,1.37) -> Excess supply on Labor Market: -0.17, Good Market 1: 0.31, Good Market 2: -0.19\n",
      "(p1,p2) = (1.37,1.58) -> Excess supply on Labor Market: -0.35, Good Market 1: 0.28, Good Market 2: -0.02\n",
      "(p1,p2) = (1.37,1.79) -> Excess supply on Labor Market: -0.56, Good Market 1: 0.25, Good Market 2: 0.12\n",
      "(p1,p2) = (1.37,2.00) -> Excess supply on Labor Market: -0.78, Good Market 1: 0.21, Good Market 2: 0.25\n",
      "(p1,p2) = (1.58,0.10) -> Excess supply on Labor Market: 0.20, Good Market 1: 0.51, Good Market 2: -10.13\n",
      "(p1,p2) = (1.58,0.31) -> Excess supply on Labor Market: 0.18, Good Market 1: 0.51, Good Market 2: -3.15\n",
      "(p1,p2) = (1.58,0.52) -> Excess supply on Labor Market: 0.12, Good Market 1: 0.50, Good Market 2: -1.76\n",
      "(p1,p2) = (1.58,0.73) -> Excess supply on Labor Market: 0.04, Good Market 1: 0.49, Good Market 2: -1.12\n",
      "(p1,p2) = (1.58,0.94) -> Excess supply on Labor Market: -0.06, Good Market 1: 0.48, Good Market 2: -0.74\n",
      "(p1,p2) = (1.58,1.16) -> Excess supply on Labor Market: -0.19, Good Market 1: 0.46, Good Market 2: -0.46\n",
      "(p1,p2) = (1.58,1.37) -> Excess supply on Labor Market: -0.35, Good Market 1: 0.44, Good Market 2: -0.25\n",
      "(p1,p2) = (1.58,1.58) -> Excess supply on Labor Market: -0.53, Good Market 1: 0.42, Good Market 2: -0.08\n",
      "(p1,p2) = (1.58,1.79) -> Excess supply on Labor Market: -0.73, Good Market 1: 0.39, Good Market 2: 0.07\n",
      "(p1,p2) = (1.58,2.00) -> Excess supply on Labor Market: -0.96, Good Market 1: 0.35, Good Market 2: 0.20\n",
      "(p1,p2) = (1.79,0.10) -> Excess supply on Labor Market: -0.01, Good Market 1: 0.63, Good Market 2: -11.11\n",
      "(p1,p2) = (1.79,0.31) -> Excess supply on Labor Market: -0.04, Good Market 1: 0.62, Good Market 2: -3.47\n",
      "(p1,p2) = (1.79,0.52) -> Excess supply on Labor Market: -0.09, Good Market 1: 0.62, Good Market 2: -1.95\n",
      "(p1,p2) = (1.79,0.73) -> Excess supply on Labor Market: -0.17, Good Market 1: 0.61, Good Market 2: -1.26\n",
      "(p1,p2) = (1.79,0.94) -> Excess supply on Labor Market: -0.27, Good Market 1: 0.60, Good Market 2: -0.84\n",
      "(p1,p2) = (1.79,1.16) -> Excess supply on Labor Market: -0.40, Good Market 1: 0.58, Good Market 2: -0.55\n",
      "(p1,p2) = (1.79,1.37) -> Excess supply on Labor Market: -0.56, Good Market 1: 0.56, Good Market 2: -0.33\n",
      "(p1,p2) = (1.79,1.58) -> Excess supply on Labor Market: -0.73, Good Market 1: 0.54, Good Market 2: -0.15\n",
      "(p1,p2) = (1.79,1.79) -> Excess supply on Labor Market: -0.94, Good Market 1: 0.51, Good Market 2: 0.01\n",
      "(p1,p2) = (1.79,2.00) -> Excess supply on Labor Market: -1.16, Good Market 1: 0.49, Good Market 2: 0.15\n",
      "(p1,p2) = (2.00,0.10) -> Excess supply on Labor Market: -0.25, Good Market 1: 0.74, Good Market 2: -12.25\n",
      "(p1,p2) = (2.00,0.31) -> Excess supply on Labor Market: -0.27, Good Market 1: 0.73, Good Market 2: -3.84\n",
      "(p1,p2) = (2.00,0.52) -> Excess supply on Labor Market: -0.33, Good Market 1: 0.73, Good Market 2: -2.17\n",
      "(p1,p2) = (2.00,0.73) -> Excess supply on Labor Market: -0.40, Good Market 1: 0.72, Good Market 2: -1.41\n",
      "(p1,p2) = (2.00,0.94) -> Excess supply on Labor Market: -0.51, Good Market 1: 0.71, Good Market 2: -0.97\n",
      "(p1,p2) = (2.00,1.16) -> Excess supply on Labor Market: -0.63, Good Market 1: 0.69, Good Market 2: -0.65\n",
      "(p1,p2) = (2.00,1.37) -> Excess supply on Labor Market: -0.78, Good Market 1: 0.68, Good Market 2: -0.42\n",
      "(p1,p2) = (2.00,1.58) -> Excess supply on Labor Market: -0.96, Good Market 1: 0.66, Good Market 2: -0.22\n",
      "(p1,p2) = (2.00,1.79) -> Excess supply on Labor Market: -1.16, Good Market 1: 0.63, Good Market 2: -0.06\n",
      "(p1,p2) = (2.00,2.00) -> Excess supply on Labor Market: -1.38, Good Market 1: 0.61, Good Market 2: 0.08\n"
     ]
    }
   ],
   "source": [
    "#Firm functions\n",
    "def labor_demand(p):\n",
    "    return (p * par.A * par.gamma) ** (1 / (1 - par.gamma))\n",
    "\n",
    "def good_supply(l):\n",
    "    return par.A * l ** par.gamma\n",
    "\n",
    "def profit(p):\n",
    "    return ((1 - par.gamma) / par.gamma) * (p * par.A * par.gamma) ** (1 / (1 - par.gamma))\n",
    "\n",
    "#Consumer functions\n",
    "def good_demand_1(p1, p2, l):\n",
    "    income = l + par.T + profit(p1) + profit(p2)\n",
    "    return par.alpha * income / p1\n",
    "\n",
    "def good_demand_2(p1, p2, l):\n",
    "    income = l + par.T + profit(p1) + profit(p2)\n",
    "    return (1 - par.alpha) * income / (p2 + par.tau)\n",
    "\n",
    "def labor_supply(p1, p2):\n",
    "    #Defining the objective function\n",
    "    def objective(l):\n",
    "        c1 = good_demand_1(p1, p2, l)\n",
    "        c2 = good_demand_2(p1, p2, l)\n",
    "        return np.log(c1 ** par.alpha * c2 ** (1 - par.alpha)) - par.nu * l ** (1 + par.epsilon) / (1 + par.epsilon)\n",
    "    \n",
    "    #Find the labor that maximizes the objective\n",
    "    result = minimize_scalar(lambda l: -objective(l), bounds=(0, 10), method='bounded')\n",
    "    return result.x\n",
    "\n",
    "#Check market clearing conditions\n",
    "for p1 in np.linspace(0.1, 2.0, 10):\n",
    "    for p2 in np.linspace(0.1, 2.0, 10):\n",
    "        #Firm labor demand\n",
    "        labor_demand_1 = labor_demand(p1)\n",
    "        labor_demand_2 = labor_demand(p2)\n",
    "\n",
    "        #Firm good supply\n",
    "        good_supply_1 = good_supply(labor_demand_1)\n",
    "        good_supply_2 = good_supply(labor_demand_2)\n",
    "\n",
    "        #Consumer labor supply\n",
    "        l = labor_supply(p1, p2)\n",
    "\n",
    "        #Consumer good demand\n",
    "        c1 = good_demand_1(p1, p2, l)\n",
    "        c2 = good_demand_2(p1, p2, l)\n",
    "\n",
    "        #Market clearing conditions\n",
    "        LM = l - labor_demand_1 - labor_demand_2\n",
    "        GM1 = good_supply_1 - c1\n",
    "        GM2 = good_supply_2 - c2\n",
    "\n",
    "        #Printing results\n",
    "        print(f'(p1,p2) = ({p1:.2f},{p2:.2f}) -> Excess supply on Labor Market: {LM:.2f}, Good Market 1: {GM1:.2f}, Good Market 2: {GM2:.2f}')"
   ]
  },
  {
   "cell_type": "markdown",
   "metadata": {},
   "source": [
    "**Question 2:** Find the equilibrium prices $p_1$ and $p_2$.<br>\n",
    "*Hint: you can use Walras' law to only check 2 of the market clearings*"
   ]
  },
  {
   "cell_type": "code",
   "execution_count": null,
   "metadata": {},
   "outputs": [
    {
     "name": "stdout",
     "output_type": "stream",
     "text": [
      "Equilibrium prices: p1 = 0.98, p2 = 1.49\n"
     ]
    }
   ],
   "source": [
    "#Define function that expresses excess demand given prices\n",
    "def market_clearing(prices):\n",
    "    p1, p2 = prices\n",
    "    labor_demand_1 = labor_demand(p1)\n",
    "    labor_demand_2 = labor_demand(p2)\n",
    "    good_supply_1 = good_supply(labor_demand_1)\n",
    "    l = labor_supply(p1, p2)\n",
    "    c1 = good_demand_1(p1, p2, l)\n",
    "    LM = l - labor_demand_1 - labor_demand_2\n",
    "    GM1 = good_supply_1 - c1\n",
    "    return [LM, GM1]\n",
    "\n",
    "#Finding equilibrium prices, with (p1,p2) = (1.0,1.0) as initial guess\n",
    "result = root(market_clearing, [1.0, 1.0])\n",
    "\n",
    "#Printing solution\n",
    "if result.success:\n",
    "    equilibrium_prices = result.x\n",
    "    print(f'Equilibrium prices: p1 = {equilibrium_prices[0]:.2f}, p2 = {equilibrium_prices[1]:.2f}')\n",
    "else:\n",
    "    print('Equilibrium not found')"
   ]
  },
  {
   "cell_type": "markdown",
   "metadata": {},
   "source": [
    "Assume the government care about the social welfare function:\n",
    "\n",
    "$$\n",
    "SWF = U - \\kappa y_2^*\n",
    "$$"
   ]
  },
  {
   "cell_type": "markdown",
   "metadata": {},
   "source": [
    "Here $\\kappa$ measures the social cost of carbon emitted by the production of $y_2$ in equilibrium."
   ]
  },
  {
   "cell_type": "markdown",
   "metadata": {},
   "source": [
    "**Question 3:** What values of $\\tau$ and (implied) $T$ should the government choose to maximize $SWF$?"
   ]
  },
  {
   "cell_type": "code",
   "execution_count": null,
   "metadata": {},
   "outputs": [
    {
     "name": "stdout",
     "output_type": "stream",
     "text": [
      "Optimal tau is 0.17, which leads to SWF = -0.66\n"
     ]
    }
   ],
   "source": [
    "#Function to find equilibrium values for given tau\n",
    "def find_equilibrium(tau, T):\n",
    "    par.tau = tau\n",
    "    par.T = T\n",
    "\n",
    "    initial_prices = [1.0, 1.0]\n",
    "    result = root(market_clearing, initial_prices)\n",
    "\n",
    "    if result.success:\n",
    "        optimal_prices = result.x\n",
    "        l = labor_supply(optimal_prices[0], optimal_prices[1])\n",
    "        c2 = good_demand_2(optimal_prices[0], optimal_prices[1], l)\n",
    "        return c2, optimal_prices\n",
    "    else:\n",
    "        raise ValueError('Equilibrium prices not found')\n",
    "\n",
    "#Social welfare function given tau\n",
    "def social_welfare(tau):\n",
    "    # Initial guess for T\n",
    "    T = 0\n",
    "    tolerance = 1e-6\n",
    "    max_iterations = 10000\n",
    "    iteration = 0\n",
    "    \n",
    "    #Updating T untill converged\n",
    "    while iteration < max_iterations:\n",
    "        iteration += 1\n",
    "        previous_T = T\n",
    "        c2, optimal_prices = find_equilibrium(tau, T)\n",
    "        T = tau * c2\n",
    "        \n",
    "        if abs(T - previous_T) < tolerance:\n",
    "            break\n",
    "\n",
    "    #Final equilibrium with converged T\n",
    "    c2, optimal_prices = find_equilibrium(tau, T)\n",
    "    l = labor_supply(optimal_prices[0], optimal_prices[1])\n",
    "    c1 = good_demand_1(optimal_prices[0], optimal_prices[1], l)\n",
    "    \n",
    "    #Utility function\n",
    "    U = np.log(c1 ** par.alpha * c2 ** (1 - par.alpha)) - par.nu * l ** (1 + par.epsilon) / (1 + par.epsilon)\n",
    "    #Social welfare function\n",
    "    SWF = U - par.kappa * c2\n",
    "    return -SWF  #We minimize the negative of SWF to maximize SWF\n",
    "\n",
    "#Finding optimal tau\n",
    "result_tau = minimize_scalar(social_welfare, bounds=(0, 1), method='bounded')\n",
    "\n",
    "#Printing solution\n",
    "if result_tau.success:\n",
    "    optimal_tau = result_tau.x\n",
    "    print(f'Optimal tau is {optimal_tau:.2f}, which leads to SWF = {-result_tau.fun:.2f}')\n",
    "else:\n",
    "    print('Optimal tau not found')"
   ]
  },
  {
   "cell_type": "markdown",
   "metadata": {},
   "source": [
    "## 2. <a id='toc2_'></a>[Problem 2: Career choice model](#toc0_)"
   ]
  },
  {
   "cell_type": "markdown",
   "metadata": {},
   "source": [
    "Consider a graduate $i$ making a choice between entering $J$ different career tracks. <br>\n",
    "Entering career $j$ yields utility $u^k_{ij}$. This value is unknown to the graduate ex ante, but will ex post be: <br>\n",
    "$$\n",
    "    u_{i,j}^k = v_{j} + \\epsilon_{i,j}^k\n",
    "$$\n",
    "\n",
    "They know that $\\epsilon^k_{i,j}\\sim \\mathcal{N}(0,\\sigma^2)$, but they do not observe $\\epsilon^k_{i,j}$ before making their career choice. <br>"
   ]
  },
  {
   "cell_type": "markdown",
   "metadata": {},
   "source": [
    "Consider the concrete case of $J=3$ with:\n",
    "$$\n",
    "\\begin{align*}\n",
    "    v_{1} &= 1 \\\\\n",
    "    v_{2} &= 2 \\\\\n",
    "    v_{3} &= 3\n",
    "\\end{align*}\n",
    "$$"
   ]
  },
  {
   "cell_type": "markdown",
   "metadata": {},
   "source": [
    "If the graduates know the values of $v_j$ and the distribution of $\\epsilon_{i,j}^k$, they can calculate the expected utility of each career track using simulation: <br>\n",
    "$$\n",
    "    \\mathbb{E}\\left[ u^k_{i,j}\\vert v_j \\right] \\approx v_j + \\frac{1}{K}\\sum_{k=1}^K \\epsilon_{i,j}^k\n",
    "$$"
   ]
  },
  {
   "cell_type": "code",
   "execution_count": null,
   "metadata": {},
   "outputs": [],
   "source": [
    "par = SimpleNamespace()\n",
    "par.J = 3\n",
    "par.N = 10\n",
    "par.K = 10000\n",
    "\n",
    "par.F = np.arange(1,par.N+1)\n",
    "par.sigma = 2\n",
    "\n",
    "par.v = np.array([1,2,3])\n",
    "par.c = 1"
   ]
  },
  {
   "cell_type": "markdown",
   "metadata": {},
   "source": [
    "**Question 1:** Simulate and calculate expected utility and the average realised utility for $K=10000$ draws, for each career choice $j$.\n"
   ]
  },
  {
   "cell_type": "code",
   "execution_count": null,
   "metadata": {},
   "outputs": [
    {
     "name": "stdout",
     "output_type": "stream",
     "text": [
      "The expected utility of jobs [1 2 3] is [1.01120537 1.99782087 2.97917864]\n",
      "\n",
      "What is meant by average realized utility? Across who?\n",
      "If across 10000 individuals then that's just the same as the expected utility based on 10000 draws which is reported above.\n",
      "If just for one individual in each job, then it's weird to call it an average, but I can draw it if you'd like:\n",
      "The realized utility for one person in jobs [1 2 3] is [-0.06966007  3.83399911  1.33793285]\n"
     ]
    }
   ],
   "source": [
    "np.random.seed(1111)\n",
    "\n",
    "#Dictionaries\n",
    "resultsdic = {}\n",
    "epsilondic = {}\n",
    "mean = np.zeros(3)\n",
    "\n",
    "#loop over jobs\n",
    "for j in par.v: \n",
    "    resultsdic[f'results{j}'] = np.zeros(par.K)\n",
    "    epsilondic[f'epsilon{j}'] = np.random.normal(loc=0, scale=par.sigma, size=par.K)\n",
    "\n",
    "    for i in range(par.K):\n",
    "        resultsdic[f'results{j}'][i] = j + epsilondic[f\"epsilon{j}\"][i]     #utility\n",
    "    mean[j-1] = np.mean(resultsdic[f\"results{j}\"])\n",
    "\n",
    "print(f\"The expected utility of jobs {par.v} is {mean}\")\n",
    "print(\"\")\n",
    "print(\"What is meant by average realized utility? Across who?\")\n",
    "print(\"If across 10000 individuals then that's just the same as the expected utility based on 10000 draws which is reported above.\")\n",
    "print(\"If just for one individual in each job, then it's weird to call it an average, but I can draw it if you'd like:\")\n",
    "actualutil = np.random.normal(loc=0, scale=par.sigma, size=3) + par.v\n",
    "print(f\"The realized utility for one person in jobs {par.v} is {actualutil}\")"
   ]
  },
  {
   "cell_type": "markdown",
   "metadata": {},
   "source": [
    "Now consider a new scenario: Imagine that the graduate does not know $v_j$. The *only* prior information they have on the value of each job, comes from their $F_{i}$ friends that work in each career $j$. After talking with them, they know the average utility of their friends (which includes their friends' noise term), giving them the prior expecation: <br>\n",
    "$$\n",
    "\\tilde{u}^k_{i,j}\\left( F_{i}\\right) = \\frac{1}{F_{i}}\\sum_{f=1}^{F_{i}} \\left(v_{j} + \\epsilon^k_{f,j}\\right), \\; \\epsilon^k_{f,j}\\sim \\mathcal{N}(0,\\sigma^2)\n",
    "$$\n",
    "For ease of notation consider that each graduate have $F_{i}=i$ friends in each career. <br>"
   ]
  },
  {
   "cell_type": "markdown",
   "metadata": {},
   "source": [
    "For $K$ times do the following: <br>\n",
    "1. For each person $i$ draw $J\\cdot F_i$ values of $\\epsilon_{f,j}^{k}$, and calculate the prior expected utility of each career track, $\\tilde{u}^k_{i,j}\\left( F_{i}\\right)$. <br>\n",
    "Also draw their own $J$ noise terms, $\\epsilon_{i,j}^k$\n",
    "1. Each person $i$ chooses the career track with the highest expected utility: $$j_i^{k*}= \\arg\\max_{j\\in{1,2\\dots,J}}\\left\\{ \\tilde{u}^k_{i,j}\\left( F_{i}\\right)\\right\\} $$\n",
    "1. Store the chosen careers: $j_i^{k*}$, the prior expectation of the value of their chosen career: $\\tilde{u}^k_{i,j=j_i^{k*}}\\left( F_{i}\\right)$, and the realized value of their chosen career track: $u^k_{i,j=j_i^{k*}}=v_{j=j_i^{k*}}+\\epsilon_{i,j=j_i^{k*}}^k$."
   ]
  },
  {
   "cell_type": "markdown",
   "metadata": {},
   "source": [
    "Chosen values will be: <br>\n",
    "$i\\in\\left\\{1,2\\dots,N\\right\\}, N=10$ <br>\n",
    "$F_i = i$<br>\n",
    "So there are 10 graduates. The first has 1 friend in each career, the second has 2 friends, ... the tenth has 10 friends."
   ]
  },
  {
   "cell_type": "markdown",
   "metadata": {},
   "source": [
    "**Question 2:** Simulate and visualize: For each type of graduate, $i$, the share of graduates choosing each career, the average subjective expected utility of the graduates, and the average ex post realized utility given their choice. <br>\n",
    "That is, calculate and visualize: <br>\n",
    "$$\n",
    "\\begin{align*}\n",
    "    \\frac{1}{K} \\sum_{k=1}^{K} \\mathbb{I}\\left\\{ j=j_i^{k*} \\right\\}  \\;\\forall j\\in\\left\\{1,2,\\dots,J\\right\\}\n",
    "\\end{align*}\n",
    "$$\n",
    "$$\n",
    "\\begin{align*}\n",
    "    \\frac{1}{K} \\sum_{k=1}^{K} \\tilde{u}^k_{ij=j_i^{k*}}\\left( F_{i}\\right)\n",
    "\\end{align*}\n",
    "$$\n",
    "And \n",
    "$$\n",
    "\\begin{align*}\n",
    "    \\frac{1}{K} \\sum_{k=1}^{K} u^k_{ij=j_i^{k*}} \n",
    "\\end{align*}\n",
    "$$\n",
    "For each graduate $i$."
   ]
  },
  {
   "cell_type": "code",
   "execution_count": null,
   "metadata": {},
   "outputs": [],
   "source": [
    "np.random.seed(2222)\n",
    "\n",
    "#Dictionaries\n",
    "friendepsdic = {}\n",
    "ownepsdic = {}\n",
    "friendudic = {}\n",
    "ownudic = {}\n",
    "\n",
    "utildedic = {}\n",
    "umaxindexdic = {}\n",
    "jstardic = {}\n",
    "expudic = {}\n",
    "udic = {}\n",
    "\n",
    "#Arrays for each i in each dictionary\n",
    "for i in par.F:\n",
    "    friendepsdic[f\"friendeps{i}\"] = []\n",
    "    ownepsdic[f\"owneps{i}\"] = []\n",
    "    friendudic[f\"friendu{i}\"] = []\n",
    "    ownudic[f\"ownu{i}\"] = []\n",
    "\n",
    "    utildedic[f\"utilde{i}\"] = []\n",
    "    umaxindexdic[f\"umaxindex{i}\"] = []\n",
    "    jstardic[f\"jstar{i}\"] = []\n",
    "    expudic[f\"expu{i}\"] = []\n",
    "    udic[f\"u{i}\"] = []\n",
    "\n",
    "#Loop K times\n",
    "for K in range(par.K):\n",
    "    for i in par.F:\n",
    "        #draw epsilons and calculate associated utility\n",
    "        friendeps = np.random.normal(loc=0, scale=par.sigma, size=(i, par.J))\n",
    "        owneps= np.random.normal(loc=0, scale=par.sigma, size=(par.J))\n",
    "        friendu = friendeps + par.v\n",
    "        ownu = owneps + par.v\n",
    "        \n",
    "        #Save\n",
    "        friendepsdic[f\"friendeps{i}\"].append(friendeps)\n",
    "        ownepsdic[f\"owneps{i}\"].append(owneps)\n",
    "        friendudic[f\"friendu{i}\"].append(friendu)\n",
    "        ownudic[f\"ownu{i}\"].append(ownu)\n",
    "\n",
    "        #calculate more stuff\n",
    "        utilde = np.mean(friendu, axis=0)   #exp. utility for each job\n",
    "        umaxindex = np.argmax(utilde)   #index for job w highest utility\n",
    "        jstar = umaxindex + 1   #job with highest utility\n",
    "        expu = np.max(utilde)   #expected utility\n",
    "        u = ownu[umaxindex]     #actual (realized) utility\n",
    "\n",
    "        #save\n",
    "        utildedic[f\"utilde{i}\"].append(utilde)\n",
    "        umaxindexdic[f\"umaxindex{i}\"].append(umaxindex)\n",
    "        jstardic[f\"jstar{i}\"].append(jstar)\n",
    "        expudic[f\"expu{i}\"].append(expu)\n",
    "        udic[f\"u{i}\"].append(u)\n",
    "\n",
    "#Dictionaries\n",
    "numjdic = {}\n",
    "meanexpudic= {}\n",
    "meanudic = {}\n",
    "\n",
    "for i in par.F:\n",
    "    #Count jobs\n",
    "    ones = np.sum(np.array(jstardic[f\"jstar{i}\"]) == 1)\n",
    "    twos = np.sum(np.array(jstardic[f\"jstar{i}\"]) == 2)\n",
    "    threes=np.sum(np.array(jstardic[f\"jstar{i}\"]) == 3)\n",
    "    numjdic[f\"numj{i}\"] = np.array([ones, twos, threes]) / par.K\n",
    "\n",
    "    #Get mean utilites\n",
    "    meanexpudic[f\"meanexpu{i}\"] = np.mean(np.array(expudic[f\"expu{i}\"]))\n",
    "    meanudic[f\"meanu{i}\"] = np.mean(np.array(udic[f\"u{i}\"]))"
   ]
  },
  {
   "cell_type": "code",
   "execution_count": null,
   "metadata": {},
   "outputs": [
    {
     "data": {
      "image/png": "[encoded data removed]",
      "text/plain": [
       "<Figure size 1200x600 with 2 Axes>"
      ]
     },
     "metadata": {},
     "output_type": "display_data"
    }
   ],
   "source": [
    "#Visualize\n",
    "\n",
    "careerchoice = np.array(list(numjdic.values()))\n",
    "expudata = np.array(list(meanexpudic.values()))\n",
    "udata = np.array(list(meanudic.values()))\n",
    "\n",
    "groups = par.N\n",
    "bars = par.J\n",
    "\n",
    "bar_width = 0.2\n",
    "indices = np.arange(groups)\n",
    "\n",
    "fig, ax1 = plt.subplots(figsize=(12,6))\n",
    "ax2 = ax1.twinx()\n",
    "\n",
    "#Have to swap the y axes so dots are on top of bars, because apparently z-order cant do that ... (want utility on LHS)\n",
    "ax1.yaxis.tick_right()\n",
    "ax1.yaxis.set_label_position(\"right\")\n",
    "ax1.spines['right'].set_position(('outward', 0))\n",
    "\n",
    "ax2.yaxis.tick_left()\n",
    "ax2.yaxis.set_label_position(\"left\")\n",
    "ax2.spines['left'].set_position(('outward', 0))\n",
    "\n",
    "\n",
    "for i in range(bars):\n",
    "    ax1.bar(indices + i * bar_width, careerchoice[:, i], bar_width, label=f'$v_{i+1}$ (RHS)', zorder=1)\n",
    "\n",
    "scatter_expudata = ax2.scatter(indices + bar_width, expudata[:], color='blue', label='Expected utility', zorder=5)\n",
    "scatter_udata = ax2.scatter(indices + bar_width, udata[:], color='red', label='Actual utility', zorder=6)\n",
    "\n",
    "ax1.set_xlabel('i')\n",
    "ax1.set_ylabel('Share choosing occupation', labelpad=15)\n",
    "ax1.set_title('Question 2')\n",
    "ax1.set_xticks(indices + bar_width * (bars - 1) / 2)\n",
    "ax1.set_xticklabels(np.arange(1, groups + 1))\n",
    "ax2.set_ylabel('Utility', labelpad=15)\n",
    "\n",
    "handles1, labels1 = ax1.get_legend_handles_labels()\n",
    "handles2, labels2 = ax2.get_legend_handles_labels()\n",
    "ax1.legend(handles2 + handles1, labels2 + labels1, fontsize='small', loc='best',framealpha=0.2)\n",
    "\n",
    "plt.show()"
   ]
  },
  {
   "cell_type": "markdown",
   "metadata": {},
   "source": [
    "Unsurprisingly, the more information people have, the more often they choose the job with the highest true expected utility, and actual utility and expected utility converge towards each other at 3."
   ]
  },
  {
   "cell_type": "markdown",
   "metadata": {},
   "source": [
    "After a year of working in their career, the graduates learn $u^k_{ij}$ for their chosen job $j_i^{k*}$ perfectly. <br>\n",
    "The can switch to one of the two remaining careers, for which they have the same prior as before, but it will now include a switching cost of $c$ which is known.\n",
    "Their new priors can be written as: \n",
    "$$\n",
    "\\tilde{u}^{k,2}_{ij}\\left( F_{i}\\right) = \\begin{cases}\n",
    "            \\tilde{u}^k_{ij}\\left( F_{i}\\right)-c & \\text{if } j \\neq j_i^{k*} \\\\\n",
    "            u_{ij=j_i^{k*}} & \\text{if } j = j_i^{k*}\n",
    "        \\end{cases}\n",
    "$$"
   ]
  },
  {
   "cell_type": "markdown",
   "metadata": {},
   "source": [
    "We will set $c=1$."
   ]
  },
  {
   "cell_type": "markdown",
   "metadata": {},
   "source": [
    "Their realized utility will be: <br>\n",
    "$$\n",
    "u^{k,2}_{ij}= \\begin{cases}\n",
    "            u_{ij}^k -c & \\text{if } j \\neq j_i^{k*} \\\\\n",
    "            u_{ij=j_i^{k*}} & \\text{if } j = j_i^{k*}\n",
    "        \\end{cases}\n",
    "$$"
   ]
  },
  {
   "cell_type": "markdown",
   "metadata": {},
   "source": [
    "**Question 3:** Following the same approach as in question 2, find the new optimal career choice for each $i$, $k$. Then for each $i$, calculate the average subjective expected utility from their new optimal career choice, and the ex post realized utility of that career. Also, for each $i$, calculate the share of graduates that chooses to switch careers, conditional on which career they chose in the first year. <br>"
   ]
  },
  {
   "cell_type": "code",
   "execution_count": null,
   "metadata": {},
   "outputs": [],
   "source": [
    "#Dictionaries!\n",
    "\n",
    "utilde2dic = {}\n",
    "umaxindex2dic = {}\n",
    "jstar2dic = {}\n",
    "expu2dic = {}\n",
    "u2dic = {}\n",
    "\n",
    "#Arrays for each i!\n",
    "for i in par.F:\n",
    "    utilde2dic[f\"utilde2{i}\"] = []\n",
    "    umaxindex2dic[f\"umaxindex2{i}\"] = []\n",
    "    jstar2dic[f\"jstar2{i}\"] = []\n",
    "    expu2dic[f\"expu2{i}\"] = []\n",
    "    u2dic[f\"u2{i}\"] = []\n",
    "\n",
    "for i in par.F:\n",
    "    for K in range(par.K):\n",
    "        #expected utility for each occupation \n",
    "        utilde2 = np.array(utildedic[f\"utilde{i}\"][K]) - par.c\n",
    "        utilde2[umaxindexdic[f\"umaxindex{i}\"][K]] = udic[f\"u{i}\"][K]\n",
    "        utilde2dic[f\"utilde2{i}\"].append(utilde2)\n",
    "        \n",
    "        umaxindex2 = np.argmax(utilde2)     #index of best job\n",
    "        jstar2 = umaxindex2 + 1     #best job\n",
    "        expu2 = np.max(utilde2)     #exp utility\n",
    "        #actual utility:\n",
    "        u2 = ownudic[f\"ownu{i}\"][K][umaxindex2]\n",
    "        if umaxindex2 != umaxindexdic[f\"umaxindex{i}\"][K]:\n",
    "            u2 = u2 - par.c\n",
    "\n",
    "        #Save\n",
    "        umaxindex2dic[f\"umaxindex2{i}\"].append(umaxindex2)\n",
    "        jstar2dic[f\"jstar2{i}\"].append(jstar2)\n",
    "        expu2dic[f\"expu2{i}\"].append(expu2)\n",
    "        u2dic[f\"u2{i}\"].append(u2)\n",
    "\n",
    "#Dictionaries\n",
    "changegivenjdic = {}\n",
    "meanexpu2dic = {}\n",
    "meanu2dic = {}\n",
    "\n",
    "for i in par.F:\n",
    "    changegivenjdic[f\"changegivenj{i}\"] = [0,0,0]\n",
    "    for j in par.v:\n",
    "        #count share that changes from each job:\n",
    "        changegivenjdic[f\"changegivenj{i}\"][j-1] = np.sum((np.array(jstardic[f\"jstar{i}\"]) == j) & (np.array(jstardic[f\"jstar{i}\"]) != np.array(jstar2dic[f\"jstar2{i}\"]))) / np.sum((np.array(jstardic[f\"jstar{i}\"]) == j))\n",
    "    \n",
    "    #mean utilites\n",
    "    meanexpu2dic[f\"meanexpu2{i}\"] = np.mean(np.array(expu2dic[f\"expu2{i}\"]))\n",
    "    meanu2dic[f\"meanu2{i}\"] = np.mean(np.array(u2dic[f\"u2{i}\"]))"
   ]
  },
  {
   "cell_type": "code",
   "execution_count": null,
   "metadata": {},
   "outputs": [
    {
     "data": {
      "image/png": "[encoded data removed]",
      "text/plain": [
       "<Figure size 1200x600 with 2 Axes>"
      ]
     },
     "metadata": {},
     "output_type": "display_data"
    }
   ],
   "source": [
    "#Visualize\n",
    "\n",
    "careerchoice = np.array(list(changegivenjdic.values()))\n",
    "expudata = np.array(list(meanexpu2dic.values()))\n",
    "udata = np.array(list(meanu2dic.values()))\n",
    "\n",
    "groups = par.N\n",
    "bars = par.J\n",
    "labels = [\"$v_1$\", \"$v_2$\", \"$v_3$\"]\n",
    "\n",
    "bar_width = 0.2\n",
    "indices = np.arange(groups)\n",
    "\n",
    "fig, ax1 = plt.subplots(figsize=(12,6))\n",
    "ax2 = ax1.twinx()\n",
    "\n",
    "\n",
    "ax1.yaxis.tick_right()\n",
    "ax1.yaxis.set_label_position(\"right\")\n",
    "ax1.spines['right'].set_position(('outward', 0))\n",
    "\n",
    "ax2.yaxis.tick_left()\n",
    "ax2.yaxis.set_label_position(\"left\")\n",
    "ax2.spines['left'].set_position(('outward', 0))\n",
    "\n",
    "for i in range(bars):\n",
    "    ax1.bar(indices + i * bar_width, careerchoice[:, i], bar_width, label=f'$v_{i+1}$ (RHS)', zorder=1)\n",
    "\n",
    "scatter_expudata = ax2.scatter(indices + bar_width, expudata[:], color='blue', label='Expected utility', zorder=5)\n",
    "scatter_udata = ax2.scatter(indices + bar_width, udata[:], color='red', label='Actual utility', zorder=6)\n",
    "\n",
    "scatter_expudata.set_zorder(5)\n",
    "scatter_udata.set_zorder(6)\n",
    "\n",
    "ax1.set_xlabel('i')\n",
    "ax1.set_ylabel('Share switching from occupation', labelpad=15)\n",
    "ax1.set_title('Question 3')\n",
    "ax1.set_xticks(indices + bar_width * (bars - 1) / 2)\n",
    "ax1.set_xticklabels(np.arange(1, groups + 1))\n",
    "ax2.set_ylabel('Utility', labelpad=15)\n",
    "\n",
    "handles1, labels1 = ax1.get_legend_handles_labels()\n",
    "handles2, labels2 = ax2.get_legend_handles_labels()\n",
    "ax1.legend(handles2 + handles1, labels2 + labels1, fontsize='small', loc='upper left',framealpha=0.2)\n",
    "\n",
    "plt.show()"
   ]
  },
  {
   "cell_type": "markdown",
   "metadata": {},
   "source": [
    "It seems that the shares switching jobs is consistent across information. Now (as opposed to in question 2.2), both expected and actual utility are increasing in information. Interestingly, as information increases, the average actual utility goes above 3, which is the true expected utility of the best job. This is because we sort out those that were unlucky in their draw, because they change job, but we dont sort out those that were lucky, because they just keep their job. "
   ]
  },
  {
   "cell_type": "markdown",
   "metadata": {},
   "source": [
    "## 3. <a id='toc3_'></a>[Problem 3: Barycentric interpolation](#toc0_)"
   ]
  },
  {
   "cell_type": "markdown",
   "metadata": {},
   "source": [
    "**Problem:** We have a set of random points in the unit square,\n",
    "\n",
    "$$\n",
    "\\mathcal{X} = \\{(x_1,x_2)\\,|\\,x_1\\sim\\mathcal{U}(0,1),x_2\\sim\\mathcal{U}(0,1)\\}.\n",
    "$$\n",
    "\n",
    "For these points, we know the value of some function $f(x_1,x_2)$,\n",
    "\n",
    "$$\n",
    "\\mathcal{F} = \\{f(x_1,x_2) \\,|\\, (x_1,x_2) \\in \\mathcal{X}\\}.\n",
    "$$\n",
    "\n",
    "Now we want to approximate the value $f(y_1,y_2)$ for some  $y=(y_1,y_2)$, where $y_1\\sim\\mathcal{U}(0,1)$ and $y_2\\sim\\mathcal{U}(0,1)$.\n",
    "\n",
    "**Building block I**\n",
    "\n",
    "For an arbitrary triangle $ABC$ and a point $y$, define the so-called barycentric coordinates as:\n",
    "\n",
    "$$\n",
    "\\begin{align*}\n",
    "  r^{ABC}_1 &= \\frac{(B_2-C_2)(y_1-C_1) + (C_1-B_1)(y_2-C_2)}{(B_2-C_2)(A_1-C_1) + (C_1-B_1)(A_2-C_2)} \\\\\n",
    "  r^{ABC}_2 &= \\frac{(C_2-A_2)(y_1-C_1) + (A_1-C_1)(y_2-C_2)}{(B_2-C_2)(A_1-C_1) + (C_1-B_1)(A_2-C_2)} \\\\\n",
    "  r^{ABC}_3 &= 1 - r_1 - r_2.\n",
    "\\end{align*}\n",
    "$$\n",
    "\n",
    "If $r^{ABC}_1 \\in [0,1]$, $r^{ABC}_2 \\in [0,1]$, and $r^{ABC}_3 \\in [0,1]$, then the point is inside the triangle.\n",
    "\n",
    "We always have $y = r^{ABC}_1 A + r^{ABC}_2 B + r^{ABC}_3 C$.\n",
    "\n",
    "**Building block II**\n",
    "\n",
    "Define the following points:\n",
    "\n",
    "$$\n",
    "\\begin{align*}\n",
    "A&=\\arg\\min_{(x_{1},x_{2})\\in\\mathcal{X}}\\sqrt{\\left(x_{1}-y_{1}\\right)^{2}+\\left(x_{2}-y_{2}\\right)^{2}}\\text{ s.t. }x_{1}>y_{1}\\text{ and }x_{2}>y_{2}\\\\\n",
    "B&=\\arg\\min_{(x_{1},x_{2})\\in\\mathcal{X}}\\sqrt{\\left(x_{1}-y_{1}\\right)^{2}+\\left(x_{2}-y_{2}\\right)^{2}}\\text{ s.t. }x_{1}>y_{1}\\text{ and }x_{2}<y_{2}\\\\\n",
    "C&=\\arg\\min_{(x_{1},x_{2})\\in\\mathcal{X}}\\sqrt{\\left(x_{1}-y_{1}\\right)^{2}+\\left(x_{2}-y_{2}\\right)^{2}}\\text{ s.t. }x_{1}<y_{1}\\text{ and }x_{2}<y_{2}\\\\\n",
    "D&=\\arg\\min_{(x_{1},x_{2})\\in\\mathcal{X}}\\sqrt{\\left(x_{1}-y_{1}\\right)^{2}+\\left(x_{2}-y_{2}\\right)^{2}}\\text{ s.t. }x_{1}<y_{1}\\text{ and }x_{2}>y_{2}.\n",
    "\\end{align*}\n",
    "$$\n",
    "\n",
    "**Algorithm:**\n",
    "\n",
    "1. Compute $A$, $B$, $C$, and $D$. If not possible return `NaN`.\n",
    "1. If $y$ is inside the triangle $ABC$ return $r^{ABC}_1 f(A) + r^{ABC}_2 f(B) + r^{ABC}_3 f(C)$.\n",
    "1. If $y$ is inside the triangle $CDA$ return $r^{CDA}_1 f(C) + r^{CDA}_2 f(D) + r^{CDA}_3 f(A)$.\n",
    "1. Return `NaN`.\n",
    "\n"
   ]
  },
  {
   "cell_type": "markdown",
   "metadata": {},
   "source": [
    "**Sample:**"
   ]
  },
  {
   "cell_type": "code",
   "execution_count": null,
   "metadata": {},
   "outputs": [],
   "source": [
    "rng = np.random.default_rng(2024)\n",
    "\n",
    "X = rng.uniform(size=(50,2))\n",
    "y = rng.uniform(size=(2,))"
   ]
  },
  {
   "cell_type": "markdown",
   "metadata": {},
   "source": [
    "**Questions 1:** Find $A$, $B$, $C$ and $D$. Illustrate these together with $X$, $y$ and the triangles $ABC$ and $CDA$."
   ]
  },
  {
   "cell_type": "code",
   "execution_count": null,
   "metadata": {},
   "outputs": [
    {
     "name": "stdout",
     "output_type": "stream",
     "text": [
      "Point A: [0.26072 0.43636]\n",
      "Point B: [0.21316 0.27425]\n",
      "Point C: [0.10056 0.27952]\n",
      "Point D: [0.20634 0.44273]\n"
     ]
    }
   ],
   "source": [
    "#we define the function\n",
    "def function(x, y):\n",
    "    x1, x2 = x\n",
    "    y1, y2 = y\n",
    "    return np.sqrt((x1 - y1)**2 + (x2 - y2)**2)\n",
    "\n",
    "#we find the optimal point given y and the conditions\n",
    "def find_optimal_point(y, filter_condition):\n",
    "    filtered_X = np.array([point for point in X if filter_condition(point, y)])\n",
    "    \n",
    "    if len(filtered_X) == 0:\n",
    "        return np.NaN, float('inf')\n",
    "\n",
    "    min_distance = float('inf')\n",
    "    optimal_point = np.NaN\n",
    "    for point in filtered_X:\n",
    "        dist = function(point, y)\n",
    "        if dist < min_distance:\n",
    "            min_distance = dist\n",
    "            optimal_point = point\n",
    "    return optimal_point, min_distance\n",
    "\n",
    "#filter conditions\n",
    "filter_conditions = {\n",
    "    \"A\": lambda point, y: point[0] > y[0] and point[1] > y[1],\n",
    "    \"B\": lambda point, y: point[0] > y[0] and point[1] < y[1],\n",
    "    \"C\": lambda point, y: point[0] < y[0] and point[1] < y[1],\n",
    "    \"D\": lambda point, y: point[0] < y[0] and point[1] > y[1]\n",
    "}\n",
    "\n",
    "#running the optimization for the different conditions\n",
    "result = {}\n",
    "for key, filter_condition in filter_conditions.items():\n",
    "    optimal_point, min_distance = find_optimal_point(y, filter_condition)\n",
    "    result[f\"optimal_point_{key}\"] = optimal_point\n",
    "    result[f\"min_distance_{key}\"] = min_distance\n",
    "\n",
    "#saving results\n",
    "A = result[\"optimal_point_A\"]\n",
    "B = result[\"optimal_point_B\"]\n",
    "C = result[\"optimal_point_C\"]\n",
    "D = result[\"optimal_point_D\"]\n",
    "\n",
    "#printing results\n",
    "for key in filter_conditions.keys():\n",
    "    print(f\"Point {key}: [{result[f'optimal_point_{key}'][0]:.5f} {result[f'optimal_point_{key}'][1]:.5f}]\")"
   ]
  },
  {
   "cell_type": "code",
   "execution_count": null,
   "metadata": {},
   "outputs": [
    {
     "data": {
      "image/png": "[encoded data removed]",
      "text/plain": [
       "<Figure size 1000x800 with 1 Axes>"
      ]
     },
     "metadata": {},
     "output_type": "display_data"
    }
   ],
   "source": [
    "#plotting the points\n",
    "plt.figure(figsize=(10, 8))\n",
    "plt.scatter(X[:, 0], X[:, 1], color='blue', label='Set X')\n",
    "plt.scatter(y[0], y[1], color='red', label='Point y')\n",
    "\n",
    "#plotting the triangles \n",
    "plt.scatter(A[0], A[1], color='green', label='Point A')\n",
    "plt.scatter(B[0], B[1], color='purple', label='Point B')\n",
    "plt.scatter(C[0], C[1], color='orange', label='Point C')\n",
    "plt.scatter(D[0], D[1], color='cyan', label='Point D')\n",
    "\n",
    "plt.plot([A[0], B[0]], [A[1], B[1]], 'k-')\n",
    "plt.plot([B[0], C[0]], [B[1], C[1]], 'k-')\n",
    "plt.plot([C[0], A[0]], [C[1], A[1]], 'k-', label='Triangle ABC')\n",
    "\n",
    "plt.plot([C[0], D[0]], [C[1], D[1]], 'k--')\n",
    "plt.plot([D[0], A[0]], [D[1], A[1]], 'k--')\n",
    "plt.plot([A[0], C[0]], [A[1], C[1]], 'k--', label='Triangle CDA')\n",
    "\n",
    "#adding legend and labels\n",
    "plt.legend()\n",
    "plt.xlabel('x1')\n",
    "plt.ylabel('x2')\n",
    "plt.title('Points and Triangles ABC and CDA')\n",
    "plt.grid(True)\n",
    "plt.show()"
   ]
  },
  {
   "cell_type": "markdown",
   "metadata": {},
   "source": [
    "**Question 2:** Compute the barycentric coordinates of the point $y$ with respect to the triangles $ABC$ and $CDA$. Which triangle is $y$ located inside?"
   ]
  },
  {
   "cell_type": "code",
   "execution_count": null,
   "metadata": {},
   "outputs": [
    {
     "name": "stdout",
     "output_type": "stream",
     "text": [
      "r1ABC: 0.62863, r2ABC: 0.06910, r3ABC: 0.30227\n",
      "r1CDA: 0.36826, r2CDA: -0.13393, r3CDA: 0.76567\n",
      "\n",
      "We can see that the point y is in the triangle ABC, since r1ABC, r2ABC and r3ABC are all in the interval [0,1]\n"
     ]
    }
   ],
   "source": [
    "#calculating the barycentric coordinates\n",
    "r1ABC = ((B[1]-C[1])*(y[0]-C[0])+(C[0]-B[0])*(y[1]-C[1]))/((B[1]-C[1])*(A[0]-C[0])+(C[0]-B[0])*(A[1]-C[1]))\n",
    "r2ABC = ((C[1]-A[1])*(y[0]-C[0])+(A[0]-C[0])*(y[1]-C[1]))/((B[1]-C[1])*(A[0]-C[0])+(C[0]-B[0])*(A[1]-C[1]))\n",
    "r3ABC = 1-r1ABC-r2ABC\n",
    "\n",
    "r1CDA = ((D[1]-A[1])*(y[0]-A[0])+(A[0]-D[0])*(y[1]-A[1]))/((D[1]-A[1])*(C[0]-A[0])+(A[0]-D[0])*(C[1]-A[1]))\n",
    "r2CDA = ((A[1]-C[1])*(y[0]-A[0])+(C[0]-A[0])*(y[1]-A[1]))/((D[1]-A[1])*(C[0]-A[0])+(A[0]-D[0])*(C[1]-A[1]))\n",
    "r3CDA = 1-r1CDA-r2CDA\n",
    "\n",
    "#printing results\n",
    "print(f\"r1ABC: {r1ABC:.5f}, r2ABC: {r2ABC:.5f}, r3ABC: {r3ABC:.5f}\")\n",
    "print(f\"r1CDA: {r1CDA:.5f}, r2CDA: {r2CDA:.5f}, r3CDA: {r3CDA:.5f}\")\n",
    "print()\n",
    "print(f\"We can see that the point y is in the triangle ABC, since r1ABC, r2ABC and r3ABC are all in the interval [0,1]\")"
   ]
  },
  {
   "cell_type": "markdown",
   "metadata": {},
   "source": [
    "Now consider the function:\n",
    "$$\n",
    "f(x_1,x_2) = x_1 \\cdot x_2\n",
    "$$"
   ]
  },
  {
   "cell_type": "code",
   "execution_count": null,
   "metadata": {},
   "outputs": [],
   "source": [
    "f = lambda x: x[0]*x[1]\n",
    "F = np.array([f(x) for x in X])"
   ]
  },
  {
   "cell_type": "markdown",
   "metadata": {},
   "source": [
    "**Question 3:** Compute the approximation of $f(y)$ using the full algorithm. Compare with the true value."
   ]
  },
  {
   "cell_type": "code",
   "execution_count": null,
   "metadata": {},
   "outputs": [
    {
     "name": "stdout",
     "output_type": "stream",
     "text": [
      "Approximation: 0.08405, True Value: 0.07896\n",
      "\n",
      "The approximated value of f(y) is 0.084 which is fairly close to the true value 0.079\n"
     ]
    }
   ],
   "source": [
    "#calculating the approximation using the algorithm and the true value\n",
    "approximation = r1ABC*f(A) + r2ABC*f(B) + r3ABC*f(C)\n",
    "true_value = f(y)\n",
    "\n",
    "#printing results\n",
    "print(f\"Approximation: {approximation:.5f}, True Value: {true_value:.5f}\")\n",
    "print()\n",
    "print(f\"The approximated value of f(y) is 0.084 which is fairly close to the true value 0.079\")"
   ]
  },
  {
   "cell_type": "markdown",
   "metadata": {},
   "source": [
    "**Question 4:** Repeat question 3 for all points in the set $Y$."
   ]
  },
  {
   "cell_type": "code",
   "execution_count": null,
   "metadata": {},
   "outputs": [],
   "source": [
    "Y = [(0.2,0.2),(0.8,0.2),(0.8,0.8),(0.2,0.8),(0.5,0.5)]"
   ]
  },
  {
   "cell_type": "code",
   "execution_count": null,
   "metadata": {},
   "outputs": [
    {
     "name": "stdout",
     "output_type": "stream",
     "text": [
      "y = (0.2, 0.2)\n",
      "Point A: [0.21316 0.27425]\n",
      "Point B: [0.24520 0.18479]\n",
      "Point C: [0.07873 0.18082]\n",
      "Point D: [0.10056 0.27952]\n",
      "r1ABC: 0.18055, r2ABC: 0.58268, r3ABC: 0.23678\n",
      "r1CDA: 0.75074, r2CDA: -0.77947, r3CDA: 1.02873\n",
      "Approximation: 0.04418\n",
      "True Value: 0.04000\n",
      "\n",
      "y = (0.8, 0.2)\n",
      "Point A: [0.80718 0.26837]\n",
      "Point B: [0.89823 0.07903]\n",
      "Point C: [0.58908 0.14639]\n",
      "Point D: [0.75117 0.27987]\n",
      "r1ABC: 0.58742, r2ABC: 0.26785, r3ABC: 0.14474\n",
      "r1CDA: 0.41876, r2CDA: -1.50239, r3CDA: 2.08363\n",
      "Approximation: 0.16715\n",
      "True Value: 0.16000\n",
      "\n",
      "y = (0.8, 0.8)\n",
      "Point A: NaN\n",
      "Point B: [0.97562 0.79943]\n",
      "Point C: [0.58876 0.61681]\n",
      "Point D: [0.46802 0.96493]\n",
      "r1ABC: NaN, r2ABC: NaN, r3ABC: NaN\n",
      "r1CDA: NaN, r2CDA: NaN, r3CDA: NaN\n",
      "Approximation: NaN\n",
      "True Value: 0.64000\n",
      "\n",
      "y = (0.2, 0.8)\n",
      "Point A: [0.27804 0.87496]\n",
      "Point B: [0.30945 0.79947]\n",
      "Point C: [0.13482 0.70289]\n",
      "Point D: NaN\n",
      "r1ABC: 0.65756, r2ABC: -0.16604, r3ABC: 0.50848\n",
      "r1CDA: NaN, r2CDA: NaN, r3CDA: NaN\n",
      "Approximation: NaN\n",
      "True Value: 0.16000\n",
      "\n",
      "y = (0.5, 0.5)\n",
      "Point A: [0.51893 0.59845]\n",
      "Point B: [0.58539 0.42030]\n",
      "Point C: [0.33386 0.42560]\n",
      "Point D: [0.40982 0.56582]\n",
      "r1ABC: 0.44073, r2ABC: 0.33624, r3ABC: 0.22303\n",
      "r1CDA: 0.78968, r2CDA: -1.16591, r3CDA: 1.37623\n",
      "Approximation: 0.25518\n",
      "True Value: 0.25000\n",
      "\n"
     ]
    }
   ],
   "source": [
    "#we run the optimization for all points in Y\n",
    "results = []\n",
    "for y in Y:\n",
    "    result = {'y': y}\n",
    "    for key, filter_condition in filter_conditions.items():\n",
    "        optimal_point, min_distance = find_optimal_point(y, filter_condition)\n",
    "        result[f\"optimal_point_{key}\"] = optimal_point\n",
    "        result[f\"min_distance_{key}\"] = min_distance\n",
    "    A = result[\"optimal_point_A\"]\n",
    "    B = result[\"optimal_point_B\"]\n",
    "    C = result[\"optimal_point_C\"]\n",
    "    D = result[\"optimal_point_D\"]\n",
    "    if A is not np.NaN and B is not np.NaN and C is not np.NaN:\n",
    "        result[\"r1ABC\"] = ((B[1]-C[1])*(y[0]-C[0])+(C[0]-B[0])*(y[1]-C[1]))/((B[1]-C[1])*(A[0]-C[0])+(C[0]-B[0])*(A[1]-C[1]))\n",
    "        result[\"r2ABC\"] = ((C[1]-A[1])*(y[0]-C[0])+(A[0]-C[0])*(y[1]-C[1]))/((B[1]-C[1])*(A[0]-C[0])+(C[0]-B[0])*(A[1]-C[1]))\n",
    "        result[\"r3ABC\"] = 1-result[\"r1ABC\"]-result[\"r2ABC\"]\n",
    "    else:\n",
    "        result[\"r1ABC\"] = result[\"r2ABC\"] = result[\"r3ABC\"] = np.NaN\n",
    "    if C is not np.NaN and D is not np.NaN and A is not np.NaN:\n",
    "        result[\"r1CDA\"] = ((D[1]-A[1])*(y[0]-A[0])+(A[0]-D[0])*(y[1]-A[1]))/((D[1]-A[1])*(C[0]-A[0])+(A[0]-D[0])*(C[1]-A[1]))\n",
    "        result[\"r2CDA\"] = ((A[1]-C[1])*(y[0]-A[0])+(C[0]-A[0])*(y[1]-A[1]))/((D[1]-A[1])*(C[0]-A[0])+(A[0]-D[0])*(C[1]-A[1]))\n",
    "        result[\"r3CDA\"] = 1-result[\"r1CDA\"]-result[\"r2CDA\"]\n",
    "    else:\n",
    "        result[\"r1CDA\"] = result[\"r2CDA\"] = result[\"r3CDA\"] = np.NaN\n",
    "    if result[\"r1ABC\"] is not np.NaN and result[\"r2ABC\"] is not np.NaN and result[\"r3ABC\"] is not np.NaN and result[\"r1CDA\"] is not np.NaN and result[\"r2CDA\"] is not np.NaN and result[\"r3CDA\"] is not np.NaN:\n",
    "        if 0 <= result[\"r1ABC\"] <= 1 and 0 <= result[\"r2ABC\"] <= 1 and 0 <= result[\"r3ABC\"] <= 1:\n",
    "            result[\"approx\"] = r1ABC*f(A) + r2ABC*f(B) + r3ABC*f(C)\n",
    "        else:\n",
    "            result[\"approx\"] = r1CDA*f(C) + r2CDA*f(D) + r3CDA*f(A)\n",
    "    else:\n",
    "        result[\"approx\"] = np.NaN\n",
    "    result[\"tv\"] = f(y)\n",
    "    results.append(result)\n",
    "\n",
    "#printing results\n",
    "for result in results:\n",
    "    print(f\"y = {result['y']}\")\n",
    "    for key in filter_conditions.keys():\n",
    "        if result[f'optimal_point_{key}'] is not np.NaN:\n",
    "            print(f\"Point {key}: [{result[f'optimal_point_{key}'][0]:.5f} {result[f'optimal_point_{key}'][1]:.5f}]\")\n",
    "        else:\n",
    "            print(f\"Point {key}: NaN\")\n",
    "    if result['r1ABC'] is not np.NaN and result['r1ABC'] is not np.NaN and result['r1ABC'] is not np.NaN:\n",
    "        print(f\"r1ABC: {result['r1ABC']:.5f}, r2ABC: {result['r2ABC']:.5f}, r3ABC: {result['r3ABC']:.5f}\")\n",
    "    else:\n",
    "        print(f\"r1ABC: NaN, r2ABC: NaN, r3ABC: NaN\")\n",
    "    if result['r1CDA'] is not np.NaN and result['r1CDA'] is not np.NaN and result['r1CDA'] is not np.NaN:\n",
    "        print(f\"r1CDA: {result['r1CDA']:.5f}, r2CDA: {result['r2CDA']:.5f}, r3CDA: {result['r3CDA']:.5f}\")\n",
    "    else:\n",
    "        print(f\"r1CDA: NaN, r2CDA: NaN, r3CDA: NaN\")\n",
    "    if result['approx'] is not np.NaN:\n",
    "        print(f\"Approximation: {result['approx']:.5f}\")\n",
    "    else:\n",
    "        print(f\"Approximation: NaN\")\n",
    "    if result['tv'] is not np.NaN:\n",
    "        print(f\"True Value: {result['tv']:.5f}\")\n",
    "    else:\n",
    "        print(f\"True Value: NaN\")\n",
    "    print()"
   ]
  }
 ],
 "metadata": {
  "language_info": {
   "name": "python"
  }
 },
 "nbformat": 4,
 "nbformat_minor": 2
}
